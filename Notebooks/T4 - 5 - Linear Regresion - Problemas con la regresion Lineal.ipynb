{
 "metadata": {
  "language_info": {
   "codemirror_mode": {
    "name": "ipython",
    "version": 3
   },
   "file_extension": ".py",
   "mimetype": "text/x-python",
   "name": "python",
   "nbconvert_exporter": "python",
   "pygments_lexer": "ipython3",
   "version": "3.7.4-final"
  },
  "orig_nbformat": 2,
  "kernelspec": {
   "name": "python_defaultSpec_1599678791965",
   "display_name": "Python 3.7.4 64-bit ('.venv': venv)"
  }
 },
 "nbformat": 4,
 "nbformat_minor": 2,
 "cells": [
  {
   "cell_type": "markdown",
   "metadata": {},
   "source": [
    "# El tratamiento de las variables categoricas"
   ]
  },
  {
   "cell_type": "code",
   "execution_count": 1,
   "metadata": {},
   "outputs": [],
   "source": [
    "from sklearn.linear_model import LinearRegression\n",
    "import pandas as pd\n",
    "import numpy as np"
   ]
  },
  {
   "cell_type": "code",
   "execution_count": 4,
   "metadata": {},
   "outputs": [
    {
     "output_type": "execute_result",
     "data": {
      "text/plain": "  Transaction ID  Age    Items   Monthly Income  Transaction Time  Record  \\\n0         TXN001    42       10            7313        627.668127       5   \n1         TXN002    24        8           17747        126.904567       3   \n2         TXN003    47       11           22845        873.469701       2   \n3         TXN004    50       11           18552        380.219428       7   \n4         TXN005    60        2           14439        403.374223       2   \n\n   Gender City Tier  Total Spend  \n0  Female    Tier 1  4198.385084  \n1  Female    Tier 2  4134.976648  \n2    Male    Tier 2  5166.614455  \n3  Female    Tier 1  7784.447676  \n4  Female    Tier 2  3254.160485  ",
      "text/html": "<div>\n<style scoped>\n    .dataframe tbody tr th:only-of-type {\n        vertical-align: middle;\n    }\n\n    .dataframe tbody tr th {\n        vertical-align: top;\n    }\n\n    .dataframe thead th {\n        text-align: right;\n    }\n</style>\n<table border=\"1\" class=\"dataframe\">\n  <thead>\n    <tr style=\"text-align: right;\">\n      <th></th>\n      <th>Transaction ID</th>\n      <th>Age</th>\n      <th>Items</th>\n      <th>Monthly Income</th>\n      <th>Transaction Time</th>\n      <th>Record</th>\n      <th>Gender</th>\n      <th>City Tier</th>\n      <th>Total Spend</th>\n    </tr>\n  </thead>\n  <tbody>\n    <tr>\n      <th>0</th>\n      <td>TXN001</td>\n      <td>42</td>\n      <td>10</td>\n      <td>7313</td>\n      <td>627.668127</td>\n      <td>5</td>\n      <td>Female</td>\n      <td>Tier 1</td>\n      <td>4198.385084</td>\n    </tr>\n    <tr>\n      <th>1</th>\n      <td>TXN002</td>\n      <td>24</td>\n      <td>8</td>\n      <td>17747</td>\n      <td>126.904567</td>\n      <td>3</td>\n      <td>Female</td>\n      <td>Tier 2</td>\n      <td>4134.976648</td>\n    </tr>\n    <tr>\n      <th>2</th>\n      <td>TXN003</td>\n      <td>47</td>\n      <td>11</td>\n      <td>22845</td>\n      <td>873.469701</td>\n      <td>2</td>\n      <td>Male</td>\n      <td>Tier 2</td>\n      <td>5166.614455</td>\n    </tr>\n    <tr>\n      <th>3</th>\n      <td>TXN004</td>\n      <td>50</td>\n      <td>11</td>\n      <td>18552</td>\n      <td>380.219428</td>\n      <td>7</td>\n      <td>Female</td>\n      <td>Tier 1</td>\n      <td>7784.447676</td>\n    </tr>\n    <tr>\n      <th>4</th>\n      <td>TXN005</td>\n      <td>60</td>\n      <td>2</td>\n      <td>14439</td>\n      <td>403.374223</td>\n      <td>2</td>\n      <td>Female</td>\n      <td>Tier 2</td>\n      <td>3254.160485</td>\n    </tr>\n  </tbody>\n</table>\n</div>"
     },
     "metadata": {},
     "execution_count": 4
    }
   ],
   "source": [
    "df = pd.read_csv(\"../../datasets/ecom-expense/Ecom Expense.csv\")\n",
    "df.head()"
   ]
  },
  {
   "cell_type": "markdown",
   "metadata": {},
   "source": [
    "Entre las variables asociadas a una transaccion bancaria tenemos dos variables no numéricas, dos variables **categóricas**: el sexo y el barrio de la ciudad.\n",
    "\n",
    "### pd.get_dummies\n",
    "Para tenerlas en cuenta en la simulación lo que se hace es usar variables *Dummy*: variables que toman valor 1 cuando es una de las categorías y cero en las demas. Con la funcion get_dummies de pandas, pasandole la columna de la variable categórica nos la desdobla en tantas columnas como categorías haya y nos la puebla con 1 o 0"
   ]
  },
  {
   "cell_type": "code",
   "execution_count": 11,
   "metadata": {},
   "outputs": [],
   "source": [
    "dummy_gender = pd.get_dummies(df[\"Gender\"], prefix = \"Gender\")\n",
    "dummy_city_tier = pd.get_dummies(df[\"City Tier\"], prefix = \"City\")"
   ]
  },
  {
   "cell_type": "code",
   "execution_count": 12,
   "metadata": {},
   "outputs": [
    {
     "output_type": "execute_result",
     "data": {
      "text/plain": "   Gender_Female  Gender_Male\n0              1            0\n1              1            0\n2              0            1\n3              1            0\n4              1            0",
      "text/html": "<div>\n<style scoped>\n    .dataframe tbody tr th:only-of-type {\n        vertical-align: middle;\n    }\n\n    .dataframe tbody tr th {\n        vertical-align: top;\n    }\n\n    .dataframe thead th {\n        text-align: right;\n    }\n</style>\n<table border=\"1\" class=\"dataframe\">\n  <thead>\n    <tr style=\"text-align: right;\">\n      <th></th>\n      <th>Gender_Female</th>\n      <th>Gender_Male</th>\n    </tr>\n  </thead>\n  <tbody>\n    <tr>\n      <th>0</th>\n      <td>1</td>\n      <td>0</td>\n    </tr>\n    <tr>\n      <th>1</th>\n      <td>1</td>\n      <td>0</td>\n    </tr>\n    <tr>\n      <th>2</th>\n      <td>0</td>\n      <td>1</td>\n    </tr>\n    <tr>\n      <th>3</th>\n      <td>1</td>\n      <td>0</td>\n    </tr>\n    <tr>\n      <th>4</th>\n      <td>1</td>\n      <td>0</td>\n    </tr>\n  </tbody>\n</table>\n</div>"
     },
     "metadata": {},
     "execution_count": 12
    }
   ],
   "source": [
    "dummy_gender.head()"
   ]
  },
  {
   "cell_type": "code",
   "execution_count": 7,
   "metadata": {},
   "outputs": [
    {
     "output_type": "execute_result",
     "data": {
      "text/plain": "   City_Tier 1  City_Tier 2  City_Tier 3\n0            1            0            0\n1            0            1            0\n2            0            1            0\n3            1            0            0\n4            0            1            0",
      "text/html": "<div>\n<style scoped>\n    .dataframe tbody tr th:only-of-type {\n        vertical-align: middle;\n    }\n\n    .dataframe tbody tr th {\n        vertical-align: top;\n    }\n\n    .dataframe thead th {\n        text-align: right;\n    }\n</style>\n<table border=\"1\" class=\"dataframe\">\n  <thead>\n    <tr style=\"text-align: right;\">\n      <th></th>\n      <th>City_Tier 1</th>\n      <th>City_Tier 2</th>\n      <th>City_Tier 3</th>\n    </tr>\n  </thead>\n  <tbody>\n    <tr>\n      <th>0</th>\n      <td>1</td>\n      <td>0</td>\n      <td>0</td>\n    </tr>\n    <tr>\n      <th>1</th>\n      <td>0</td>\n      <td>1</td>\n      <td>0</td>\n    </tr>\n    <tr>\n      <th>2</th>\n      <td>0</td>\n      <td>1</td>\n      <td>0</td>\n    </tr>\n    <tr>\n      <th>3</th>\n      <td>1</td>\n      <td>0</td>\n      <td>0</td>\n    </tr>\n    <tr>\n      <th>4</th>\n      <td>0</td>\n      <td>1</td>\n      <td>0</td>\n    </tr>\n  </tbody>\n</table>\n</div>"
     },
     "metadata": {},
     "execution_count": 7
    }
   ],
   "source": [
    "dummy_city_tier.head()"
   ]
  },
  {
   "cell_type": "code",
   "execution_count": 16,
   "metadata": {},
   "outputs": [
    {
     "output_type": "execute_result",
     "data": {
      "text/plain": "  Transaction ID  Age    Items   Monthly Income  Transaction Time  Record  \\\n0         TXN001    42       10            7313        627.668127       5   \n1         TXN002    24        8           17747        126.904567       3   \n2         TXN003    47       11           22845        873.469701       2   \n3         TXN004    50       11           18552        380.219428       7   \n4         TXN005    60        2           14439        403.374223       2   \n\n   Gender City Tier  Total Spend  Gender_Female  Gender_Male  City_Tier 1  \\\n0  Female    Tier 1  4198.385084              1            0            1   \n1  Female    Tier 2  4134.976648              1            0            0   \n2    Male    Tier 2  5166.614455              0            1            0   \n3  Female    Tier 1  7784.447676              1            0            1   \n4  Female    Tier 2  3254.160485              1            0            0   \n\n   City_Tier 2  City_Tier 3  \n0            0            0  \n1            1            0  \n2            1            0  \n3            0            0  \n4            1            0  ",
      "text/html": "<div>\n<style scoped>\n    .dataframe tbody tr th:only-of-type {\n        vertical-align: middle;\n    }\n\n    .dataframe tbody tr th {\n        vertical-align: top;\n    }\n\n    .dataframe thead th {\n        text-align: right;\n    }\n</style>\n<table border=\"1\" class=\"dataframe\">\n  <thead>\n    <tr style=\"text-align: right;\">\n      <th></th>\n      <th>Transaction ID</th>\n      <th>Age</th>\n      <th>Items</th>\n      <th>Monthly Income</th>\n      <th>Transaction Time</th>\n      <th>Record</th>\n      <th>Gender</th>\n      <th>City Tier</th>\n      <th>Total Spend</th>\n      <th>Gender_Female</th>\n      <th>Gender_Male</th>\n      <th>City_Tier 1</th>\n      <th>City_Tier 2</th>\n      <th>City_Tier 3</th>\n    </tr>\n  </thead>\n  <tbody>\n    <tr>\n      <th>0</th>\n      <td>TXN001</td>\n      <td>42</td>\n      <td>10</td>\n      <td>7313</td>\n      <td>627.668127</td>\n      <td>5</td>\n      <td>Female</td>\n      <td>Tier 1</td>\n      <td>4198.385084</td>\n      <td>1</td>\n      <td>0</td>\n      <td>1</td>\n      <td>0</td>\n      <td>0</td>\n    </tr>\n    <tr>\n      <th>1</th>\n      <td>TXN002</td>\n      <td>24</td>\n      <td>8</td>\n      <td>17747</td>\n      <td>126.904567</td>\n      <td>3</td>\n      <td>Female</td>\n      <td>Tier 2</td>\n      <td>4134.976648</td>\n      <td>1</td>\n      <td>0</td>\n      <td>0</td>\n      <td>1</td>\n      <td>0</td>\n    </tr>\n    <tr>\n      <th>2</th>\n      <td>TXN003</td>\n      <td>47</td>\n      <td>11</td>\n      <td>22845</td>\n      <td>873.469701</td>\n      <td>2</td>\n      <td>Male</td>\n      <td>Tier 2</td>\n      <td>5166.614455</td>\n      <td>0</td>\n      <td>1</td>\n      <td>0</td>\n      <td>1</td>\n      <td>0</td>\n    </tr>\n    <tr>\n      <th>3</th>\n      <td>TXN004</td>\n      <td>50</td>\n      <td>11</td>\n      <td>18552</td>\n      <td>380.219428</td>\n      <td>7</td>\n      <td>Female</td>\n      <td>Tier 1</td>\n      <td>7784.447676</td>\n      <td>1</td>\n      <td>0</td>\n      <td>1</td>\n      <td>0</td>\n      <td>0</td>\n    </tr>\n    <tr>\n      <th>4</th>\n      <td>TXN005</td>\n      <td>60</td>\n      <td>2</td>\n      <td>14439</td>\n      <td>403.374223</td>\n      <td>2</td>\n      <td>Female</td>\n      <td>Tier 2</td>\n      <td>3254.160485</td>\n      <td>1</td>\n      <td>0</td>\n      <td>0</td>\n      <td>1</td>\n      <td>0</td>\n    </tr>\n  </tbody>\n</table>\n</div>"
     },
     "metadata": {},
     "execution_count": 16
    }
   ],
   "source": [
    "df_new = pd.concat([df, dummy_gender, dummy_city_tier], axis=1, sort=False)\n",
    "df_new.head()"
   ]
  },
  {
   "cell_type": "markdown",
   "metadata": {},
   "source": [
    "## Creación del modelo\n",
    "### Preparacion de los recordsets X e Y\n",
    "necesito \n",
    "- X: un df con las columnas predictoras \n",
    "- Y: un df con la columna a predecir"
   ]
  },
  {
   "cell_type": "code",
   "execution_count": 17,
   "metadata": {},
   "outputs": [
    {
     "output_type": "execute_result",
     "data": {
      "text/plain": "Index(['Transaction ID', 'Age ', ' Items ', 'Monthly Income',\n       'Transaction Time', 'Record', 'Gender', 'City Tier', 'Total Spend',\n       'Gender_Female', 'Gender_Male', 'City_Tier 1', 'City_Tier 2',\n       'City_Tier 3'],\n      dtype='object')"
     },
     "metadata": {},
     "execution_count": 17
    }
   ],
   "source": [
    "df_new.columns"
   ]
  },
  {
   "cell_type": "code",
   "execution_count": 18,
   "metadata": {},
   "outputs": [],
   "source": [
    "feature_cols = ['Monthly Income',\n",
    "       'Transaction Time',\n",
    "       'Gender_Female', 'Gender_Male', 'City_Tier 1', 'City_Tier 2',\n",
    "       'City_Tier 3']"
   ]
  },
  {
   "cell_type": "code",
   "execution_count": 19,
   "metadata": {},
   "outputs": [],
   "source": [
    "X = df_new[feature_cols]\n",
    "Y = df_new[\"Total Spend\"]"
   ]
  },
  {
   "cell_type": "markdown",
   "metadata": {},
   "source": [
    "### Preparacion del modelo \n",
    "Y = a0 + a1x1 + a2x2 + ...\n",
    "- Ajuste con LinearRegression.fit del modelo\n",
    "- Extraccion del corte con el eje (a0) con intercept_\n",
    "- Extraccion del resto de coefs (a1... an) con coef_\n",
    "\n",
    "Para combinar cada coef con su columna podemos zipearlos."
   ]
  },
  {
   "cell_type": "code",
   "execution_count": 21,
   "metadata": {
    "tags": []
   },
   "outputs": [
    {
     "output_type": "stream",
     "name": "stdout",
     "text": "3655.7294076906537\n[   0.15297825    0.12372609  -94.15779883   94.15779883  119.6632516\n  -16.67901801 -102.9842336 ]\n"
    }
   ],
   "source": [
    "lm = LinearRegression()\n",
    "lm.fit(X,Y)\n",
    "print (lm.intercept_)\n",
    "print (lm.coef_)"
   ]
  },
  {
   "cell_type": "code",
   "execution_count": 24,
   "metadata": {},
   "outputs": [
    {
     "output_type": "execute_result",
     "data": {
      "text/plain": "[('Monthly Income', 0.15297824609320512),\n ('Transaction Time', 0.1237260864262),\n ('Gender_Female', -94.15779883032016),\n ('Gender_Male', 94.15779883032022),\n ('City_Tier 1', 119.66325160390089),\n ('City_Tier 2', -16.679018007990205),\n ('City_Tier 3', -102.98423359591068)]"
     },
     "metadata": {},
     "execution_count": 24
    }
   ],
   "source": [
    "list(zip(feature_cols, lm.coef_))"
   ]
  },
  {
   "cell_type": "markdown",
   "metadata": {},
   "source": [
    "### Evaluación de la bondad del modelo\n",
    "- factor de r^2. CUanto más cerca de 1 mejor\n"
   ]
  },
  {
   "cell_type": "code",
   "execution_count": 25,
   "metadata": {},
   "outputs": [
    {
     "output_type": "execute_result",
     "data": {
      "text/plain": "0.19478920552885381"
     },
     "metadata": {},
     "execution_count": 25
    }
   ],
   "source": [
    "lm.score(X,Y)"
   ]
  },
  {
   "cell_type": "markdown",
   "metadata": {},
   "source": [
    "### añadimos una variable: record\n",
    "- Definimos nuevo X"
   ]
  },
  {
   "cell_type": "code",
   "execution_count": 27,
   "metadata": {},
   "outputs": [],
   "source": [
    "feature_cols = ['Monthly Income', 'Transaction Time', \n",
    "       'Record',\n",
    "       'Gender_Female', 'Gender_Male', 'City_Tier 1', 'City_Tier 2', 'City_Tier 3']\n",
    "X = df_new[feature_cols]\n",
    "\n"
   ]
  },
  {
   "cell_type": "markdown",
   "metadata": {},
   "source": [
    "- preparamos el modelo con linearregression.fit\n",
    "- Comprobamos bondad"
   ]
  },
  {
   "cell_type": "code",
   "execution_count": 29,
   "metadata": {
    "tags": []
   },
   "outputs": [
    {
     "output_type": "execute_result",
     "data": {
      "text/plain": "0.9179923586131016"
     },
     "metadata": {},
     "execution_count": 29
    }
   ],
   "source": [
    "lm = LinearRegression()\n",
    "lm.fit(X,Y)\n",
    "lm.score(X,Y)"
   ]
  },
  {
   "cell_type": "markdown",
   "metadata": {},
   "source": [
    "### Añadimos edad\n",
    "'Age ': chequear la lista de las columnas\n",
    "- definimos nuevo X\n",
    "- preparamos el modelo con LinearRegression.fit \n",
    "- comprobamos bondad"
   ]
  },
  {
   "cell_type": "code",
   "execution_count": 34,
   "metadata": {},
   "outputs": [
    {
     "output_type": "execute_result",
     "data": {
      "text/plain": "0.9187458997709432"
     },
     "metadata": {},
     "execution_count": 34
    }
   ],
   "source": [
    "feature_cols = ['Monthly Income', 'Transaction Time', 'Record',\n",
    "        'Age ',\n",
    "       'Gender_Female', 'Gender_Male', 'City_Tier 1', 'City_Tier 2', 'City_Tier 3']\n",
    "X = df_new[feature_cols]\n",
    "lm = LinearRegression()\n",
    "lm.fit(X,Y)\n",
    "lm.score(X,Y)"
   ]
  },
  {
   "cell_type": "code",
   "execution_count": null,
   "metadata": {},
   "outputs": [],
   "source": [
    "### Quitamos transaction time\n",
    "- definimos nuevo X\n",
    "- preparamos el modelo con LinearRegression.fit \n",
    "- comprobamos bondad"
   ]
  },
  {
   "cell_type": "code",
   "execution_count": 35,
   "metadata": {},
   "outputs": [
    {
     "output_type": "execute_result",
     "data": {
      "text/plain": "0.9184914879534127"
     },
     "metadata": {},
     "execution_count": 35
    }
   ],
   "source": [
    "feature_cols = ['Monthly Income',  'Record',\n",
    "        'Age ',\n",
    "       'Gender_Female', 'Gender_Male', 'City_Tier 1', 'City_Tier 2', 'City_Tier 3']\n",
    "X = df_new[feature_cols]\n",
    "lm = LinearRegression()\n",
    "lm.fit(X,Y)\n",
    "lm.score(X,Y)"
   ]
  },
  {
   "cell_type": "code",
   "execution_count": 36,
   "metadata": {
    "tags": []
   },
   "outputs": [
    {
     "output_type": "stream",
     "name": "stdout",
     "text": "-252.92285444333083\n"
    },
    {
     "output_type": "execute_result",
     "data": {
      "text/plain": "[('Monthly Income', 0.1471926295577822),\n ('Record', 772.0952374800315),\n ('Age ', 6.404251233410378),\n ('Gender_Female', -134.82323175539614),\n ('Gender_Male', 134.82323175539602),\n ('City_Tier 1', 78.7493200419608),\n ('City_Tier 2', 51.6705421548436),\n ('City_Tier 3', -130.41986219680444)]"
     },
     "metadata": {},
     "execution_count": 36
    }
   ],
   "source": [
    "print (lm.intercept_)\n",
    "list(zip(feature_cols, lm.coef_))"
   ]
  },
  {
   "cell_type": "markdown",
   "metadata": {},
   "source": [
    "Nos quedamos con este, 8 variables\n",
    "\n",
    "Total_Spend = -252.92285444333083+ 'Monthly Income' * 0.1471926295577822 +  'Record' * 772.0952374800315 +  'Age ' * 6.404251233410378 +\n",
    " 'Gender_Female' * -134.82323175539614 +\n",
    " 'Gender_Male' * 134.82323175539602 +\n",
    " 'City_Tier 1' * 78.7493200419608 +\n",
    " 'City_Tier 2' * 51.6705421548436 +\n",
    " 'City_Tier 3' * -130.41986219680444\n",
    "\n",
    " Entendiendo el modelo\n",
    "\n",
    " - Hombre de tier 1\n",
    "Total_Spend = -252.92285444333083+ 'Monthly Income' * 0.1471926295577822 +  'Record' * 772.0952374800315 +  'Age ' * 6.404251233410378 + 134.82323175539602 + 78.7493200419608\n",
    "- Hombre de tier 2\n",
    "Total_Spend = -252.92285444333083+ 'Monthly Income' * 0.1471926295577822 +  'Record' * 772.0952374800315 +  'Age ' * 6.404251233410378 + 134.82323175539602 + 51.6705421548436\n",
    "- Hombre del tier 3\n",
    "Total_Spend = -252.92285444333083+ 'Monthly Income' * 0.1471926295577822 +  'Record' * 772.0952374800315 +  'Age ' * 6.404251233410378 + 134.82323175539602 -130.41986219680444\n",
    "\n",
    " - Mujer de tier 1\n",
    "Total_Spend = -252.92285444333083+ 'Monthly Income' * 0.1471926295577822 +  'Record' * 772.0952374800315 +  'Age ' * 6.404251233410378 - 134.82323175539602 + 78.7493200419608\n",
    "- Mujer de tier 2\n",
    "Total_Spend = -252.92285444333083+ 'Monthly Income' * 0.1471926295577822 +  'Record' * 772.0952374800315 +  'Age ' * 6.404251233410378 - 134.82323175539602 + 51.6705421548436\n",
    "- Mujer del tier 3\n",
    "Total_Spend = -252.92285444333083+ 'Monthly Income' * 0.1471926295577822 +  'Record' * 772.0952374800315 +  'Age ' * 6.404251233410378 - 134.82323175539602 -130.41986219680444\n",
    "\n",
    "\n",
    "## Chequeo del Modelo\n",
    "Chequeamos a mano. \n",
    "- Calculamos la columna predecida *con el modelo* lm.predict\n",
    "- suma de los cuadrados de las diferencias (SSD)\n",
    "- desviación típica de los residuos\n"
   ]
  },
  {
   "cell_type": "code",
   "execution_count": 57,
   "metadata": {},
   "outputs": [],
   "source": [
    "### Esto es una burrada. Chicos no lo hagais en casa\n",
    "df_new[\"prediction_caca\"] = -252.92285444333083 + df_new['Monthly Income'] * 0.1471926295577822 + df_new['Record'] * 772.0952374800315 + df_new['Age '] * 6.404251233410378 - df_new['Gender_Female'] * 134.82323175539614 + df_new['Gender_Male'] * 134.82323175539602 + df_new['City_Tier 1'] * 78.7493200419608 + df_new['City_Tier 2'] * 51.6705421548436 - df_new['City_Tier 3'] * 130.41986219680444\n",
    "\n",
    "## esto es lo correcto\n",
    "df_new[\"prediction\"] = lm.predict(df_new[feature_cols])\n"
   ]
  },
  {
   "cell_type": "code",
   "execution_count": 58,
   "metadata": {},
   "outputs": [
    {
     "output_type": "execute_result",
     "data": {
      "text/plain": "  Transaction ID  Age    Items   Monthly Income  Transaction Time  Record  \\\n0         TXN001    42       10            7313        627.668127       5   \n1         TXN002    24        8           17747        126.904567       3   \n2         TXN003    47       11           22845        873.469701       2   \n3         TXN004    50       11           18552        380.219428       7   \n4         TXN005    60        2           14439        403.374223       2   \n\n   Gender City Tier  Total Spend  Gender_Female  Gender_Male  City_Tier 1  \\\n0  Female    Tier 1  4198.385084              1            0            1   \n1  Female    Tier 2  4134.976648              1            0            0   \n2    Male    Tier 2  5166.614455              0            1            0   \n3  Female    Tier 1  7784.447676              1            0            1   \n4  Female    Tier 2  3254.160485              1            0            0   \n\n   City_Tier 2  City_Tier 3   prediction         RSE  prediction_caca  \n0            0            0  4896.877673  698.492589      4896.877673  \n1            1            0  4746.139795  611.163147      4746.139795  \n2            1            0  5141.376825  -25.237630      5141.376825  \n3            0            0  8146.600121  362.152445      8146.600121  \n4            1            0  3717.684383  463.523898      3717.684383  ",
      "text/html": "<div>\n<style scoped>\n    .dataframe tbody tr th:only-of-type {\n        vertical-align: middle;\n    }\n\n    .dataframe tbody tr th {\n        vertical-align: top;\n    }\n\n    .dataframe thead th {\n        text-align: right;\n    }\n</style>\n<table border=\"1\" class=\"dataframe\">\n  <thead>\n    <tr style=\"text-align: right;\">\n      <th></th>\n      <th>Transaction ID</th>\n      <th>Age</th>\n      <th>Items</th>\n      <th>Monthly Income</th>\n      <th>Transaction Time</th>\n      <th>Record</th>\n      <th>Gender</th>\n      <th>City Tier</th>\n      <th>Total Spend</th>\n      <th>Gender_Female</th>\n      <th>Gender_Male</th>\n      <th>City_Tier 1</th>\n      <th>City_Tier 2</th>\n      <th>City_Tier 3</th>\n      <th>prediction</th>\n      <th>RSE</th>\n      <th>prediction_caca</th>\n    </tr>\n  </thead>\n  <tbody>\n    <tr>\n      <th>0</th>\n      <td>TXN001</td>\n      <td>42</td>\n      <td>10</td>\n      <td>7313</td>\n      <td>627.668127</td>\n      <td>5</td>\n      <td>Female</td>\n      <td>Tier 1</td>\n      <td>4198.385084</td>\n      <td>1</td>\n      <td>0</td>\n      <td>1</td>\n      <td>0</td>\n      <td>0</td>\n      <td>4896.877673</td>\n      <td>698.492589</td>\n      <td>4896.877673</td>\n    </tr>\n    <tr>\n      <th>1</th>\n      <td>TXN002</td>\n      <td>24</td>\n      <td>8</td>\n      <td>17747</td>\n      <td>126.904567</td>\n      <td>3</td>\n      <td>Female</td>\n      <td>Tier 2</td>\n      <td>4134.976648</td>\n      <td>1</td>\n      <td>0</td>\n      <td>0</td>\n      <td>1</td>\n      <td>0</td>\n      <td>4746.139795</td>\n      <td>611.163147</td>\n      <td>4746.139795</td>\n    </tr>\n    <tr>\n      <th>2</th>\n      <td>TXN003</td>\n      <td>47</td>\n      <td>11</td>\n      <td>22845</td>\n      <td>873.469701</td>\n      <td>2</td>\n      <td>Male</td>\n      <td>Tier 2</td>\n      <td>5166.614455</td>\n      <td>0</td>\n      <td>1</td>\n      <td>0</td>\n      <td>1</td>\n      <td>0</td>\n      <td>5141.376825</td>\n      <td>-25.237630</td>\n      <td>5141.376825</td>\n    </tr>\n    <tr>\n      <th>3</th>\n      <td>TXN004</td>\n      <td>50</td>\n      <td>11</td>\n      <td>18552</td>\n      <td>380.219428</td>\n      <td>7</td>\n      <td>Female</td>\n      <td>Tier 1</td>\n      <td>7784.447676</td>\n      <td>1</td>\n      <td>0</td>\n      <td>1</td>\n      <td>0</td>\n      <td>0</td>\n      <td>8146.600121</td>\n      <td>362.152445</td>\n      <td>8146.600121</td>\n    </tr>\n    <tr>\n      <th>4</th>\n      <td>TXN005</td>\n      <td>60</td>\n      <td>2</td>\n      <td>14439</td>\n      <td>403.374223</td>\n      <td>2</td>\n      <td>Female</td>\n      <td>Tier 2</td>\n      <td>3254.160485</td>\n      <td>1</td>\n      <td>0</td>\n      <td>0</td>\n      <td>1</td>\n      <td>0</td>\n      <td>3717.684383</td>\n      <td>463.523898</td>\n      <td>3717.684383</td>\n    </tr>\n  </tbody>\n</table>\n</div>"
     },
     "metadata": {},
     "execution_count": 58
    }
   ],
   "source": [
    "df_new.head()"
   ]
  },
  {
   "cell_type": "code",
   "execution_count": 60,
   "metadata": {},
   "outputs": [
    {
     "output_type": "execute_result",
     "data": {
      "text/plain": "(1508496485.6388445, 1508496485.6388407)"
     },
     "metadata": {},
     "execution_count": 60
    }
   ],
   "source": [
    "df_new[\"RSE\"] = df_new[\"prediction\"]-df_new[\"Total Spend\"]\n",
    "SSD1 = sum(df_new[\"RSE\"]**2)\n",
    "\n",
    "SSD = np.sum((df_new[\"prediction\"]-df_new[\"Total Spend\"])**2)\n",
    "SSD, SSD1"
   ]
  },
  {
   "cell_type": "code",
   "execution_count": 61,
   "metadata": {},
   "outputs": [
    {
     "output_type": "execute_result",
     "data": {
      "text/plain": "800.6840694194143"
     },
     "metadata": {},
     "execution_count": 61
    }
   ],
   "source": [
    "# los euros en los que nos equivocamos al predecir\n",
    "RSE = np.sqrt(SSD/(len(df_new)-len(feature_cols)-1))\n",
    "RSE"
   ]
  },
  {
   "cell_type": "code",
   "execution_count": 62,
   "metadata": {},
   "outputs": [
    {
     "output_type": "execute_result",
     "data": {
      "text/plain": "6163.176415976715"
     },
     "metadata": {},
     "execution_count": 62
    }
   ],
   "source": [
    "# Los euros que de media se gasta la peña\n",
    "spend_mean = np.mean(df_new[\"Total Spend\"])\n",
    "spend_mean"
   ]
  },
  {
   "cell_type": "code",
   "execution_count": 63,
   "metadata": {
    "tags": []
   },
   "outputs": [
    {
     "output_type": "stream",
     "name": "stdout",
     "text": "12.991418959610051%\n"
    }
   ],
   "source": [
    "error = (RSE/spend_mean)*100\n",
    "print (f\"{error}%\")"
   ]
  }
 ]
}