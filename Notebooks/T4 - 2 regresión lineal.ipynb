{
 "metadata": {
  "language_info": {
   "codemirror_mode": {
    "name": "ipython",
    "version": 3
   },
   "file_extension": ".py",
   "mimetype": "text/x-python",
   "name": "python",
   "nbconvert_exporter": "python",
   "pygments_lexer": "ipython3",
   "version": "3.7.4-final"
  },
  "orig_nbformat": 2,
  "kernelspec": {
   "name": "python_defaultSpec_1597783060481",
   "display_name": "Python 3.7.4 64-bit ('.venv': venv)"
  }
 },
 "nbformat": 4,
 "nbformat_minor": 2,
 "cells": [
  {
   "cell_type": "markdown",
   "metadata": {},
   "source": [
    "# Regresion lineal en Python\n",
    "\n",
    "## Regresión lineal simple.\n",
    "### Paquete statsmodel de regresion lineal\n",
    "\n",
    "Vamos a usar el dataset de gasto en publicidad vs resultado en ventas que ya vimos. En su momento vimos que el mas correlacionado era el gasto en TV, vamos a demostrarlo. \n",
    "\n",
    "En el notebook T4 - 1 1 p-value for linear regression.ipynb vimos que se usaba la función de minimmos cuadrados (least squares) `ols()` de `statsmodels.formula.api` (smf). En el primer parámetro se pasan las variables a contrastar y en el segundo el dataset. Finalmente se llama a fit() para entrenar el modelo lineal.\n"
   ]
  },
  {
   "cell_type": "code",
   "execution_count": 2,
   "metadata": {},
   "outputs": [],
   "source": [
    "import pandas as pd\n",
    "import numpy as np\n",
    "import matplotlib.pyplot as plt\n",
    "import statsmodels.formula.api as smf\n",
    "\n",
    "from IPython.display import Image # para incluir imagenes local"
   ]
  },
  {
   "cell_type": "code",
   "execution_count": 3,
   "metadata": {},
   "outputs": [
    {
     "output_type": "execute_result",
     "data": {
      "text/plain": "      TV  Radio  Newspaper  Sales\n0  230.1   37.8       69.2   22.1\n1   44.5   39.3       45.1   10.4\n2   17.2   45.9       69.3    9.3\n3  151.5   41.3       58.5   18.5\n4  180.8   10.8       58.4   12.9",
      "text/html": "<div>\n<style scoped>\n    .dataframe tbody tr th:only-of-type {\n        vertical-align: middle;\n    }\n\n    .dataframe tbody tr th {\n        vertical-align: top;\n    }\n\n    .dataframe thead th {\n        text-align: right;\n    }\n</style>\n<table border=\"1\" class=\"dataframe\">\n  <thead>\n    <tr style=\"text-align: right;\">\n      <th></th>\n      <th>TV</th>\n      <th>Radio</th>\n      <th>Newspaper</th>\n      <th>Sales</th>\n    </tr>\n  </thead>\n  <tbody>\n    <tr>\n      <th>0</th>\n      <td>230.1</td>\n      <td>37.8</td>\n      <td>69.2</td>\n      <td>22.1</td>\n    </tr>\n    <tr>\n      <th>1</th>\n      <td>44.5</td>\n      <td>39.3</td>\n      <td>45.1</td>\n      <td>10.4</td>\n    </tr>\n    <tr>\n      <th>2</th>\n      <td>17.2</td>\n      <td>45.9</td>\n      <td>69.3</td>\n      <td>9.3</td>\n    </tr>\n    <tr>\n      <th>3</th>\n      <td>151.5</td>\n      <td>41.3</td>\n      <td>58.5</td>\n      <td>18.5</td>\n    </tr>\n    <tr>\n      <th>4</th>\n      <td>180.8</td>\n      <td>10.8</td>\n      <td>58.4</td>\n      <td>12.9</td>\n    </tr>\n  </tbody>\n</table>\n</div>"
     },
     "metadata": {},
     "execution_count": 3
    }
   ],
   "source": [
    "data_ads = pd.read_csv(\"../../datasets/ads/advertising.csv\")\n",
    "data_ads.head()"
   ]
  },
  {
   "cell_type": "code",
   "execution_count": 4,
   "metadata": {
    "tags": []
   },
   "outputs": [
    {
     "output_type": "execute_result",
     "data": {
      "text/plain": "<class 'statsmodels.iolib.summary.Summary'>\n\"\"\"\n                            OLS Regression Results                            \n==============================================================================\nDep. Variable:                  Sales   R-squared:                       0.612\nModel:                            OLS   Adj. R-squared:                  0.610\nMethod:                 Least Squares   F-statistic:                     312.1\nDate:                Tue, 18 Aug 2020   Prob (F-statistic):           1.47e-42\nTime:                        22:38:18   Log-Likelihood:                -519.05\nNo. Observations:                 200   AIC:                             1042.\nDf Residuals:                     198   BIC:                             1049.\nDf Model:                           1                                         \nCovariance Type:            nonrobust                                         \n==============================================================================\n                 coef    std err          t      P>|t|      [0.025      0.975]\n------------------------------------------------------------------------------\nIntercept      7.0326      0.458     15.360      0.000       6.130       7.935\nTV             0.0475      0.003     17.668      0.000       0.042       0.053\n==============================================================================\nOmnibus:                        0.531   Durbin-Watson:                   1.935\nProb(Omnibus):                  0.767   Jarque-Bera (JB):                0.669\nSkew:                          -0.089   Prob(JB):                        0.716\nKurtosis:                       2.779   Cond. No.                         338.\n==============================================================================\n\nWarnings:\n[1] Standard Errors assume that the covariance matrix of the errors is correctly specified.\n\"\"\"",
      "text/html": "<table class=\"simpletable\">\n<caption>OLS Regression Results</caption>\n<tr>\n  <th>Dep. Variable:</th>          <td>Sales</td>      <th>  R-squared:         </th> <td>   0.612</td>\n</tr>\n<tr>\n  <th>Model:</th>                   <td>OLS</td>       <th>  Adj. R-squared:    </th> <td>   0.610</td>\n</tr>\n<tr>\n  <th>Method:</th>             <td>Least Squares</td>  <th>  F-statistic:       </th> <td>   312.1</td>\n</tr>\n<tr>\n  <th>Date:</th>             <td>Tue, 18 Aug 2020</td> <th>  Prob (F-statistic):</th> <td>1.47e-42</td>\n</tr>\n<tr>\n  <th>Time:</th>                 <td>22:38:18</td>     <th>  Log-Likelihood:    </th> <td> -519.05</td>\n</tr>\n<tr>\n  <th>No. Observations:</th>      <td>   200</td>      <th>  AIC:               </th> <td>   1042.</td>\n</tr>\n<tr>\n  <th>Df Residuals:</th>          <td>   198</td>      <th>  BIC:               </th> <td>   1049.</td>\n</tr>\n<tr>\n  <th>Df Model:</th>              <td>     1</td>      <th>                     </th>     <td> </td>   \n</tr>\n<tr>\n  <th>Covariance Type:</th>      <td>nonrobust</td>    <th>                     </th>     <td> </td>   \n</tr>\n</table>\n<table class=\"simpletable\">\n<tr>\n      <td></td>         <th>coef</th>     <th>std err</th>      <th>t</th>      <th>P>|t|</th>  <th>[0.025</th>    <th>0.975]</th>  \n</tr>\n<tr>\n  <th>Intercept</th> <td>    7.0326</td> <td>    0.458</td> <td>   15.360</td> <td> 0.000</td> <td>    6.130</td> <td>    7.935</td>\n</tr>\n<tr>\n  <th>TV</th>        <td>    0.0475</td> <td>    0.003</td> <td>   17.668</td> <td> 0.000</td> <td>    0.042</td> <td>    0.053</td>\n</tr>\n</table>\n<table class=\"simpletable\">\n<tr>\n  <th>Omnibus:</th>       <td> 0.531</td> <th>  Durbin-Watson:     </th> <td>   1.935</td>\n</tr>\n<tr>\n  <th>Prob(Omnibus):</th> <td> 0.767</td> <th>  Jarque-Bera (JB):  </th> <td>   0.669</td>\n</tr>\n<tr>\n  <th>Skew:</th>          <td>-0.089</td> <th>  Prob(JB):          </th> <td>   0.716</td>\n</tr>\n<tr>\n  <th>Kurtosis:</th>      <td> 2.779</td> <th>  Cond. No.          </th> <td>    338.</td>\n</tr>\n</table><br/><br/>Warnings:<br/>[1] Standard Errors assume that the covariance matrix of the errors is correctly specified."
     },
     "metadata": {},
     "execution_count": 4
    }
   ],
   "source": [
    "lm = smf.ols(formula=\"Sales~TV\", data=data_ads).fit()\n",
    "# Resultados\n",
    "lm.summary()"
   ]
  },
  {
   "cell_type": "code",
   "execution_count": 5,
   "metadata": {},
   "outputs": [
    {
     "output_type": "execute_result",
     "data": {
      "text/plain": "Intercept    7.032594\nTV           0.047537\ndtype: float64"
     },
     "metadata": {},
     "execution_count": 5
    }
   ],
   "source": [
    "# Parametros (son la columna de coef del summary)\n",
    "lm.params"
   ]
  },
  {
   "cell_type": "markdown",
   "metadata": {},
   "source": [
    "El modelo lineal predictivo seria:\n",
    "\n",
    "\\begin{equation}\n",
    "Sales =  7.032594 + 0.0475 * TV\n",
    "\\end{equation}\n",
    "Para ver si esto es realmente significante, podemos ver el p-valor.\n",
    "- Aceptamos la hipótesis nula si es mayor de, por ejemplo 0.005\n",
    "- Rechazamos la hipótesis nula en caso contrario"
   ]
  },
  {
   "cell_type": "code",
   "execution_count": 6,
   "metadata": {},
   "outputs": [
    {
     "output_type": "execute_result",
     "data": {
      "text/plain": "Intercept    1.406300e-35\nTV           1.467390e-42\ndtype: float64"
     },
     "metadata": {},
     "execution_count": 6
    }
   ],
   "source": [
    "lm.pvalues\n"
   ]
  },
  {
   "cell_type": "markdown",
   "metadata": {},
   "source": [
    "Suficientemente pequeño para rechazar la hipótesis nula con confianza.\n",
    "\n",
    "Si quisieramos usar la R cuadrado, el paquete nos la ofrece tb tanto en el resumen (R-squared) como preguntando"
   ]
  },
  {
   "cell_type": "code",
   "execution_count": 7,
   "metadata": {},
   "outputs": [
    {
     "output_type": "execute_result",
     "data": {
      "text/plain": "0.611875050850071"
     },
     "metadata": {},
     "execution_count": 7
    }
   ],
   "source": [
    "lm.rsquared"
   ]
  },
  {
   "cell_type": "markdown",
   "metadata": {},
   "source": [
    "### Prediccion con modelo\n",
    "Vamos a ver que predice nuestro modelo que saldría usando de entrada el gasto real en TV"
   ]
  },
  {
   "cell_type": "code",
   "execution_count": 22,
   "metadata": {},
   "outputs": [
    {
     "output_type": "display_data",
     "data": {
      "text/plain": "<Figure size 432x288 with 1 Axes>",
      "image/svg+xml": "<?xml version=\"1.0\" encoding=\"utf-8\" standalone=\"no\"?>\r\n<!DOCTYPE svg PUBLIC \"-//W3C//DTD SVG 1.1//EN\"\r\n  \"http://www.w3.org/Graphics/SVG/1.1/DTD/svg11.dtd\">\r\n<!-- Created with matplotlib (https://matplotlib.org/) -->\r\n<svg height=\"263.63625pt\" version=\"1.1\" viewBox=\"0 0 368.925 263.63625\" width=\"368.925pt\" xmlns=\"http://www.w3.org/2000/svg\" xmlns:xlink=\"http://www.w3.org/1999/xlink\">\r\n <defs>\r\n  <style type=\"text/css\">\r\n*{stroke-linecap:butt;stroke-linejoin:round;}\r\n  </style>\r\n </defs>\r\n <g id=\"figure_1\">\r\n  <g id=\"patch_1\">\r\n   <path d=\"M -0 263.63625 \r\nL 368.925 263.63625 \r\nL 368.925 0 \r\nL -0 0 \r\nz\r\n\" style=\"fill:none;\"/>\r\n  </g>\r\n  <g id=\"axes_1\">\r\n   <g id=\"patch_2\">\r\n    <path d=\"M 26.925 239.758125 \r\nL 361.725 239.758125 \r\nL 361.725 22.318125 \r\nL 26.925 22.318125 \r\nz\r\n\" style=\"fill:#ffffff;\"/>\r\n   </g>\r\n   <g id=\"matplotlib.axis_1\">\r\n    <g id=\"xtick_1\">\r\n     <g id=\"line2d_1\">\r\n      <defs>\r\n       <path d=\"M 0 0 \r\nL 0 3.5 \r\n\" id=\"m714f2715b2\" style=\"stroke:#000000;stroke-width:0.8;\"/>\r\n      </defs>\r\n      <g>\r\n       <use style=\"stroke:#000000;stroke-width:0.8;\" x=\"41.422673\" xlink:href=\"#m714f2715b2\" y=\"239.758125\"/>\r\n      </g>\r\n     </g>\r\n     <g id=\"text_1\">\r\n      <!-- 0 -->\r\n      <defs>\r\n       <path d=\"M 31.78125 66.40625 \r\nQ 24.171875 66.40625 20.328125 58.90625 \r\nQ 16.5 51.421875 16.5 36.375 \r\nQ 16.5 21.390625 20.328125 13.890625 \r\nQ 24.171875 6.390625 31.78125 6.390625 \r\nQ 39.453125 6.390625 43.28125 13.890625 \r\nQ 47.125 21.390625 47.125 36.375 \r\nQ 47.125 51.421875 43.28125 58.90625 \r\nQ 39.453125 66.40625 31.78125 66.40625 \r\nz\r\nM 31.78125 74.21875 \r\nQ 44.046875 74.21875 50.515625 64.515625 \r\nQ 56.984375 54.828125 56.984375 36.375 \r\nQ 56.984375 17.96875 50.515625 8.265625 \r\nQ 44.046875 -1.421875 31.78125 -1.421875 \r\nQ 19.53125 -1.421875 13.0625 8.265625 \r\nQ 6.59375 17.96875 6.59375 36.375 \r\nQ 6.59375 54.828125 13.0625 64.515625 \r\nQ 19.53125 74.21875 31.78125 74.21875 \r\nz\r\n\" id=\"DejaVuSans-48\"/>\r\n      </defs>\r\n      <g transform=\"translate(38.241423 254.356563)scale(0.1 -0.1)\">\r\n       <use xlink:href=\"#DejaVuSans-48\"/>\r\n      </g>\r\n     </g>\r\n    </g>\r\n    <g id=\"xtick_2\">\r\n     <g id=\"line2d_2\">\r\n      <g>\r\n       <use style=\"stroke:#000000;stroke-width:0.8;\" x=\"92.88761\" xlink:href=\"#m714f2715b2\" y=\"239.758125\"/>\r\n      </g>\r\n     </g>\r\n     <g id=\"text_2\">\r\n      <!-- 50 -->\r\n      <defs>\r\n       <path d=\"M 10.796875 72.90625 \r\nL 49.515625 72.90625 \r\nL 49.515625 64.59375 \r\nL 19.828125 64.59375 \r\nL 19.828125 46.734375 \r\nQ 21.96875 47.46875 24.109375 47.828125 \r\nQ 26.265625 48.1875 28.421875 48.1875 \r\nQ 40.625 48.1875 47.75 41.5 \r\nQ 54.890625 34.8125 54.890625 23.390625 \r\nQ 54.890625 11.625 47.5625 5.09375 \r\nQ 40.234375 -1.421875 26.90625 -1.421875 \r\nQ 22.3125 -1.421875 17.546875 -0.640625 \r\nQ 12.796875 0.140625 7.71875 1.703125 \r\nL 7.71875 11.625 \r\nQ 12.109375 9.234375 16.796875 8.0625 \r\nQ 21.484375 6.890625 26.703125 6.890625 \r\nQ 35.15625 6.890625 40.078125 11.328125 \r\nQ 45.015625 15.765625 45.015625 23.390625 \r\nQ 45.015625 31 40.078125 35.4375 \r\nQ 35.15625 39.890625 26.703125 39.890625 \r\nQ 22.75 39.890625 18.8125 39.015625 \r\nQ 14.890625 38.140625 10.796875 36.28125 \r\nz\r\n\" id=\"DejaVuSans-53\"/>\r\n      </defs>\r\n      <g transform=\"translate(86.52511 254.356563)scale(0.1 -0.1)\">\r\n       <use xlink:href=\"#DejaVuSans-53\"/>\r\n       <use x=\"63.623047\" xlink:href=\"#DejaVuSans-48\"/>\r\n      </g>\r\n     </g>\r\n    </g>\r\n    <g id=\"xtick_3\">\r\n     <g id=\"line2d_3\">\r\n      <g>\r\n       <use style=\"stroke:#000000;stroke-width:0.8;\" x=\"144.352546\" xlink:href=\"#m714f2715b2\" y=\"239.758125\"/>\r\n      </g>\r\n     </g>\r\n     <g id=\"text_3\">\r\n      <!-- 100 -->\r\n      <defs>\r\n       <path d=\"M 12.40625 8.296875 \r\nL 28.515625 8.296875 \r\nL 28.515625 63.921875 \r\nL 10.984375 60.40625 \r\nL 10.984375 69.390625 \r\nL 28.421875 72.90625 \r\nL 38.28125 72.90625 \r\nL 38.28125 8.296875 \r\nL 54.390625 8.296875 \r\nL 54.390625 0 \r\nL 12.40625 0 \r\nz\r\n\" id=\"DejaVuSans-49\"/>\r\n      </defs>\r\n      <g transform=\"translate(134.808796 254.356563)scale(0.1 -0.1)\">\r\n       <use xlink:href=\"#DejaVuSans-49\"/>\r\n       <use x=\"63.623047\" xlink:href=\"#DejaVuSans-48\"/>\r\n       <use x=\"127.246094\" xlink:href=\"#DejaVuSans-48\"/>\r\n      </g>\r\n     </g>\r\n    </g>\r\n    <g id=\"xtick_4\">\r\n     <g id=\"line2d_4\">\r\n      <g>\r\n       <use style=\"stroke:#000000;stroke-width:0.8;\" x=\"195.817483\" xlink:href=\"#m714f2715b2\" y=\"239.758125\"/>\r\n      </g>\r\n     </g>\r\n     <g id=\"text_4\">\r\n      <!-- 150 -->\r\n      <g transform=\"translate(186.273733 254.356563)scale(0.1 -0.1)\">\r\n       <use xlink:href=\"#DejaVuSans-49\"/>\r\n       <use x=\"63.623047\" xlink:href=\"#DejaVuSans-53\"/>\r\n       <use x=\"127.246094\" xlink:href=\"#DejaVuSans-48\"/>\r\n      </g>\r\n     </g>\r\n    </g>\r\n    <g id=\"xtick_5\">\r\n     <g id=\"line2d_5\">\r\n      <g>\r\n       <use style=\"stroke:#000000;stroke-width:0.8;\" x=\"247.28242\" xlink:href=\"#m714f2715b2\" y=\"239.758125\"/>\r\n      </g>\r\n     </g>\r\n     <g id=\"text_5\">\r\n      <!-- 200 -->\r\n      <defs>\r\n       <path d=\"M 19.1875 8.296875 \r\nL 53.609375 8.296875 \r\nL 53.609375 0 \r\nL 7.328125 0 \r\nL 7.328125 8.296875 \r\nQ 12.9375 14.109375 22.625 23.890625 \r\nQ 32.328125 33.6875 34.8125 36.53125 \r\nQ 39.546875 41.84375 41.421875 45.53125 \r\nQ 43.3125 49.21875 43.3125 52.78125 \r\nQ 43.3125 58.59375 39.234375 62.25 \r\nQ 35.15625 65.921875 28.609375 65.921875 \r\nQ 23.96875 65.921875 18.8125 64.3125 \r\nQ 13.671875 62.703125 7.8125 59.421875 \r\nL 7.8125 69.390625 \r\nQ 13.765625 71.78125 18.9375 73 \r\nQ 24.125 74.21875 28.421875 74.21875 \r\nQ 39.75 74.21875 46.484375 68.546875 \r\nQ 53.21875 62.890625 53.21875 53.421875 \r\nQ 53.21875 48.921875 51.53125 44.890625 \r\nQ 49.859375 40.875 45.40625 35.40625 \r\nQ 44.1875 33.984375 37.640625 27.21875 \r\nQ 31.109375 20.453125 19.1875 8.296875 \r\nz\r\n\" id=\"DejaVuSans-50\"/>\r\n      </defs>\r\n      <g transform=\"translate(237.73867 254.356563)scale(0.1 -0.1)\">\r\n       <use xlink:href=\"#DejaVuSans-50\"/>\r\n       <use x=\"63.623047\" xlink:href=\"#DejaVuSans-48\"/>\r\n       <use x=\"127.246094\" xlink:href=\"#DejaVuSans-48\"/>\r\n      </g>\r\n     </g>\r\n    </g>\r\n    <g id=\"xtick_6\">\r\n     <g id=\"line2d_6\">\r\n      <g>\r\n       <use style=\"stroke:#000000;stroke-width:0.8;\" x=\"298.747357\" xlink:href=\"#m714f2715b2\" y=\"239.758125\"/>\r\n      </g>\r\n     </g>\r\n     <g id=\"text_6\">\r\n      <!-- 250 -->\r\n      <g transform=\"translate(289.203607 254.356563)scale(0.1 -0.1)\">\r\n       <use xlink:href=\"#DejaVuSans-50\"/>\r\n       <use x=\"63.623047\" xlink:href=\"#DejaVuSans-53\"/>\r\n       <use x=\"127.246094\" xlink:href=\"#DejaVuSans-48\"/>\r\n      </g>\r\n     </g>\r\n    </g>\r\n    <g id=\"xtick_7\">\r\n     <g id=\"line2d_7\">\r\n      <g>\r\n       <use style=\"stroke:#000000;stroke-width:0.8;\" x=\"350.212294\" xlink:href=\"#m714f2715b2\" y=\"239.758125\"/>\r\n      </g>\r\n     </g>\r\n     <g id=\"text_7\">\r\n      <!-- 300 -->\r\n      <defs>\r\n       <path d=\"M 40.578125 39.3125 \r\nQ 47.65625 37.796875 51.625 33 \r\nQ 55.609375 28.21875 55.609375 21.1875 \r\nQ 55.609375 10.40625 48.1875 4.484375 \r\nQ 40.765625 -1.421875 27.09375 -1.421875 \r\nQ 22.515625 -1.421875 17.65625 -0.515625 \r\nQ 12.796875 0.390625 7.625 2.203125 \r\nL 7.625 11.71875 \r\nQ 11.71875 9.328125 16.59375 8.109375 \r\nQ 21.484375 6.890625 26.8125 6.890625 \r\nQ 36.078125 6.890625 40.9375 10.546875 \r\nQ 45.796875 14.203125 45.796875 21.1875 \r\nQ 45.796875 27.640625 41.28125 31.265625 \r\nQ 36.765625 34.90625 28.71875 34.90625 \r\nL 20.21875 34.90625 \r\nL 20.21875 43.015625 \r\nL 29.109375 43.015625 \r\nQ 36.375 43.015625 40.234375 45.921875 \r\nQ 44.09375 48.828125 44.09375 54.296875 \r\nQ 44.09375 59.90625 40.109375 62.90625 \r\nQ 36.140625 65.921875 28.71875 65.921875 \r\nQ 24.65625 65.921875 20.015625 65.03125 \r\nQ 15.375 64.15625 9.8125 62.3125 \r\nL 9.8125 71.09375 \r\nQ 15.4375 72.65625 20.34375 73.4375 \r\nQ 25.25 74.21875 29.59375 74.21875 \r\nQ 40.828125 74.21875 47.359375 69.109375 \r\nQ 53.90625 64.015625 53.90625 55.328125 \r\nQ 53.90625 49.265625 50.4375 45.09375 \r\nQ 46.96875 40.921875 40.578125 39.3125 \r\nz\r\n\" id=\"DejaVuSans-51\"/>\r\n      </defs>\r\n      <g transform=\"translate(340.668544 254.356563)scale(0.1 -0.1)\">\r\n       <use xlink:href=\"#DejaVuSans-51\"/>\r\n       <use x=\"63.623047\" xlink:href=\"#DejaVuSans-48\"/>\r\n       <use x=\"127.246094\" xlink:href=\"#DejaVuSans-48\"/>\r\n      </g>\r\n     </g>\r\n    </g>\r\n   </g>\r\n   <g id=\"matplotlib.axis_2\">\r\n    <g id=\"ytick_1\">\r\n     <g id=\"line2d_8\">\r\n      <defs>\r\n       <path d=\"M 0 0 \r\nL -3.5 0 \r\n\" id=\"m33eef6ac61\" style=\"stroke:#000000;stroke-width:0.8;\"/>\r\n      </defs>\r\n      <g>\r\n       <use style=\"stroke:#000000;stroke-width:0.8;\" x=\"26.925\" xlink:href=\"#m33eef6ac61\" y=\"203.41436\"/>\r\n      </g>\r\n     </g>\r\n     <g id=\"text_8\">\r\n      <!-- 5 -->\r\n      <g transform=\"translate(13.5625 207.213579)scale(0.1 -0.1)\">\r\n       <use xlink:href=\"#DejaVuSans-53\"/>\r\n      </g>\r\n     </g>\r\n    </g>\r\n    <g id=\"ytick_2\">\r\n     <g id=\"line2d_9\">\r\n      <g>\r\n       <use style=\"stroke:#000000;stroke-width:0.8;\" x=\"26.925\" xlink:href=\"#m33eef6ac61\" y=\"164.502406\"/>\r\n      </g>\r\n     </g>\r\n     <g id=\"text_9\">\r\n      <!-- 10 -->\r\n      <g transform=\"translate(7.2 168.301624)scale(0.1 -0.1)\">\r\n       <use xlink:href=\"#DejaVuSans-49\"/>\r\n       <use x=\"63.623047\" xlink:href=\"#DejaVuSans-48\"/>\r\n      </g>\r\n     </g>\r\n    </g>\r\n    <g id=\"ytick_3\">\r\n     <g id=\"line2d_10\">\r\n      <g>\r\n       <use style=\"stroke:#000000;stroke-width:0.8;\" x=\"26.925\" xlink:href=\"#m33eef6ac61\" y=\"125.590451\"/>\r\n      </g>\r\n     </g>\r\n     <g id=\"text_10\">\r\n      <!-- 15 -->\r\n      <g transform=\"translate(7.2 129.38967)scale(0.1 -0.1)\">\r\n       <use xlink:href=\"#DejaVuSans-49\"/>\r\n       <use x=\"63.623047\" xlink:href=\"#DejaVuSans-53\"/>\r\n      </g>\r\n     </g>\r\n    </g>\r\n    <g id=\"ytick_4\">\r\n     <g id=\"line2d_11\">\r\n      <g>\r\n       <use style=\"stroke:#000000;stroke-width:0.8;\" x=\"26.925\" xlink:href=\"#m33eef6ac61\" y=\"86.678497\"/>\r\n      </g>\r\n     </g>\r\n     <g id=\"text_11\">\r\n      <!-- 20 -->\r\n      <g transform=\"translate(7.2 90.477716)scale(0.1 -0.1)\">\r\n       <use xlink:href=\"#DejaVuSans-50\"/>\r\n       <use x=\"63.623047\" xlink:href=\"#DejaVuSans-48\"/>\r\n      </g>\r\n     </g>\r\n    </g>\r\n    <g id=\"ytick_5\">\r\n     <g id=\"line2d_12\">\r\n      <g>\r\n       <use style=\"stroke:#000000;stroke-width:0.8;\" x=\"26.925\" xlink:href=\"#m33eef6ac61\" y=\"47.766543\"/>\r\n      </g>\r\n     </g>\r\n     <g id=\"text_12\">\r\n      <!-- 25 -->\r\n      <g transform=\"translate(7.2 51.565762)scale(0.1 -0.1)\">\r\n       <use xlink:href=\"#DejaVuSans-50\"/>\r\n       <use x=\"63.623047\" xlink:href=\"#DejaVuSans-53\"/>\r\n      </g>\r\n     </g>\r\n    </g>\r\n   </g>\r\n   <g id=\"line2d_13\">\r\n    <defs>\r\n     <path d=\"M 0 3 \r\nC 0.795609 3 1.55874 2.683901 2.12132 2.12132 \r\nC 2.683901 1.55874 3 0.795609 3 0 \r\nC 3 -0.795609 2.683901 -1.55874 2.12132 -2.12132 \r\nC 1.55874 -2.683901 0.795609 -3 0 -3 \r\nC -0.795609 -3 -1.55874 -2.683901 -2.12132 -2.12132 \r\nC -2.683901 -1.55874 -3 -0.795609 -3 0 \r\nC -3 0.795609 -2.683901 1.55874 -2.12132 2.12132 \r\nC -1.55874 2.683901 -0.795609 3 0 3 \r\nz\r\n\" id=\"md84b3deecb\" style=\"stroke:#1f77b4;\"/>\r\n    </defs>\r\n    <g clip-path=\"url(#p521afd49f9)\">\r\n     <use style=\"fill:#1f77b4;stroke:#1f77b4;\" x=\"278.264312\" xlink:href=\"#md84b3deecb\" y=\"70.335476\"/>\r\n     <use style=\"fill:#1f77b4;stroke:#1f77b4;\" x=\"87.226466\" xlink:href=\"#md84b3deecb\" y=\"161.389449\"/>\r\n     <use style=\"fill:#1f77b4;stroke:#1f77b4;\" x=\"59.126611\" xlink:href=\"#md84b3deecb\" y=\"169.950079\"/>\r\n     <use style=\"fill:#1f77b4;stroke:#1f77b4;\" x=\"197.361431\" xlink:href=\"#md84b3deecb\" y=\"98.352083\"/>\r\n     <use style=\"fill:#1f77b4;stroke:#1f77b4;\" x=\"227.519884\" xlink:href=\"#md84b3deecb\" y=\"141.933472\"/>\r\n     <use style=\"fill:#1f77b4;stroke:#1f77b4;\" x=\"50.377572\" xlink:href=\"#md84b3deecb\" y=\"186.2931\"/>\r\n     <use style=\"fill:#1f77b4;stroke:#1f77b4;\" x=\"100.60735\" xlink:href=\"#md84b3deecb\" y=\"150.494102\"/>\r\n     <use style=\"fill:#1f77b4;stroke:#1f77b4;\" x=\"165.144381\" xlink:href=\"#md84b3deecb\" y=\"139.598755\"/>\r\n     <use style=\"fill:#1f77b4;stroke:#1f77b4;\" x=\"50.274642\" xlink:href=\"#md84b3deecb\" y=\"204.970838\"/>\r\n     <use style=\"fill:#1f77b4;stroke:#1f77b4;\" x=\"247.07656\" xlink:href=\"#md84b3deecb\" y=\"159.832971\"/>\r\n     <use style=\"fill:#1f77b4;stroke:#1f77b4;\" x=\"109.459319\" xlink:href=\"#md84b3deecb\" y=\"175.397753\"/>\r\n     <use style=\"fill:#1f77b4;stroke:#1f77b4;\" x=\"262.413111\" xlink:href=\"#md84b3deecb\" y=\"106.912713\"/>\r\n     <use style=\"fill:#1f77b4;stroke:#1f77b4;\" x=\"65.919983\" xlink:href=\"#md84b3deecb\" y=\"170.728318\"/>\r\n     <use style=\"fill:#1f77b4;stroke:#1f77b4;\" x=\"141.7793\" xlink:href=\"#md84b3deecb\" y=\"166.837123\"/>\r\n     <use style=\"fill:#1f77b4;stroke:#1f77b4;\" x=\"251.502545\" xlink:href=\"#md84b3deecb\" y=\"94.460888\"/>\r\n     <use style=\"fill:#1f77b4;stroke:#1f77b4;\" x=\"242.547646\" xlink:href=\"#md84b3deecb\" y=\"68.000759\"/>\r\n     <use style=\"fill:#1f77b4;stroke:#1f77b4;\" x=\"111.209127\" xlink:href=\"#md84b3deecb\" y=\"145.046429\"/>\r\n     <use style=\"fill:#1f77b4;stroke:#1f77b4;\" x=\"331.067337\" xlink:href=\"#md84b3deecb\" y=\"52.435978\"/>\r\n     <use style=\"fill:#1f77b4;stroke:#1f77b4;\" x=\"112.650145\" xlink:href=\"#md84b3deecb\" y=\"154.385298\"/>\r\n     <use style=\"fill:#1f77b4;stroke:#1f77b4;\" x=\"193.038377\" xlink:href=\"#md84b3deecb\" y=\"128.703408\"/>\r\n     <use style=\"fill:#1f77b4;stroke:#1f77b4;\" x=\"266.221517\" xlink:href=\"#md84b3deecb\" y=\"102.243279\"/>\r\n     <use style=\"fill:#1f77b4;stroke:#1f77b4;\" x=\"285.778193\" xlink:href=\"#md84b3deecb\" y=\"145.046429\"/>\r\n     <use style=\"fill:#1f77b4;stroke:#1f77b4;\" x=\"55.009416\" xlink:href=\"#md84b3deecb\" y=\"198.744925\"/>\r\n     <use style=\"fill:#1f77b4;stroke:#1f77b4;\" x=\"276.411574\" xlink:href=\"#md84b3deecb\" y=\"121.699256\"/>\r\n     <use style=\"fill:#1f77b4;stroke:#1f77b4;\" x=\"105.547984\" xlink:href=\"#md84b3deecb\" y=\"166.837123\"/>\r\n     <use style=\"fill:#1f77b4;stroke:#1f77b4;\" x=\"312.025311\" xlink:href=\"#md84b3deecb\" y=\"148.937624\"/>\r\n     <use style=\"fill:#1f77b4;stroke:#1f77b4;\" x=\"188.509462\" xlink:href=\"#md84b3deecb\" y=\"125.590451\"/>\r\n     <use style=\"fill:#1f77b4;stroke:#1f77b4;\" x=\"288.557299\" xlink:href=\"#md84b3deecb\" y=\"118.5863\"/>\r\n     <use style=\"fill:#1f77b4;stroke:#1f77b4;\" x=\"297.512198\" xlink:href=\"#md84b3deecb\" y=\"95.239127\"/>\r\n     <use style=\"fill:#1f77b4;stroke:#1f77b4;\" x=\"114.091163\" xlink:href=\"#md84b3deecb\" y=\"160.61121\"/>\r\n     <use style=\"fill:#1f77b4;stroke:#1f77b4;\" x=\"342.904273\" xlink:href=\"#md84b3deecb\" y=\"75.78315\"/>\r\n     <use style=\"fill:#1f77b4;stroke:#1f77b4;\" x=\"157.6305\" xlink:href=\"#md84b3deecb\" y=\"149.715863\"/>\r\n     <use style=\"fill:#1f77b4;stroke:#1f77b4;\" x=\"141.47051\" xlink:href=\"#md84b3deecb\" y=\"167.615362\"/>\r\n     <use style=\"fill:#1f77b4;stroke:#1f77b4;\" x=\"314.804417\" xlink:href=\"#md84b3deecb\" y=\"106.912713\"/>\r\n     <use style=\"fill:#1f77b4;stroke:#1f77b4;\" x=\"139.926562\" xlink:href=\"#md84b3deecb\" y=\"168.393601\"/>\r\n     <use style=\"fill:#1f77b4;stroke:#1f77b4;\" x=\"340.639815\" xlink:href=\"#md84b3deecb\" y=\"142.711711\"/>\r\n     <use style=\"fill:#1f77b4;stroke:#1f77b4;\" x=\"316.142505\" xlink:href=\"#md84b3deecb\" y=\"44.653587\"/>\r\n     <use style=\"fill:#1f77b4;stroke:#1f77b4;\" x=\"118.311288\" xlink:href=\"#md84b3deecb\" y=\"127.925169\"/>\r\n     <use style=\"fill:#1f77b4;stroke:#1f77b4;\" x=\"85.785448\" xlink:href=\"#md84b3deecb\" y=\"163.724167\"/>\r\n     <use style=\"fill:#1f77b4;stroke:#1f77b4;\" x=\"276.102785\" xlink:href=\"#md84b3deecb\" y=\"75.004911\"/>\r\n     <use style=\"fill:#1f77b4;stroke:#1f77b4;\" x=\"249.855667\" xlink:href=\"#md84b3deecb\" y=\"113.138626\"/>\r\n     <use style=\"fill:#1f77b4;stroke:#1f77b4;\" x=\"223.608549\" xlink:href=\"#md84b3deecb\" y=\"109.247431\"/>\r\n     <use style=\"fill:#1f77b4;stroke:#1f77b4;\" x=\"343.624782\" xlink:href=\"#md84b3deecb\" y=\"81.230824\"/>\r\n     <use style=\"fill:#1f77b4;stroke:#1f77b4;\" x=\"254.384581\" xlink:href=\"#md84b3deecb\" y=\"141.933472\"/>\r\n     <use style=\"fill:#1f77b4;stroke:#1f77b4;\" x=\"67.258071\" xlink:href=\"#md84b3deecb\" y=\"176.175992\"/>\r\n     <use style=\"fill:#1f77b4;stroke:#1f77b4;\" x=\"221.652881\" xlink:href=\"#md84b3deecb\" y=\"126.36869\"/>\r\n     <use style=\"fill:#1f77b4;stroke:#1f77b4;\" x=\"133.750769\" xlink:href=\"#md84b3deecb\" y=\"159.832971\"/>\r\n     <use style=\"fill:#1f77b4;stroke:#1f77b4;\" x=\"288.35144\" xlink:href=\"#md84b3deecb\" y=\"61.774847\"/>\r\n     <use style=\"fill:#1f77b4;stroke:#1f77b4;\" x=\"275.279346\" xlink:href=\"#md84b3deecb\" y=\"127.14693\"/>\r\n     <use style=\"fill:#1f77b4;stroke:#1f77b4;\" x=\"110.282758\" xlink:href=\"#md84b3deecb\" y=\"166.837123\"/>\r\n     <use style=\"fill:#1f77b4;stroke:#1f77b4;\" x=\"247.07656\" xlink:href=\"#md84b3deecb\" y=\"153.607058\"/>\r\n     <use style=\"fill:#1f77b4;stroke:#1f77b4;\" x=\"144.764266\" xlink:href=\"#md84b3deecb\" y=\"159.054732\"/>\r\n     <use style=\"fill:#1f77b4;stroke:#1f77b4;\" x=\"264.162919\" xlink:href=\"#md84b3deecb\" y=\"66.444281\"/>\r\n     <use style=\"fill:#1f77b4;stroke:#1f77b4;\" x=\"229.372622\" xlink:href=\"#md84b3deecb\" y=\"77.339628\"/>\r\n     <use style=\"fill:#1f77b4;stroke:#1f77b4;\" x=\"311.819451\" xlink:href=\"#md84b3deecb\" y=\"85.122019\"/>\r\n     <use style=\"fill:#1f77b4;stroke:#1f77b4;\" x=\"246.150191\" xlink:href=\"#md84b3deecb\" y=\"57.883651\"/>\r\n     <use style=\"fill:#1f77b4;stroke:#1f77b4;\" x=\"48.936553\" xlink:href=\"#md84b3deecb\" y=\"199.523164\"/>\r\n     <use style=\"fill:#1f77b4;stroke:#1f77b4;\" x=\"181.613161\" xlink:href=\"#md84b3deecb\" y=\"139.598755\"/>\r\n     <use style=\"fill:#1f77b4;stroke:#1f77b4;\" x=\"258.398846\" xlink:href=\"#md84b3deecb\" y=\"57.105412\"/>\r\n     <use style=\"fill:#1f77b4;stroke:#1f77b4;\" x=\"258.295916\" xlink:href=\"#md84b3deecb\" y=\"99.130323\"/>\r\n     <use style=\"fill:#1f77b4;stroke:#1f77b4;\" x=\"96.490155\" xlink:href=\"#md84b3deecb\" y=\"179.288948\"/>\r\n     <use style=\"fill:#1f77b4;stroke:#1f77b4;\" x=\"310.378433\" xlink:href=\"#md84b3deecb\" y=\"53.992456\"/>\r\n     <use style=\"fill:#1f77b4;stroke:#1f77b4;\" x=\"287.73386\" xlink:href=\"#md84b3deecb\" y=\"120.142778\"/>\r\n     <use style=\"fill:#1f77b4;stroke:#1f77b4;\" x=\"147.131653\" xlink:href=\"#md84b3deecb\" y=\"133.372842\"/>\r\n     <use style=\"fill:#1f77b4;stroke:#1f77b4;\" x=\"176.363737\" xlink:href=\"#md84b3deecb\" y=\"102.243279\"/>\r\n     <use style=\"fill:#1f77b4;stroke:#1f77b4;\" x=\"112.444286\" xlink:href=\"#md84b3deecb\" y=\"169.950079\"/>\r\n     <use style=\"fill:#1f77b4;stroke:#1f77b4;\" x=\"73.845583\" xlink:href=\"#md84b3deecb\" y=\"168.393601\"/>\r\n     <use style=\"fill:#1f77b4;stroke:#1f77b4;\" x=\"184.803987\" xlink:href=\"#md84b3deecb\" y=\"138.042277\"/>\r\n     <use style=\"fill:#1f77b4;stroke:#1f77b4;\" x=\"285.778193\" xlink:href=\"#md84b3deecb\" y=\"95.239127\"/>\r\n     <use style=\"fill:#1f77b4;stroke:#1f77b4;\" x=\"264.574639\" xlink:href=\"#md84b3deecb\" y=\"68.778998\"/>\r\n     <use style=\"fill:#1f77b4;stroke:#1f77b4;\" x=\"246.356051\" xlink:href=\"#md84b3deecb\" y=\"99.908562\"/>\r\n     <use style=\"fill:#1f77b4;stroke:#1f77b4;\" x=\"154.439674\" xlink:href=\"#md84b3deecb\" y=\"145.824668\"/>\r\n     <use style=\"fill:#1f77b4;stroke:#1f77b4;\" x=\"69.007879\" xlink:href=\"#md84b3deecb\" y=\"173.841275\"/>\r\n     <use style=\"fill:#1f77b4;stroke:#1f77b4;\" x=\"174.613929\" xlink:href=\"#md84b3deecb\" y=\"156.720015\"/>\r\n     <use style=\"fill:#1f77b4;stroke:#1f77b4;\" x=\"261.075023\" xlink:href=\"#md84b3deecb\" y=\"110.02567\"/>\r\n     <use style=\"fill:#1f77b4;stroke:#1f77b4;\" x=\"58.817821\" xlink:href=\"#md84b3deecb\" y=\"174.619514\"/>\r\n     <use style=\"fill:#1f77b4;stroke:#1f77b4;\" x=\"69.728388\" xlink:href=\"#md84b3deecb\" y=\"188.627817\"/>\r\n     <use style=\"fill:#1f77b4;stroke:#1f77b4;\" x=\"165.45317\" xlink:href=\"#md84b3deecb\" y=\"131.816364\"/>\r\n     <use style=\"fill:#1f77b4;stroke:#1f77b4;\" x=\"46.980886\" xlink:href=\"#md84b3deecb\" y=\"201.079643\"/>\r\n     <use style=\"fill:#1f77b4;stroke:#1f77b4;\" x=\"160.821326\" xlink:href=\"#md84b3deecb\" y=\"156.720015\"/>\r\n     <use style=\"fill:#1f77b4;stroke:#1f77b4;\" x=\"120.061096\" xlink:href=\"#md84b3deecb\" y=\"150.494102\"/>\r\n     <use style=\"fill:#1f77b4;stroke:#1f77b4;\" x=\"288.24851\" xlink:href=\"#md84b3deecb\" y=\"146.602907\"/>\r\n     <use style=\"fill:#1f77b4;stroke:#1f77b4;\" x=\"118.928868\" xlink:href=\"#md84b3deecb\" y=\"154.385298\"/>\r\n     <use style=\"fill:#1f77b4;stroke:#1f77b4;\" x=\"111.826706\" xlink:href=\"#md84b3deecb\" y=\"136.485799\"/>\r\n     <use style=\"fill:#1f77b4;stroke:#1f77b4;\" x=\"261.177953\" xlink:href=\"#md84b3deecb\" y=\"73.448433\"/>\r\n     <use style=\"fill:#1f77b4;stroke:#1f77b4;\" x=\"240.283189\" xlink:href=\"#md84b3deecb\" y=\"124.033973\"/>\r\n     <use style=\"fill:#1f77b4;stroke:#1f77b4;\" x=\"119.958166\" xlink:href=\"#md84b3deecb\" y=\"148.937624\"/>\r\n     <use style=\"fill:#1f77b4;stroke:#1f77b4;\" x=\"155.366043\" xlink:href=\"#md84b3deecb\" y=\"117.808061\"/>\r\n     <use style=\"fill:#1f77b4;stroke:#1f77b4;\" x=\"132.309751\" xlink:href=\"#md84b3deecb\" y=\"141.933472\"/>\r\n     <use style=\"fill:#1f77b4;stroke:#1f77b4;\" x=\"154.439674\" xlink:href=\"#md84b3deecb\" y=\"112.360387\"/>\r\n     <use style=\"fill:#1f77b4;stroke:#1f77b4;\" x=\"179.657493\" xlink:href=\"#md84b3deecb\" y=\"155.163537\"/>\r\n     <use style=\"fill:#1f77b4;stroke:#1f77b4;\" x=\"70.860617\" xlink:href=\"#md84b3deecb\" y=\"185.514861\"/>\r\n     <use style=\"fill:#1f77b4;stroke:#1f77b4;\" x=\"265.501008\" xlink:href=\"#md84b3deecb\" y=\"91.347932\"/>\r\n     <use style=\"fill:#1f77b4;stroke:#1f77b4;\" x=\"299.673726\" xlink:href=\"#md84b3deecb\" y=\"69.557237\"/>\r\n     <use style=\"fill:#1f77b4;stroke:#1f77b4;\" x=\"151.969357\" xlink:href=\"#md84b3deecb\" y=\"152.828819\"/>\r\n     <use style=\"fill:#1f77b4;stroke:#1f77b4;\" x=\"209.507156\" xlink:href=\"#md84b3deecb\" y=\"110.803909\"/>\r\n     <use style=\"fill:#1f77b4;stroke:#1f77b4;\" x=\"244.812103\" xlink:href=\"#md84b3deecb\" y=\"151.272341\"/>\r\n     <use style=\"fill:#1f77b4;stroke:#1f77b4;\" x=\"231.740009\" xlink:href=\"#md84b3deecb\" y=\"121.699256\"/>\r\n     <use style=\"fill:#1f77b4;stroke:#1f77b4;\" x=\"339.610517\" xlink:href=\"#md84b3deecb\" y=\"44.653587\"/>\r\n     <use style=\"fill:#1f77b4;stroke:#1f77b4;\" x=\"180.583862\" xlink:href=\"#md84b3deecb\" y=\"108.469192\"/>\r\n     <use style=\"fill:#1f77b4;stroke:#1f77b4;\" x=\"270.338712\" xlink:href=\"#md84b3deecb\" y=\"151.272341\"/>\r\n     <use style=\"fill:#1f77b4;stroke:#1f77b4;\" x=\"346.506818\" xlink:href=\"#md84b3deecb\" y=\"57.105412\"/>\r\n     <use style=\"fill:#1f77b4;stroke:#1f77b4;\" x=\"329.832179\" xlink:href=\"#md84b3deecb\" y=\"127.14693\"/>\r\n     <use style=\"fill:#1f77b4;stroke:#1f77b4;\" x=\"234.827905\" xlink:href=\"#md84b3deecb\" y=\"127.925169\"/>\r\n     <use style=\"fill:#1f77b4;stroke:#1f77b4;\" x=\"286.601632\" xlink:href=\"#md84b3deecb\" y=\"81.230824\"/>\r\n     <use style=\"fill:#1f77b4;stroke:#1f77b4;\" x=\"183.362968\" xlink:href=\"#md84b3deecb\" y=\"92.90441\"/>\r\n     <use style=\"fill:#1f77b4;stroke:#1f77b4;\" x=\"67.155141\" xlink:href=\"#md84b3deecb\" y=\"186.2931\"/>\r\n     <use style=\"fill:#1f77b4;stroke:#1f77b4;\" x=\"134.471278\" xlink:href=\"#md84b3deecb\" y=\"174.619514\"/>\r\n     <use style=\"fill:#1f77b4;stroke:#1f77b4;\" x=\"54.906486\" xlink:href=\"#md84b3deecb\" y=\"201.079643\"/>\r\n     <use style=\"fill:#1f77b4;stroke:#1f77b4;\" x=\"304.30557\" xlink:href=\"#md84b3deecb\" y=\"88.234975\"/>\r\n     <use style=\"fill:#1f77b4;stroke:#1f77b4;\" x=\"273.838327\" xlink:href=\"#md84b3deecb\" y=\"138.042277\"/>\r\n     <use style=\"fill:#1f77b4;stroke:#1f77b4;\" x=\"290.204177\" xlink:href=\"#md84b3deecb\" y=\"72.670194\"/>\r\n     <use style=\"fill:#1f77b4;stroke:#1f77b4;\" x=\"222.270461\" xlink:href=\"#md84b3deecb\" y=\"132.594603\"/>\r\n     <use style=\"fill:#1f77b4;stroke:#1f77b4;\" x=\"257.163688\" xlink:href=\"#md84b3deecb\" y=\"118.5863\"/>\r\n     <use style=\"fill:#1f77b4;stroke:#1f77b4;\" x=\"121.913834\" xlink:href=\"#md84b3deecb\" y=\"128.703408\"/>\r\n     <use style=\"fill:#1f77b4;stroke:#1f77b4;\" x=\"118.723008\" xlink:href=\"#md84b3deecb\" y=\"144.268189\"/>\r\n     <use style=\"fill:#1f77b4;stroke:#1f77b4;\" x=\"184.701057\" xlink:href=\"#md84b3deecb\" y=\"147.381146\"/>\r\n     <use style=\"fill:#1f77b4;stroke:#1f77b4;\" x=\"120.061096\" xlink:href=\"#md84b3deecb\" y=\"169.17184\"/>\r\n     <use style=\"fill:#1f77b4;stroke:#1f77b4;\" x=\"170.805524\" xlink:href=\"#md84b3deecb\" y=\"118.5863\"/>\r\n     <use style=\"fill:#1f77b4;stroke:#1f77b4;\" x=\"61.391068\" xlink:href=\"#md84b3deecb\" y=\"190.962534\"/>\r\n     <use style=\"fill:#1f77b4;stroke:#1f77b4;\" x=\"186.862584\" xlink:href=\"#md84b3deecb\" y=\"121.699256\"/>\r\n     <use style=\"fill:#1f77b4;stroke:#1f77b4;\" x=\"60.773489\" xlink:href=\"#md84b3deecb\" y=\"187.849578\"/>\r\n     <use style=\"fill:#1f77b4;stroke:#1f77b4;\" x=\"271.98559\" xlink:href=\"#md84b3deecb\" y=\"152.05058\"/>\r\n     <use style=\"fill:#1f77b4;stroke:#1f77b4;\" x=\"168.129347\" xlink:href=\"#md84b3deecb\" y=\"124.033973\"/>\r\n     <use style=\"fill:#1f77b4;stroke:#1f77b4;\" x=\"277.646733\" xlink:href=\"#md84b3deecb\" y=\"89.013214\"/>\r\n     <use style=\"fill:#1f77b4;stroke:#1f77b4;\" x=\"131.177523\" xlink:href=\"#md84b3deecb\" y=\"159.832971\"/>\r\n     <use style=\"fill:#1f77b4;stroke:#1f77b4;\" x=\"49.451203\" xlink:href=\"#md84b3deecb\" y=\"190.962534\"/>\r\n     <use style=\"fill:#1f77b4;stroke:#1f77b4;\" x=\"123.972431\" xlink:href=\"#md84b3deecb\" y=\"173.841275\"/>\r\n     <use style=\"fill:#1f77b4;stroke:#1f77b4;\" x=\"268.177184\" xlink:href=\"#md84b3deecb\" y=\"50.10126\"/>\r\n     <use style=\"fill:#1f77b4;stroke:#1f77b4;\" x=\"102.768877\" xlink:href=\"#md84b3deecb\" y=\"166.837123\"/>\r\n     <use style=\"fill:#1f77b4;stroke:#1f77b4;\" x=\"42.143182\" xlink:href=\"#md84b3deecb\" y=\"229.874489\"/>\r\n     <use style=\"fill:#1f77b4;stroke:#1f77b4;\" x=\"314.392698\" xlink:href=\"#md84b3deecb\" y=\"143.48995\"/>\r\n     <use style=\"fill:#1f77b4;stroke:#1f77b4;\" x=\"50.068782\" xlink:href=\"#md84b3deecb\" y=\"197.966686\"/>\r\n     <use style=\"fill:#1f77b4;stroke:#1f77b4;\" x=\"267.662535\" xlink:href=\"#md84b3deecb\" y=\"89.791454\"/>\r\n     <use style=\"fill:#1f77b4;stroke:#1f77b4;\" x=\"79.403796\" xlink:href=\"#md84b3deecb\" y=\"158.276493\"/>\r\n     <use style=\"fill:#1f77b4;stroke:#1f77b4;\" x=\"91.137802\" xlink:href=\"#md84b3deecb\" y=\"152.05058\"/>\r\n     <use style=\"fill:#1f77b4;stroke:#1f77b4;\" x=\"67.77272\" xlink:href=\"#md84b3deecb\" y=\"168.393601\"/>\r\n     <use style=\"fill:#1f77b4;stroke:#1f77b4;\" x=\"323.141737\" xlink:href=\"#md84b3deecb\" y=\"80.452585\"/>\r\n     <use style=\"fill:#1f77b4;stroke:#1f77b4;\" x=\"85.682518\" xlink:href=\"#md84b3deecb\" y=\"167.615362\"/>\r\n     <use style=\"fill:#1f77b4;stroke:#1f77b4;\" x=\"231.740009\" xlink:href=\"#md84b3deecb\" y=\"81.230824\"/>\r\n     <use style=\"fill:#1f77b4;stroke:#1f77b4;\" x=\"116.9732\" xlink:href=\"#md84b3deecb\" y=\"157.498254\"/>\r\n     <use style=\"fill:#1f77b4;stroke:#1f77b4;\" x=\"240.797838\" xlink:href=\"#md84b3deecb\" y=\"92.90441\"/>\r\n     <use style=\"fill:#1f77b4;stroke:#1f77b4;\" x=\"268.383044\" xlink:href=\"#md84b3deecb\" y=\"85.900258\"/>\r\n     <use style=\"fill:#1f77b4;stroke:#1f77b4;\" x=\"149.087321\" xlink:href=\"#md84b3deecb\" y=\"161.389449\"/>\r\n     <use style=\"fill:#1f77b4;stroke:#1f77b4;\" x=\"140.441211\" xlink:href=\"#md84b3deecb\" y=\"153.607058\"/>\r\n     <use style=\"fill:#1f77b4;stroke:#1f77b4;\" x=\"185.833285\" xlink:href=\"#md84b3deecb\" y=\"162.167688\"/>\r\n     <use style=\"fill:#1f77b4;stroke:#1f77b4;\" x=\"288.557299\" xlink:href=\"#md84b3deecb\" y=\"139.598755\"/>\r\n     <use style=\"fill:#1f77b4;stroke:#1f77b4;\" x=\"291.748125\" xlink:href=\"#md84b3deecb\" y=\"44.653587\"/>\r\n     <use style=\"fill:#1f77b4;stroke:#1f77b4;\" x=\"80.536025\" xlink:href=\"#md84b3deecb\" y=\"157.498254\"/>\r\n     <use style=\"fill:#1f77b4;stroke:#1f77b4;\" x=\"87.432326\" xlink:href=\"#md84b3deecb\" y=\"163.724167\"/>\r\n     <use style=\"fill:#1f77b4;stroke:#1f77b4;\" x=\"330.346828\" xlink:href=\"#md84b3deecb\" y=\"117.029821\"/>\r\n     <use style=\"fill:#1f77b4;stroke:#1f77b4;\" x=\"165.96782\" xlink:href=\"#md84b3deecb\" y=\"152.05058\"/>\r\n     <use style=\"fill:#1f77b4;stroke:#1f77b4;\" x=\"244.812103\" xlink:href=\"#md84b3deecb\" y=\"113.138626\"/>\r\n     <use style=\"fill:#1f77b4;stroke:#1f77b4;\" x=\"217.741546\" xlink:href=\"#md84b3deecb\" y=\"94.460888\"/>\r\n     <use style=\"fill:#1f77b4;stroke:#1f77b4;\" x=\"234.724975\" xlink:href=\"#md84b3deecb\" y=\"120.921017\"/>\r\n     <use style=\"fill:#1f77b4;stroke:#1f77b4;\" x=\"45.642798\" xlink:href=\"#md84b3deecb\" y=\"217.422663\"/>\r\n     <use style=\"fill:#1f77b4;stroke:#1f77b4;\" x=\"138.073824\" xlink:href=\"#md84b3deecb\" y=\"123.255734\"/>\r\n     <use style=\"fill:#1f77b4;stroke:#1f77b4;\" x=\"195.611623\" xlink:href=\"#md84b3deecb\" y=\"163.724167\"/>\r\n     <use style=\"fill:#1f77b4;stroke:#1f77b4;\" x=\"53.465468\" xlink:href=\"#md84b3deecb\" y=\"185.514861\"/>\r\n     <use style=\"fill:#1f77b4;stroke:#1f77b4;\" x=\"176.981316\" xlink:href=\"#md84b3deecb\" y=\"141.933472\"/>\r\n     <use style=\"fill:#1f77b4;stroke:#1f77b4;\" x=\"218.976705\" xlink:href=\"#md84b3deecb\" y=\"130.259886\"/>\r\n     <use style=\"fill:#1f77b4;stroke:#1f77b4;\" x=\"129.633574\" xlink:href=\"#md84b3deecb\" y=\"138.820516\"/>\r\n     <use style=\"fill:#1f77b4;stroke:#1f77b4;\" x=\"235.342555\" xlink:href=\"#md84b3deecb\" y=\"126.36869\"/>\r\n     <use style=\"fill:#1f77b4;stroke:#1f77b4;\" x=\"209.713016\" xlink:href=\"#md84b3deecb\" y=\"102.243279\"/>\r\n     <use style=\"fill:#1f77b4;stroke:#1f77b4;\" x=\"162.056485\" xlink:href=\"#md84b3deecb\" y=\"149.715863\"/>\r\n     <use style=\"fill:#1f77b4;stroke:#1f77b4;\" x=\"282.793226\" xlink:href=\"#md84b3deecb\" y=\"149.715863\"/>\r\n     <use style=\"fill:#1f77b4;stroke:#1f77b4;\" x=\"59.84712\" xlink:href=\"#md84b3deecb\" y=\"180.067187\"/>\r\n     <use style=\"fill:#1f77b4;stroke:#1f77b4;\" x=\"254.281651\" xlink:href=\"#md84b3deecb\" y=\"147.381146\"/>\r\n     <use style=\"fill:#1f77b4;stroke:#1f77b4;\" x=\"263.133621\" xlink:href=\"#md84b3deecb\" y=\"109.247431\"/>\r\n     <use style=\"fill:#1f77b4;stroke:#1f77b4;\" x=\"334.052303\" xlink:href=\"#md84b3deecb\" y=\"125.590451\"/>\r\n     <use style=\"fill:#1f77b4;stroke:#1f77b4;\" x=\"92.88761\" xlink:href=\"#md84b3deecb\" y=\"176.954231\"/>\r\n     <use style=\"fill:#1f77b4;stroke:#1f77b4;\" x=\"210.742315\" xlink:href=\"#md84b3deecb\" y=\"129.481647\"/>\r\n     <use style=\"fill:#1f77b4;stroke:#1f77b4;\" x=\"61.596928\" xlink:href=\"#md84b3deecb\" y=\"183.180144\"/>\r\n     <use style=\"fill:#1f77b4;stroke:#1f77b4;\" x=\"214.75658\" xlink:href=\"#md84b3deecb\" y=\"151.272341\"/>\r\n     <use style=\"fill:#1f77b4;stroke:#1f77b4;\" x=\"270.338712\" xlink:href=\"#md84b3deecb\" y=\"152.828819\"/>\r\n     <use style=\"fill:#1f77b4;stroke:#1f77b4;\" x=\"326.435493\" xlink:href=\"#md84b3deecb\" y=\"32.201761\"/>\r\n     <use style=\"fill:#1f77b4;stroke:#1f77b4;\" x=\"297.100479\" xlink:href=\"#md84b3deecb\" y=\"85.122019\"/>\r\n     <use style=\"fill:#1f77b4;stroke:#1f77b4;\" x=\"216.609318\" xlink:href=\"#md84b3deecb\" y=\"151.272341\"/>\r\n     <use style=\"fill:#1f77b4;stroke:#1f77b4;\" x=\"326.229633\" xlink:href=\"#md84b3deecb\" y=\"150.494102\"/>\r\n     <use style=\"fill:#1f77b4;stroke:#1f77b4;\" x=\"211.874543\" xlink:href=\"#md84b3deecb\" y=\"144.268189\"/>\r\n     <use style=\"fill:#1f77b4;stroke:#1f77b4;\" x=\"202.610855\" xlink:href=\"#md84b3deecb\" y=\"160.61121\"/>\r\n     <use style=\"fill:#1f77b4;stroke:#1f77b4;\" x=\"266.324447\" xlink:href=\"#md84b3deecb\" y=\"147.381146\"/>\r\n     <use style=\"fill:#1f77b4;stroke:#1f77b4;\" x=\"99.269262\" xlink:href=\"#md84b3deecb\" y=\"174.619514\"/>\r\n     <use style=\"fill:#1f77b4;stroke:#1f77b4;\" x=\"337.448989\" xlink:href=\"#md84b3deecb\" y=\"38.427674\"/>\r\n     <use style=\"fill:#1f77b4;stroke:#1f77b4;\" x=\"302.658692\" xlink:href=\"#md84b3deecb\" y=\"105.356235\"/>\r\n     <use style=\"fill:#1f77b4;stroke:#1f77b4;\" x=\"252.428914\" xlink:href=\"#md84b3deecb\" y=\"66.444281\"/>\r\n     <use style=\"fill:#1f77b4;stroke:#1f77b4;\" x=\"185.009846\" xlink:href=\"#md84b3deecb\" y=\"162.167688\"/>\r\n     <use style=\"fill:#1f77b4;stroke:#1f77b4;\" x=\"238.121661\" xlink:href=\"#md84b3deecb\" y=\"107.690952\"/>\r\n     <use style=\"fill:#1f77b4;stroke:#1f77b4;\" x=\"335.802111\" xlink:href=\"#md84b3deecb\" y=\"118.5863\"/>\r\n     <use style=\"fill:#1f77b4;stroke:#1f77b4;\" x=\"60.670559\" xlink:href=\"#md84b3deecb\" y=\"190.184295\"/>\r\n     <use style=\"fill:#1f77b4;stroke:#1f77b4;\" x=\"82.079973\" xlink:href=\"#md84b3deecb\" y=\"158.276493\"/>\r\n     <use style=\"fill:#1f77b4;stroke:#1f77b4;\" x=\"119.134727\" xlink:href=\"#md84b3deecb\" y=\"165.280645\"/>\r\n     <use style=\"fill:#1f77b4;stroke:#1f77b4;\" x=\"59.126611\" xlink:href=\"#md84b3deecb\" y=\"196.410208\"/>\r\n     <use style=\"fill:#1f77b4;stroke:#1f77b4;\" x=\"213.109702\" xlink:href=\"#md84b3deecb\" y=\"89.791454\"/>\r\n     <use style=\"fill:#1f77b4;stroke:#1f77b4;\" x=\"195.508694\" xlink:href=\"#md84b3deecb\" y=\"107.690952\"/>\r\n     <use style=\"fill:#1f77b4;stroke:#1f77b4;\" x=\"80.741884\" xlink:href=\"#md84b3deecb\" y=\"183.180144\"/>\r\n     <use style=\"fill:#1f77b4;stroke:#1f77b4;\" x=\"138.382614\" xlink:href=\"#md84b3deecb\" y=\"166.837123\"/>\r\n     <use style=\"fill:#1f77b4;stroke:#1f77b4;\" x=\"223.608549\" xlink:href=\"#md84b3deecb\" y=\"142.711711\"/>\r\n     <use style=\"fill:#1f77b4;stroke:#1f77b4;\" x=\"333.331794\" xlink:href=\"#md84b3deecb\" y=\"43.875348\"/>\r\n     <use style=\"fill:#1f77b4;stroke:#1f77b4;\" x=\"280.322909\" xlink:href=\"#md84b3deecb\" y=\"138.042277\"/>\r\n    </g>\r\n   </g>\r\n   <g id=\"line2d_14\">\r\n    <path clip-path=\"url(#p521afd49f9)\" d=\"M 278.264312 102.470723 \r\nL 42.143182 187.336958 \r\nL 346.506818 77.943123 \r\nL 280.322909 101.730826 \r\n\" style=\"fill:none;stroke:#ff0000;stroke-linecap:square;stroke-width:1.5;\"/>\r\n   </g>\r\n   <g id=\"line2d_15\">\r\n    <path clip-path=\"url(#p521afd49f9)\" d=\"M 278.264312 133.197738 \r\nL 42.143182 133.197738 \r\nL 346.506818 133.197738 \r\nL 280.322909 133.197738 \r\n\" style=\"fill:none;stroke:#008000;stroke-linecap:square;stroke-width:1.5;\"/>\r\n   </g>\r\n   <g id=\"patch_3\">\r\n    <path d=\"M 26.925 239.758125 \r\nL 26.925 22.318125 \r\n\" style=\"fill:none;stroke:#000000;stroke-linecap:square;stroke-linejoin:miter;stroke-width:0.8;\"/>\r\n   </g>\r\n   <g id=\"patch_4\">\r\n    <path d=\"M 361.725 239.758125 \r\nL 361.725 22.318125 \r\n\" style=\"fill:none;stroke:#000000;stroke-linecap:square;stroke-linejoin:miter;stroke-width:0.8;\"/>\r\n   </g>\r\n   <g id=\"patch_5\">\r\n    <path d=\"M 26.925 239.758125 \r\nL 361.725 239.758125 \r\n\" style=\"fill:none;stroke:#000000;stroke-linecap:square;stroke-linejoin:miter;stroke-width:0.8;\"/>\r\n   </g>\r\n   <g id=\"patch_6\">\r\n    <path d=\"M 26.925 22.318125 \r\nL 361.725 22.318125 \r\n\" style=\"fill:none;stroke:#000000;stroke-linecap:square;stroke-linejoin:miter;stroke-width:0.8;\"/>\r\n   </g>\r\n   <g id=\"text_13\">\r\n    <!-- Valor real vs Predicción -->\r\n    <defs>\r\n     <path d=\"M 28.609375 0 \r\nL 0.78125 72.90625 \r\nL 11.078125 72.90625 \r\nL 34.1875 11.53125 \r\nL 57.328125 72.90625 \r\nL 67.578125 72.90625 \r\nL 39.796875 0 \r\nz\r\n\" id=\"DejaVuSans-86\"/>\r\n     <path d=\"M 34.28125 27.484375 \r\nQ 23.390625 27.484375 19.1875 25 \r\nQ 14.984375 22.515625 14.984375 16.5 \r\nQ 14.984375 11.71875 18.140625 8.90625 \r\nQ 21.296875 6.109375 26.703125 6.109375 \r\nQ 34.1875 6.109375 38.703125 11.40625 \r\nQ 43.21875 16.703125 43.21875 25.484375 \r\nL 43.21875 27.484375 \r\nz\r\nM 52.203125 31.203125 \r\nL 52.203125 0 \r\nL 43.21875 0 \r\nL 43.21875 8.296875 \r\nQ 40.140625 3.328125 35.546875 0.953125 \r\nQ 30.953125 -1.421875 24.3125 -1.421875 \r\nQ 15.921875 -1.421875 10.953125 3.296875 \r\nQ 6 8.015625 6 15.921875 \r\nQ 6 25.140625 12.171875 29.828125 \r\nQ 18.359375 34.515625 30.609375 34.515625 \r\nL 43.21875 34.515625 \r\nL 43.21875 35.40625 \r\nQ 43.21875 41.609375 39.140625 45 \r\nQ 35.0625 48.390625 27.6875 48.390625 \r\nQ 23 48.390625 18.546875 47.265625 \r\nQ 14.109375 46.140625 10.015625 43.890625 \r\nL 10.015625 52.203125 \r\nQ 14.9375 54.109375 19.578125 55.046875 \r\nQ 24.21875 56 28.609375 56 \r\nQ 40.484375 56 46.34375 49.84375 \r\nQ 52.203125 43.703125 52.203125 31.203125 \r\nz\r\n\" id=\"DejaVuSans-97\"/>\r\n     <path d=\"M 9.421875 75.984375 \r\nL 18.40625 75.984375 \r\nL 18.40625 0 \r\nL 9.421875 0 \r\nz\r\n\" id=\"DejaVuSans-108\"/>\r\n     <path d=\"M 30.609375 48.390625 \r\nQ 23.390625 48.390625 19.1875 42.75 \r\nQ 14.984375 37.109375 14.984375 27.296875 \r\nQ 14.984375 17.484375 19.15625 11.84375 \r\nQ 23.34375 6.203125 30.609375 6.203125 \r\nQ 37.796875 6.203125 41.984375 11.859375 \r\nQ 46.1875 17.53125 46.1875 27.296875 \r\nQ 46.1875 37.015625 41.984375 42.703125 \r\nQ 37.796875 48.390625 30.609375 48.390625 \r\nz\r\nM 30.609375 56 \r\nQ 42.328125 56 49.015625 48.375 \r\nQ 55.71875 40.765625 55.71875 27.296875 \r\nQ 55.71875 13.875 49.015625 6.21875 \r\nQ 42.328125 -1.421875 30.609375 -1.421875 \r\nQ 18.84375 -1.421875 12.171875 6.21875 \r\nQ 5.515625 13.875 5.515625 27.296875 \r\nQ 5.515625 40.765625 12.171875 48.375 \r\nQ 18.84375 56 30.609375 56 \r\nz\r\n\" id=\"DejaVuSans-111\"/>\r\n     <path d=\"M 41.109375 46.296875 \r\nQ 39.59375 47.171875 37.8125 47.578125 \r\nQ 36.03125 48 33.890625 48 \r\nQ 26.265625 48 22.1875 43.046875 \r\nQ 18.109375 38.09375 18.109375 28.8125 \r\nL 18.109375 0 \r\nL 9.078125 0 \r\nL 9.078125 54.6875 \r\nL 18.109375 54.6875 \r\nL 18.109375 46.1875 \r\nQ 20.953125 51.171875 25.484375 53.578125 \r\nQ 30.03125 56 36.53125 56 \r\nQ 37.453125 56 38.578125 55.875 \r\nQ 39.703125 55.765625 41.0625 55.515625 \r\nz\r\n\" id=\"DejaVuSans-114\"/>\r\n     <path id=\"DejaVuSans-32\"/>\r\n     <path d=\"M 56.203125 29.59375 \r\nL 56.203125 25.203125 \r\nL 14.890625 25.203125 \r\nQ 15.484375 15.921875 20.484375 11.0625 \r\nQ 25.484375 6.203125 34.421875 6.203125 \r\nQ 39.59375 6.203125 44.453125 7.46875 \r\nQ 49.3125 8.734375 54.109375 11.28125 \r\nL 54.109375 2.78125 \r\nQ 49.265625 0.734375 44.1875 -0.34375 \r\nQ 39.109375 -1.421875 33.890625 -1.421875 \r\nQ 20.796875 -1.421875 13.15625 6.1875 \r\nQ 5.515625 13.8125 5.515625 26.8125 \r\nQ 5.515625 40.234375 12.765625 48.109375 \r\nQ 20.015625 56 32.328125 56 \r\nQ 43.359375 56 49.78125 48.890625 \r\nQ 56.203125 41.796875 56.203125 29.59375 \r\nz\r\nM 47.21875 32.234375 \r\nQ 47.125 39.59375 43.09375 43.984375 \r\nQ 39.0625 48.390625 32.421875 48.390625 \r\nQ 24.90625 48.390625 20.390625 44.140625 \r\nQ 15.875 39.890625 15.1875 32.171875 \r\nz\r\n\" id=\"DejaVuSans-101\"/>\r\n     <path d=\"M 2.984375 54.6875 \r\nL 12.5 54.6875 \r\nL 29.59375 8.796875 \r\nL 46.6875 54.6875 \r\nL 56.203125 54.6875 \r\nL 35.6875 0 \r\nL 23.484375 0 \r\nz\r\n\" id=\"DejaVuSans-118\"/>\r\n     <path d=\"M 44.28125 53.078125 \r\nL 44.28125 44.578125 \r\nQ 40.484375 46.53125 36.375 47.5 \r\nQ 32.28125 48.484375 27.875 48.484375 \r\nQ 21.1875 48.484375 17.84375 46.4375 \r\nQ 14.5 44.390625 14.5 40.28125 \r\nQ 14.5 37.15625 16.890625 35.375 \r\nQ 19.28125 33.59375 26.515625 31.984375 \r\nL 29.59375 31.296875 \r\nQ 39.15625 29.25 43.1875 25.515625 \r\nQ 47.21875 21.78125 47.21875 15.09375 \r\nQ 47.21875 7.46875 41.1875 3.015625 \r\nQ 35.15625 -1.421875 24.609375 -1.421875 \r\nQ 20.21875 -1.421875 15.453125 -0.5625 \r\nQ 10.6875 0.296875 5.421875 2 \r\nL 5.421875 11.28125 \r\nQ 10.40625 8.6875 15.234375 7.390625 \r\nQ 20.0625 6.109375 24.8125 6.109375 \r\nQ 31.15625 6.109375 34.5625 8.28125 \r\nQ 37.984375 10.453125 37.984375 14.40625 \r\nQ 37.984375 18.0625 35.515625 20.015625 \r\nQ 33.0625 21.96875 24.703125 23.78125 \r\nL 21.578125 24.515625 \r\nQ 13.234375 26.265625 9.515625 29.90625 \r\nQ 5.8125 33.546875 5.8125 39.890625 \r\nQ 5.8125 47.609375 11.28125 51.796875 \r\nQ 16.75 56 26.8125 56 \r\nQ 31.78125 56 36.171875 55.265625 \r\nQ 40.578125 54.546875 44.28125 53.078125 \r\nz\r\n\" id=\"DejaVuSans-115\"/>\r\n     <path d=\"M 19.671875 64.796875 \r\nL 19.671875 37.40625 \r\nL 32.078125 37.40625 \r\nQ 38.96875 37.40625 42.71875 40.96875 \r\nQ 46.484375 44.53125 46.484375 51.125 \r\nQ 46.484375 57.671875 42.71875 61.234375 \r\nQ 38.96875 64.796875 32.078125 64.796875 \r\nz\r\nM 9.8125 72.90625 \r\nL 32.078125 72.90625 \r\nQ 44.34375 72.90625 50.609375 67.359375 \r\nQ 56.890625 61.8125 56.890625 51.125 \r\nQ 56.890625 40.328125 50.609375 34.8125 \r\nQ 44.34375 29.296875 32.078125 29.296875 \r\nL 19.671875 29.296875 \r\nL 19.671875 0 \r\nL 9.8125 0 \r\nz\r\n\" id=\"DejaVuSans-80\"/>\r\n     <path d=\"M 45.40625 46.390625 \r\nL 45.40625 75.984375 \r\nL 54.390625 75.984375 \r\nL 54.390625 0 \r\nL 45.40625 0 \r\nL 45.40625 8.203125 \r\nQ 42.578125 3.328125 38.25 0.953125 \r\nQ 33.9375 -1.421875 27.875 -1.421875 \r\nQ 17.96875 -1.421875 11.734375 6.484375 \r\nQ 5.515625 14.40625 5.515625 27.296875 \r\nQ 5.515625 40.1875 11.734375 48.09375 \r\nQ 17.96875 56 27.875 56 \r\nQ 33.9375 56 38.25 53.625 \r\nQ 42.578125 51.265625 45.40625 46.390625 \r\nz\r\nM 14.796875 27.296875 \r\nQ 14.796875 17.390625 18.875 11.75 \r\nQ 22.953125 6.109375 30.078125 6.109375 \r\nQ 37.203125 6.109375 41.296875 11.75 \r\nQ 45.40625 17.390625 45.40625 27.296875 \r\nQ 45.40625 37.203125 41.296875 42.84375 \r\nQ 37.203125 48.484375 30.078125 48.484375 \r\nQ 22.953125 48.484375 18.875 42.84375 \r\nQ 14.796875 37.203125 14.796875 27.296875 \r\nz\r\n\" id=\"DejaVuSans-100\"/>\r\n     <path d=\"M 9.421875 54.6875 \r\nL 18.40625 54.6875 \r\nL 18.40625 0 \r\nL 9.421875 0 \r\nz\r\nM 9.421875 75.984375 \r\nL 18.40625 75.984375 \r\nL 18.40625 64.59375 \r\nL 9.421875 64.59375 \r\nz\r\n\" id=\"DejaVuSans-105\"/>\r\n     <path d=\"M 48.78125 52.59375 \r\nL 48.78125 44.1875 \r\nQ 44.96875 46.296875 41.140625 47.34375 \r\nQ 37.3125 48.390625 33.40625 48.390625 \r\nQ 24.65625 48.390625 19.8125 42.84375 \r\nQ 14.984375 37.3125 14.984375 27.296875 \r\nQ 14.984375 17.28125 19.8125 11.734375 \r\nQ 24.65625 6.203125 33.40625 6.203125 \r\nQ 37.3125 6.203125 41.140625 7.25 \r\nQ 44.96875 8.296875 48.78125 10.40625 \r\nL 48.78125 2.09375 \r\nQ 45.015625 0.34375 40.984375 -0.53125 \r\nQ 36.96875 -1.421875 32.421875 -1.421875 \r\nQ 20.0625 -1.421875 12.78125 6.34375 \r\nQ 5.515625 14.109375 5.515625 27.296875 \r\nQ 5.515625 40.671875 12.859375 48.328125 \r\nQ 20.21875 56 33.015625 56 \r\nQ 37.15625 56 41.109375 55.140625 \r\nQ 45.0625 54.296875 48.78125 52.59375 \r\nz\r\n\" id=\"DejaVuSans-99\"/>\r\n     <path d=\"M 30.609375 48.390625 \r\nQ 23.390625 48.390625 19.1875 42.75 \r\nQ 14.984375 37.109375 14.984375 27.296875 \r\nQ 14.984375 17.484375 19.15625 11.84375 \r\nQ 23.34375 6.203125 30.609375 6.203125 \r\nQ 37.796875 6.203125 41.984375 11.859375 \r\nQ 46.1875 17.53125 46.1875 27.296875 \r\nQ 46.1875 37.015625 41.984375 42.703125 \r\nQ 37.796875 48.390625 30.609375 48.390625 \r\nz\r\nM 30.609375 56 \r\nQ 42.328125 56 49.015625 48.375 \r\nQ 55.71875 40.765625 55.71875 27.296875 \r\nQ 55.71875 13.875 49.015625 6.21875 \r\nQ 42.328125 -1.421875 30.609375 -1.421875 \r\nQ 18.84375 -1.421875 12.171875 6.21875 \r\nQ 5.515625 13.875 5.515625 27.296875 \r\nQ 5.515625 40.765625 12.171875 48.375 \r\nQ 18.84375 56 30.609375 56 \r\nz\r\nM 37.40625 79.984375 \r\nL 47.125 79.984375 \r\nL 31.203125 61.625 \r\nL 23.734375 61.625 \r\nz\r\n\" id=\"DejaVuSans-243\"/>\r\n     <path d=\"M 54.890625 33.015625 \r\nL 54.890625 0 \r\nL 45.90625 0 \r\nL 45.90625 32.71875 \r\nQ 45.90625 40.484375 42.875 44.328125 \r\nQ 39.84375 48.1875 33.796875 48.1875 \r\nQ 26.515625 48.1875 22.3125 43.546875 \r\nQ 18.109375 38.921875 18.109375 30.90625 \r\nL 18.109375 0 \r\nL 9.078125 0 \r\nL 9.078125 54.6875 \r\nL 18.109375 54.6875 \r\nL 18.109375 46.1875 \r\nQ 21.34375 51.125 25.703125 53.5625 \r\nQ 30.078125 56 35.796875 56 \r\nQ 45.21875 56 50.046875 50.171875 \r\nQ 54.890625 44.34375 54.890625 33.015625 \r\nz\r\n\" id=\"DejaVuSans-110\"/>\r\n    </defs>\r\n    <g transform=\"translate(123.859688 16.318125)scale(0.12 -0.12)\">\r\n     <use xlink:href=\"#DejaVuSans-86\"/>\r\n     <use x=\"68.298828\" xlink:href=\"#DejaVuSans-97\"/>\r\n     <use x=\"129.578125\" xlink:href=\"#DejaVuSans-108\"/>\r\n     <use x=\"157.361328\" xlink:href=\"#DejaVuSans-111\"/>\r\n     <use x=\"218.542969\" xlink:href=\"#DejaVuSans-114\"/>\r\n     <use x=\"259.65625\" xlink:href=\"#DejaVuSans-32\"/>\r\n     <use x=\"291.443359\" xlink:href=\"#DejaVuSans-114\"/>\r\n     <use x=\"332.525391\" xlink:href=\"#DejaVuSans-101\"/>\r\n     <use x=\"394.048828\" xlink:href=\"#DejaVuSans-97\"/>\r\n     <use x=\"455.328125\" xlink:href=\"#DejaVuSans-108\"/>\r\n     <use x=\"483.111328\" xlink:href=\"#DejaVuSans-32\"/>\r\n     <use x=\"514.898438\" xlink:href=\"#DejaVuSans-118\"/>\r\n     <use x=\"574.078125\" xlink:href=\"#DejaVuSans-115\"/>\r\n     <use x=\"626.177734\" xlink:href=\"#DejaVuSans-32\"/>\r\n     <use x=\"657.964844\" xlink:href=\"#DejaVuSans-80\"/>\r\n     <use x=\"718.251953\" xlink:href=\"#DejaVuSans-114\"/>\r\n     <use x=\"759.333984\" xlink:href=\"#DejaVuSans-101\"/>\r\n     <use x=\"820.857422\" xlink:href=\"#DejaVuSans-100\"/>\r\n     <use x=\"884.333984\" xlink:href=\"#DejaVuSans-105\"/>\r\n     <use x=\"912.117188\" xlink:href=\"#DejaVuSans-99\"/>\r\n     <use x=\"967.097656\" xlink:href=\"#DejaVuSans-99\"/>\r\n     <use x=\"1022.078125\" xlink:href=\"#DejaVuSans-105\"/>\r\n     <use x=\"1049.861328\" xlink:href=\"#DejaVuSans-243\"/>\r\n     <use x=\"1111.042969\" xlink:href=\"#DejaVuSans-110\"/>\r\n    </g>\r\n   </g>\r\n  </g>\r\n </g>\r\n <defs>\r\n  <clipPath id=\"p521afd49f9\">\r\n   <rect height=\"217.44\" width=\"334.8\" x=\"26.925\" y=\"22.318125\"/>\r\n  </clipPath>\r\n </defs>\r\n</svg>\r\n",
      "image/png": "[encoded data removed]"
     },
     "metadata": {
      "needs_background": "light"
     }
    }
   ],
   "source": [
    "data_ads[\"lm\"] = lm.predict(data_ads[\"TV\"])\n",
    "\n",
    "media = np.mean(data_ads[\"Sales\"])\n",
    "data_ads[\"media\"]=[media for i in range(0, len(data_ads))]\n",
    "\n",
    "\n",
    "plt.plot(data_ads[\"TV\"], data_ads[\"Sales\"], \"o\")\n",
    "plt.plot(data_ads[\"TV\"], data_ads[\"lm\"], color='red')\n",
    "plt.plot(data_ads[\"TV\"], data_ads[\"media\"], \"g\")\n",
    "plt.title (\"Valor real vs Predicción\")\n",
    "plt.show()\n",
    "\n"
   ]
  },
  {
   "cell_type": "code",
   "execution_count": 9,
   "metadata": {},
   "outputs": [
    {
     "output_type": "execute_result",
     "data": {
      "text/plain": "2102.5305831313517"
     },
     "metadata": {},
     "execution_count": 9
    }
   ],
   "source": [
    "# calculo las desviaciones cuadradas\n",
    "\n",
    "data_ads[\"RSE\"] = (data_ads[\"Sales\"] - data_ads[\"lm\"])\n",
    "SSD = sum(data_ads[\"RSE\"]**2)\n",
    "SSD"
   ]
  },
  {
   "cell_type": "code",
   "execution_count": 10,
   "metadata": {},
   "outputs": [
    {
     "output_type": "execute_result",
     "data": {
      "text/plain": "3.258656368650463"
     },
     "metadata": {},
     "execution_count": 10
    }
   ],
   "source": [
    "RSE = np.sqrt(SSD/(len(data_ads)-2))\n",
    "RSE"
   ]
  },
  {
   "cell_type": "code",
   "execution_count": 11,
   "metadata": {},
   "outputs": [
    {
     "output_type": "execute_result",
     "data": {
      "text/plain": "'23.238768897489482%'"
     },
     "metadata": {},
     "execution_count": 11
    }
   ],
   "source": [
    "#cuanto % no explica el modelo\n",
    "f\"{RSE/media*100}%\""
   ]
  },
  {
   "cell_type": "code",
   "execution_count": 12,
   "metadata": {},
   "outputs": [
    {
     "output_type": "execute_result",
     "data": {
      "text/plain": "(array([ 4., 10., 13., 17., 40., 42., 33., 16., 17.,  8.]),\n array([-8.38598196, -6.82614689, -5.26631183, -3.70647677, -2.14664171,\n        -0.58680664,  0.97302842,  2.53286348,  4.09269854,  5.65253361,\n         7.21236867]),\n <a list of 10 Patch objects>)"
     },
     "metadata": {},
     "execution_count": 12
    },
    {
     "output_type": "display_data",
     "data": {
      "text/plain": "<Figure size 432x288 with 1 Axes>",
      "image/svg+xml": "<?xml version=\"1.0\" encoding=\"utf-8\" standalone=\"no\"?>\r\n<!DOCTYPE svg PUBLIC \"-//W3C//DTD SVG 1.1//EN\"\r\n  \"http://www.w3.org/Graphics/SVG/1.1/DTD/svg11.dtd\">\r\n<!-- Created with matplotlib (https://matplotlib.org/) -->\r\n<svg height=\"248.518125pt\" version=\"1.1\" viewBox=\"0 0 368.925 248.518125\" width=\"368.925pt\" xmlns=\"http://www.w3.org/2000/svg\" xmlns:xlink=\"http://www.w3.org/1999/xlink\">\r\n <defs>\r\n  <style type=\"text/css\">\r\n*{stroke-linecap:butt;stroke-linejoin:round;}\r\n  </style>\r\n </defs>\r\n <g id=\"figure_1\">\r\n  <g id=\"patch_1\">\r\n   <path d=\"M -0 248.518125 \r\nL 368.925 248.518125 \r\nL 368.925 0 \r\nL -0 0 \r\nz\r\n\" style=\"fill:none;\"/>\r\n  </g>\r\n  <g id=\"axes_1\">\r\n   <g id=\"patch_2\">\r\n    <path d=\"M 26.925 224.64 \r\nL 361.725 224.64 \r\nL 361.725 7.2 \r\nL 26.925 7.2 \r\nz\r\n\" style=\"fill:#ffffff;\"/>\r\n   </g>\r\n   <g id=\"patch_3\">\r\n    <path clip-path=\"url(#pea511e9db2)\" d=\"M 42.143182 224.64 \r\nL 72.579545 224.64 \r\nL 72.579545 204.917551 \r\nL 42.143182 204.917551 \r\nz\r\n\" style=\"fill:#1f77b4;\"/>\r\n   </g>\r\n   <g id=\"patch_4\">\r\n    <path clip-path=\"url(#pea511e9db2)\" d=\"M 72.579545 224.64 \r\nL 103.015909 224.64 \r\nL 103.015909 175.333878 \r\nL 72.579545 175.333878 \r\nz\r\n\" style=\"fill:#1f77b4;\"/>\r\n   </g>\r\n   <g id=\"patch_5\">\r\n    <path clip-path=\"url(#pea511e9db2)\" d=\"M 103.015909 224.64 \r\nL 133.452273 224.64 \r\nL 133.452273 160.542041 \r\nL 103.015909 160.542041 \r\nz\r\n\" style=\"fill:#1f77b4;\"/>\r\n   </g>\r\n   <g id=\"patch_6\">\r\n    <path clip-path=\"url(#pea511e9db2)\" d=\"M 133.452273 224.64 \r\nL 163.888636 224.64 \r\nL 163.888636 140.819592 \r\nL 133.452273 140.819592 \r\nz\r\n\" style=\"fill:#1f77b4;\"/>\r\n   </g>\r\n   <g id=\"patch_7\">\r\n    <path clip-path=\"url(#pea511e9db2)\" d=\"M 163.888636 224.64 \r\nL 194.325 224.64 \r\nL 194.325 27.41551 \r\nL 163.888636 27.41551 \r\nz\r\n\" style=\"fill:#1f77b4;\"/>\r\n   </g>\r\n   <g id=\"patch_8\">\r\n    <path clip-path=\"url(#pea511e9db2)\" d=\"M 194.325 224.64 \r\nL 224.761364 224.64 \r\nL 224.761364 17.554286 \r\nL 194.325 17.554286 \r\nz\r\n\" style=\"fill:#1f77b4;\"/>\r\n   </g>\r\n   <g id=\"patch_9\">\r\n    <path clip-path=\"url(#pea511e9db2)\" d=\"M 224.761364 224.64 \r\nL 255.197727 224.64 \r\nL 255.197727 61.929796 \r\nL 224.761364 61.929796 \r\nz\r\n\" style=\"fill:#1f77b4;\"/>\r\n   </g>\r\n   <g id=\"patch_10\">\r\n    <path clip-path=\"url(#pea511e9db2)\" d=\"M 255.197727 224.64 \r\nL 285.634091 224.64 \r\nL 285.634091 145.750204 \r\nL 255.197727 145.750204 \r\nz\r\n\" style=\"fill:#1f77b4;\"/>\r\n   </g>\r\n   <g id=\"patch_11\">\r\n    <path clip-path=\"url(#pea511e9db2)\" d=\"M 285.634091 224.64 \r\nL 316.070455 224.64 \r\nL 316.070455 140.819592 \r\nL 285.634091 140.819592 \r\nz\r\n\" style=\"fill:#1f77b4;\"/>\r\n   </g>\r\n   <g id=\"patch_12\">\r\n    <path clip-path=\"url(#pea511e9db2)\" d=\"M 316.070455 224.64 \r\nL 346.506818 224.64 \r\nL 346.506818 185.195102 \r\nL 316.070455 185.195102 \r\nz\r\n\" style=\"fill:#1f77b4;\"/>\r\n   </g>\r\n   <g id=\"matplotlib.axis_1\">\r\n    <g id=\"xtick_1\">\r\n     <g id=\"line2d_1\">\r\n      <defs>\r\n       <path d=\"M 0 0 \r\nL 0 3.5 \r\n\" id=\"m0672774504\" style=\"stroke:#000000;stroke-width:0.8;\"/>\r\n      </defs>\r\n      <g>\r\n       <use style=\"stroke:#000000;stroke-width:0.8;\" x=\"49.674675\" xlink:href=\"#m0672774504\" y=\"224.64\"/>\r\n      </g>\r\n     </g>\r\n     <g id=\"text_1\">\r\n      <!-- −8 -->\r\n      <defs>\r\n       <path d=\"M 10.59375 35.5 \r\nL 73.1875 35.5 \r\nL 73.1875 27.203125 \r\nL 10.59375 27.203125 \r\nz\r\n\" id=\"DejaVuSans-8722\"/>\r\n       <path d=\"M 31.78125 34.625 \r\nQ 24.75 34.625 20.71875 30.859375 \r\nQ 16.703125 27.09375 16.703125 20.515625 \r\nQ 16.703125 13.921875 20.71875 10.15625 \r\nQ 24.75 6.390625 31.78125 6.390625 \r\nQ 38.8125 6.390625 42.859375 10.171875 \r\nQ 46.921875 13.96875 46.921875 20.515625 \r\nQ 46.921875 27.09375 42.890625 30.859375 \r\nQ 38.875 34.625 31.78125 34.625 \r\nz\r\nM 21.921875 38.8125 \r\nQ 15.578125 40.375 12.03125 44.71875 \r\nQ 8.5 49.078125 8.5 55.328125 \r\nQ 8.5 64.0625 14.71875 69.140625 \r\nQ 20.953125 74.21875 31.78125 74.21875 \r\nQ 42.671875 74.21875 48.875 69.140625 \r\nQ 55.078125 64.0625 55.078125 55.328125 \r\nQ 55.078125 49.078125 51.53125 44.71875 \r\nQ 48 40.375 41.703125 38.8125 \r\nQ 48.828125 37.15625 52.796875 32.3125 \r\nQ 56.78125 27.484375 56.78125 20.515625 \r\nQ 56.78125 9.90625 50.3125 4.234375 \r\nQ 43.84375 -1.421875 31.78125 -1.421875 \r\nQ 19.734375 -1.421875 13.25 4.234375 \r\nQ 6.78125 9.90625 6.78125 20.515625 \r\nQ 6.78125 27.484375 10.78125 32.3125 \r\nQ 14.796875 37.15625 21.921875 38.8125 \r\nz\r\nM 18.3125 54.390625 \r\nQ 18.3125 48.734375 21.84375 45.5625 \r\nQ 25.390625 42.390625 31.78125 42.390625 \r\nQ 38.140625 42.390625 41.71875 45.5625 \r\nQ 45.3125 48.734375 45.3125 54.390625 \r\nQ 45.3125 60.0625 41.71875 63.234375 \r\nQ 38.140625 66.40625 31.78125 66.40625 \r\nQ 25.390625 66.40625 21.84375 63.234375 \r\nQ 18.3125 60.0625 18.3125 54.390625 \r\nz\r\n\" id=\"DejaVuSans-56\"/>\r\n      </defs>\r\n      <g transform=\"translate(42.303581 239.238437)scale(0.1 -0.1)\">\r\n       <use xlink:href=\"#DejaVuSans-8722\"/>\r\n       <use x=\"83.789062\" xlink:href=\"#DejaVuSans-56\"/>\r\n      </g>\r\n     </g>\r\n    </g>\r\n    <g id=\"xtick_2\">\r\n     <g id=\"line2d_2\">\r\n      <g>\r\n       <use style=\"stroke:#000000;stroke-width:0.8;\" x=\"88.69978\" xlink:href=\"#m0672774504\" y=\"224.64\"/>\r\n      </g>\r\n     </g>\r\n     <g id=\"text_2\">\r\n      <!-- −6 -->\r\n      <defs>\r\n       <path d=\"M 33.015625 40.375 \r\nQ 26.375 40.375 22.484375 35.828125 \r\nQ 18.609375 31.296875 18.609375 23.390625 \r\nQ 18.609375 15.53125 22.484375 10.953125 \r\nQ 26.375 6.390625 33.015625 6.390625 \r\nQ 39.65625 6.390625 43.53125 10.953125 \r\nQ 47.40625 15.53125 47.40625 23.390625 \r\nQ 47.40625 31.296875 43.53125 35.828125 \r\nQ 39.65625 40.375 33.015625 40.375 \r\nz\r\nM 52.59375 71.296875 \r\nL 52.59375 62.3125 \r\nQ 48.875 64.0625 45.09375 64.984375 \r\nQ 41.3125 65.921875 37.59375 65.921875 \r\nQ 27.828125 65.921875 22.671875 59.328125 \r\nQ 17.53125 52.734375 16.796875 39.40625 \r\nQ 19.671875 43.65625 24.015625 45.921875 \r\nQ 28.375 48.1875 33.59375 48.1875 \r\nQ 44.578125 48.1875 50.953125 41.515625 \r\nQ 57.328125 34.859375 57.328125 23.390625 \r\nQ 57.328125 12.15625 50.6875 5.359375 \r\nQ 44.046875 -1.421875 33.015625 -1.421875 \r\nQ 20.359375 -1.421875 13.671875 8.265625 \r\nQ 6.984375 17.96875 6.984375 36.375 \r\nQ 6.984375 53.65625 15.1875 63.9375 \r\nQ 23.390625 74.21875 37.203125 74.21875 \r\nQ 40.921875 74.21875 44.703125 73.484375 \r\nQ 48.484375 72.75 52.59375 71.296875 \r\nz\r\n\" id=\"DejaVuSans-54\"/>\r\n      </defs>\r\n      <g transform=\"translate(81.328686 239.238437)scale(0.1 -0.1)\">\r\n       <use xlink:href=\"#DejaVuSans-8722\"/>\r\n       <use x=\"83.789062\" xlink:href=\"#DejaVuSans-54\"/>\r\n      </g>\r\n     </g>\r\n    </g>\r\n    <g id=\"xtick_3\">\r\n     <g id=\"line2d_3\">\r\n      <g>\r\n       <use style=\"stroke:#000000;stroke-width:0.8;\" x=\"127.724885\" xlink:href=\"#m0672774504\" y=\"224.64\"/>\r\n      </g>\r\n     </g>\r\n     <g id=\"text_3\">\r\n      <!-- −4 -->\r\n      <defs>\r\n       <path d=\"M 37.796875 64.3125 \r\nL 12.890625 25.390625 \r\nL 37.796875 25.390625 \r\nz\r\nM 35.203125 72.90625 \r\nL 47.609375 72.90625 \r\nL 47.609375 25.390625 \r\nL 58.015625 25.390625 \r\nL 58.015625 17.1875 \r\nL 47.609375 17.1875 \r\nL 47.609375 0 \r\nL 37.796875 0 \r\nL 37.796875 17.1875 \r\nL 4.890625 17.1875 \r\nL 4.890625 26.703125 \r\nz\r\n\" id=\"DejaVuSans-52\"/>\r\n      </defs>\r\n      <g transform=\"translate(120.353792 239.238437)scale(0.1 -0.1)\">\r\n       <use xlink:href=\"#DejaVuSans-8722\"/>\r\n       <use x=\"83.789062\" xlink:href=\"#DejaVuSans-52\"/>\r\n      </g>\r\n     </g>\r\n    </g>\r\n    <g id=\"xtick_4\">\r\n     <g id=\"line2d_4\">\r\n      <g>\r\n       <use style=\"stroke:#000000;stroke-width:0.8;\" x=\"166.74999\" xlink:href=\"#m0672774504\" y=\"224.64\"/>\r\n      </g>\r\n     </g>\r\n     <g id=\"text_4\">\r\n      <!-- −2 -->\r\n      <defs>\r\n       <path d=\"M 19.1875 8.296875 \r\nL 53.609375 8.296875 \r\nL 53.609375 0 \r\nL 7.328125 0 \r\nL 7.328125 8.296875 \r\nQ 12.9375 14.109375 22.625 23.890625 \r\nQ 32.328125 33.6875 34.8125 36.53125 \r\nQ 39.546875 41.84375 41.421875 45.53125 \r\nQ 43.3125 49.21875 43.3125 52.78125 \r\nQ 43.3125 58.59375 39.234375 62.25 \r\nQ 35.15625 65.921875 28.609375 65.921875 \r\nQ 23.96875 65.921875 18.8125 64.3125 \r\nQ 13.671875 62.703125 7.8125 59.421875 \r\nL 7.8125 69.390625 \r\nQ 13.765625 71.78125 18.9375 73 \r\nQ 24.125 74.21875 28.421875 74.21875 \r\nQ 39.75 74.21875 46.484375 68.546875 \r\nQ 53.21875 62.890625 53.21875 53.421875 \r\nQ 53.21875 48.921875 51.53125 44.890625 \r\nQ 49.859375 40.875 45.40625 35.40625 \r\nQ 44.1875 33.984375 37.640625 27.21875 \r\nQ 31.109375 20.453125 19.1875 8.296875 \r\nz\r\n\" id=\"DejaVuSans-50\"/>\r\n      </defs>\r\n      <g transform=\"translate(159.378897 239.238437)scale(0.1 -0.1)\">\r\n       <use xlink:href=\"#DejaVuSans-8722\"/>\r\n       <use x=\"83.789062\" xlink:href=\"#DejaVuSans-50\"/>\r\n      </g>\r\n     </g>\r\n    </g>\r\n    <g id=\"xtick_5\">\r\n     <g id=\"line2d_5\">\r\n      <g>\r\n       <use style=\"stroke:#000000;stroke-width:0.8;\" x=\"205.775095\" xlink:href=\"#m0672774504\" y=\"224.64\"/>\r\n      </g>\r\n     </g>\r\n     <g id=\"text_5\">\r\n      <!-- 0 -->\r\n      <defs>\r\n       <path d=\"M 31.78125 66.40625 \r\nQ 24.171875 66.40625 20.328125 58.90625 \r\nQ 16.5 51.421875 16.5 36.375 \r\nQ 16.5 21.390625 20.328125 13.890625 \r\nQ 24.171875 6.390625 31.78125 6.390625 \r\nQ 39.453125 6.390625 43.28125 13.890625 \r\nQ 47.125 21.390625 47.125 36.375 \r\nQ 47.125 51.421875 43.28125 58.90625 \r\nQ 39.453125 66.40625 31.78125 66.40625 \r\nz\r\nM 31.78125 74.21875 \r\nQ 44.046875 74.21875 50.515625 64.515625 \r\nQ 56.984375 54.828125 56.984375 36.375 \r\nQ 56.984375 17.96875 50.515625 8.265625 \r\nQ 44.046875 -1.421875 31.78125 -1.421875 \r\nQ 19.53125 -1.421875 13.0625 8.265625 \r\nQ 6.59375 17.96875 6.59375 36.375 \r\nQ 6.59375 54.828125 13.0625 64.515625 \r\nQ 19.53125 74.21875 31.78125 74.21875 \r\nz\r\n\" id=\"DejaVuSans-48\"/>\r\n      </defs>\r\n      <g transform=\"translate(202.593845 239.238437)scale(0.1 -0.1)\">\r\n       <use xlink:href=\"#DejaVuSans-48\"/>\r\n      </g>\r\n     </g>\r\n    </g>\r\n    <g id=\"xtick_6\">\r\n     <g id=\"line2d_6\">\r\n      <g>\r\n       <use style=\"stroke:#000000;stroke-width:0.8;\" x=\"244.800201\" xlink:href=\"#m0672774504\" y=\"224.64\"/>\r\n      </g>\r\n     </g>\r\n     <g id=\"text_6\">\r\n      <!-- 2 -->\r\n      <g transform=\"translate(241.618951 239.238437)scale(0.1 -0.1)\">\r\n       <use xlink:href=\"#DejaVuSans-50\"/>\r\n      </g>\r\n     </g>\r\n    </g>\r\n    <g id=\"xtick_7\">\r\n     <g id=\"line2d_7\">\r\n      <g>\r\n       <use style=\"stroke:#000000;stroke-width:0.8;\" x=\"283.825306\" xlink:href=\"#m0672774504\" y=\"224.64\"/>\r\n      </g>\r\n     </g>\r\n     <g id=\"text_7\">\r\n      <!-- 4 -->\r\n      <g transform=\"translate(280.644056 239.238437)scale(0.1 -0.1)\">\r\n       <use xlink:href=\"#DejaVuSans-52\"/>\r\n      </g>\r\n     </g>\r\n    </g>\r\n    <g id=\"xtick_8\">\r\n     <g id=\"line2d_8\">\r\n      <g>\r\n       <use style=\"stroke:#000000;stroke-width:0.8;\" x=\"322.850411\" xlink:href=\"#m0672774504\" y=\"224.64\"/>\r\n      </g>\r\n     </g>\r\n     <g id=\"text_8\">\r\n      <!-- 6 -->\r\n      <g transform=\"translate(319.669161 239.238437)scale(0.1 -0.1)\">\r\n       <use xlink:href=\"#DejaVuSans-54\"/>\r\n      </g>\r\n     </g>\r\n    </g>\r\n   </g>\r\n   <g id=\"matplotlib.axis_2\">\r\n    <g id=\"ytick_1\">\r\n     <g id=\"line2d_9\">\r\n      <defs>\r\n       <path d=\"M 0 0 \r\nL -3.5 0 \r\n\" id=\"m95a254a37b\" style=\"stroke:#000000;stroke-width:0.8;\"/>\r\n      </defs>\r\n      <g>\r\n       <use style=\"stroke:#000000;stroke-width:0.8;\" x=\"26.925\" xlink:href=\"#m95a254a37b\" y=\"224.64\"/>\r\n      </g>\r\n     </g>\r\n     <g id=\"text_9\">\r\n      <!-- 0 -->\r\n      <g transform=\"translate(13.5625 228.439219)scale(0.1 -0.1)\">\r\n       <use xlink:href=\"#DejaVuSans-48\"/>\r\n      </g>\r\n     </g>\r\n    </g>\r\n    <g id=\"ytick_2\">\r\n     <g id=\"line2d_10\">\r\n      <g>\r\n       <use style=\"stroke:#000000;stroke-width:0.8;\" x=\"26.925\" xlink:href=\"#m95a254a37b\" y=\"199.986939\"/>\r\n      </g>\r\n     </g>\r\n     <g id=\"text_10\">\r\n      <!-- 5 -->\r\n      <defs>\r\n       <path d=\"M 10.796875 72.90625 \r\nL 49.515625 72.90625 \r\nL 49.515625 64.59375 \r\nL 19.828125 64.59375 \r\nL 19.828125 46.734375 \r\nQ 21.96875 47.46875 24.109375 47.828125 \r\nQ 26.265625 48.1875 28.421875 48.1875 \r\nQ 40.625 48.1875 47.75 41.5 \r\nQ 54.890625 34.8125 54.890625 23.390625 \r\nQ 54.890625 11.625 47.5625 5.09375 \r\nQ 40.234375 -1.421875 26.90625 -1.421875 \r\nQ 22.3125 -1.421875 17.546875 -0.640625 \r\nQ 12.796875 0.140625 7.71875 1.703125 \r\nL 7.71875 11.625 \r\nQ 12.109375 9.234375 16.796875 8.0625 \r\nQ 21.484375 6.890625 26.703125 6.890625 \r\nQ 35.15625 6.890625 40.078125 11.328125 \r\nQ 45.015625 15.765625 45.015625 23.390625 \r\nQ 45.015625 31 40.078125 35.4375 \r\nQ 35.15625 39.890625 26.703125 39.890625 \r\nQ 22.75 39.890625 18.8125 39.015625 \r\nQ 14.890625 38.140625 10.796875 36.28125 \r\nz\r\n\" id=\"DejaVuSans-53\"/>\r\n      </defs>\r\n      <g transform=\"translate(13.5625 203.786158)scale(0.1 -0.1)\">\r\n       <use xlink:href=\"#DejaVuSans-53\"/>\r\n      </g>\r\n     </g>\r\n    </g>\r\n    <g id=\"ytick_3\">\r\n     <g id=\"line2d_11\">\r\n      <g>\r\n       <use style=\"stroke:#000000;stroke-width:0.8;\" x=\"26.925\" xlink:href=\"#m95a254a37b\" y=\"175.333878\"/>\r\n      </g>\r\n     </g>\r\n     <g id=\"text_11\">\r\n      <!-- 10 -->\r\n      <defs>\r\n       <path d=\"M 12.40625 8.296875 \r\nL 28.515625 8.296875 \r\nL 28.515625 63.921875 \r\nL 10.984375 60.40625 \r\nL 10.984375 69.390625 \r\nL 28.421875 72.90625 \r\nL 38.28125 72.90625 \r\nL 38.28125 8.296875 \r\nL 54.390625 8.296875 \r\nL 54.390625 0 \r\nL 12.40625 0 \r\nz\r\n\" id=\"DejaVuSans-49\"/>\r\n      </defs>\r\n      <g transform=\"translate(7.2 179.133096)scale(0.1 -0.1)\">\r\n       <use xlink:href=\"#DejaVuSans-49\"/>\r\n       <use x=\"63.623047\" xlink:href=\"#DejaVuSans-48\"/>\r\n      </g>\r\n     </g>\r\n    </g>\r\n    <g id=\"ytick_4\">\r\n     <g id=\"line2d_12\">\r\n      <g>\r\n       <use style=\"stroke:#000000;stroke-width:0.8;\" x=\"26.925\" xlink:href=\"#m95a254a37b\" y=\"150.680816\"/>\r\n      </g>\r\n     </g>\r\n     <g id=\"text_12\">\r\n      <!-- 15 -->\r\n      <g transform=\"translate(7.2 154.480035)scale(0.1 -0.1)\">\r\n       <use xlink:href=\"#DejaVuSans-49\"/>\r\n       <use x=\"63.623047\" xlink:href=\"#DejaVuSans-53\"/>\r\n      </g>\r\n     </g>\r\n    </g>\r\n    <g id=\"ytick_5\">\r\n     <g id=\"line2d_13\">\r\n      <g>\r\n       <use style=\"stroke:#000000;stroke-width:0.8;\" x=\"26.925\" xlink:href=\"#m95a254a37b\" y=\"126.027755\"/>\r\n      </g>\r\n     </g>\r\n     <g id=\"text_13\">\r\n      <!-- 20 -->\r\n      <g transform=\"translate(7.2 129.826974)scale(0.1 -0.1)\">\r\n       <use xlink:href=\"#DejaVuSans-50\"/>\r\n       <use x=\"63.623047\" xlink:href=\"#DejaVuSans-48\"/>\r\n      </g>\r\n     </g>\r\n    </g>\r\n    <g id=\"ytick_6\">\r\n     <g id=\"line2d_14\">\r\n      <g>\r\n       <use style=\"stroke:#000000;stroke-width:0.8;\" x=\"26.925\" xlink:href=\"#m95a254a37b\" y=\"101.374694\"/>\r\n      </g>\r\n     </g>\r\n     <g id=\"text_14\">\r\n      <!-- 25 -->\r\n      <g transform=\"translate(7.2 105.173913)scale(0.1 -0.1)\">\r\n       <use xlink:href=\"#DejaVuSans-50\"/>\r\n       <use x=\"63.623047\" xlink:href=\"#DejaVuSans-53\"/>\r\n      </g>\r\n     </g>\r\n    </g>\r\n    <g id=\"ytick_7\">\r\n     <g id=\"line2d_15\">\r\n      <g>\r\n       <use style=\"stroke:#000000;stroke-width:0.8;\" x=\"26.925\" xlink:href=\"#m95a254a37b\" y=\"76.721633\"/>\r\n      </g>\r\n     </g>\r\n     <g id=\"text_15\">\r\n      <!-- 30 -->\r\n      <defs>\r\n       <path d=\"M 40.578125 39.3125 \r\nQ 47.65625 37.796875 51.625 33 \r\nQ 55.609375 28.21875 55.609375 21.1875 \r\nQ 55.609375 10.40625 48.1875 4.484375 \r\nQ 40.765625 -1.421875 27.09375 -1.421875 \r\nQ 22.515625 -1.421875 17.65625 -0.515625 \r\nQ 12.796875 0.390625 7.625 2.203125 \r\nL 7.625 11.71875 \r\nQ 11.71875 9.328125 16.59375 8.109375 \r\nQ 21.484375 6.890625 26.8125 6.890625 \r\nQ 36.078125 6.890625 40.9375 10.546875 \r\nQ 45.796875 14.203125 45.796875 21.1875 \r\nQ 45.796875 27.640625 41.28125 31.265625 \r\nQ 36.765625 34.90625 28.71875 34.90625 \r\nL 20.21875 34.90625 \r\nL 20.21875 43.015625 \r\nL 29.109375 43.015625 \r\nQ 36.375 43.015625 40.234375 45.921875 \r\nQ 44.09375 48.828125 44.09375 54.296875 \r\nQ 44.09375 59.90625 40.109375 62.90625 \r\nQ 36.140625 65.921875 28.71875 65.921875 \r\nQ 24.65625 65.921875 20.015625 65.03125 \r\nQ 15.375 64.15625 9.8125 62.3125 \r\nL 9.8125 71.09375 \r\nQ 15.4375 72.65625 20.34375 73.4375 \r\nQ 25.25 74.21875 29.59375 74.21875 \r\nQ 40.828125 74.21875 47.359375 69.109375 \r\nQ 53.90625 64.015625 53.90625 55.328125 \r\nQ 53.90625 49.265625 50.4375 45.09375 \r\nQ 46.96875 40.921875 40.578125 39.3125 \r\nz\r\n\" id=\"DejaVuSans-51\"/>\r\n      </defs>\r\n      <g transform=\"translate(7.2 80.520851)scale(0.1 -0.1)\">\r\n       <use xlink:href=\"#DejaVuSans-51\"/>\r\n       <use x=\"63.623047\" xlink:href=\"#DejaVuSans-48\"/>\r\n      </g>\r\n     </g>\r\n    </g>\r\n    <g id=\"ytick_8\">\r\n     <g id=\"line2d_16\">\r\n      <g>\r\n       <use style=\"stroke:#000000;stroke-width:0.8;\" x=\"26.925\" xlink:href=\"#m95a254a37b\" y=\"52.068571\"/>\r\n      </g>\r\n     </g>\r\n     <g id=\"text_16\">\r\n      <!-- 35 -->\r\n      <g transform=\"translate(7.2 55.86779)scale(0.1 -0.1)\">\r\n       <use xlink:href=\"#DejaVuSans-51\"/>\r\n       <use x=\"63.623047\" xlink:href=\"#DejaVuSans-53\"/>\r\n      </g>\r\n     </g>\r\n    </g>\r\n    <g id=\"ytick_9\">\r\n     <g id=\"line2d_17\">\r\n      <g>\r\n       <use style=\"stroke:#000000;stroke-width:0.8;\" x=\"26.925\" xlink:href=\"#m95a254a37b\" y=\"27.41551\"/>\r\n      </g>\r\n     </g>\r\n     <g id=\"text_17\">\r\n      <!-- 40 -->\r\n      <g transform=\"translate(7.2 31.214729)scale(0.1 -0.1)\">\r\n       <use xlink:href=\"#DejaVuSans-52\"/>\r\n       <use x=\"63.623047\" xlink:href=\"#DejaVuSans-48\"/>\r\n      </g>\r\n     </g>\r\n    </g>\r\n   </g>\r\n   <g id=\"patch_13\">\r\n    <path d=\"M 26.925 224.64 \r\nL 26.925 7.2 \r\n\" style=\"fill:none;stroke:#000000;stroke-linecap:square;stroke-linejoin:miter;stroke-width:0.8;\"/>\r\n   </g>\r\n   <g id=\"patch_14\">\r\n    <path d=\"M 361.725 224.64 \r\nL 361.725 7.2 \r\n\" style=\"fill:none;stroke:#000000;stroke-linecap:square;stroke-linejoin:miter;stroke-width:0.8;\"/>\r\n   </g>\r\n   <g id=\"patch_15\">\r\n    <path d=\"M 26.925 224.64 \r\nL 361.725 224.64 \r\n\" style=\"fill:none;stroke:#000000;stroke-linecap:square;stroke-linejoin:miter;stroke-width:0.8;\"/>\r\n   </g>\r\n   <g id=\"patch_16\">\r\n    <path d=\"M 26.925 7.2 \r\nL 361.725 7.2 \r\n\" style=\"fill:none;stroke:#000000;stroke-linecap:square;stroke-linejoin:miter;stroke-width:0.8;\"/>\r\n   </g>\r\n  </g>\r\n </g>\r\n <defs>\r\n  <clipPath id=\"pea511e9db2\">\r\n   <rect height=\"217.44\" width=\"334.8\" x=\"26.925\" y=\"7.2\"/>\r\n  </clipPath>\r\n </defs>\r\n</svg>\r\n",
      "image/png": "[encoded data removed]"
     },
     "metadata": {
      "needs_background": "light"
     }
    }
   ],
   "source": [
    "plt.hist(data_ads[\"RSE\"])"
   ]
  },
  {
   "cell_type": "markdown",
   "metadata": {},
   "source": [
    "los errores se distribuyen aparentemente de acuerdo a una normal de media 0, perfecto, pero queda un 23% sin explicar. Lo ideal seria añadir a la predicción las otras dos columnas, radio y periódicos.\n",
    "\n",
    "## Regresión lineal múltiple\n",
    "\n",
    "Con este dataset existen varias posibilidades, de las cuales hemos probado solo la primera. Usaremos la notacion del propio paquete de statsmodel para regresión múltiple\n",
    "- Sales ~ TV\n",
    "- Sales ~ Newspaper\n",
    "- Sales ~ Radio\n",
    "- Sales ~ TV + Newspaper\n",
    "- Sales ~ TV + Radio\n",
    "- Sales ~ Radio + Newspaper\n",
    "- Sales ~ TV + Newspaper + Radio\n",
    "\n",
    "La idea seria filtrar primero y simular después:\n",
    "- Método 1/Destructivo\n",
    "    - Usar primero todas\n",
    "    - Quedarse solo con las que tengan los menores p-valores\n",
    "- Método 2/Constructivo\n",
    "    - Empezar por una variable a ser posible la de menor RSE\n",
    "    - Añadir variables que van subiendo Rcuadrado adj\n",
    "\n",
    "Vamos con el constructivo con la TV\n",
    "\n"
   ]
  },
  {
   "cell_type": "code",
   "execution_count": 13,
   "metadata": {},
   "outputs": [],
   "source": [
    "# Añadimos Newspaper al modelo exsistente\n",
    "lm2 = smf.ols(formula = \"Sales ~ TV + Newspaper\", data=data_ads).fit()"
   ]
  },
  {
   "cell_type": "code",
   "execution_count": 15,
   "metadata": {},
   "outputs": [
    {
     "output_type": "execute_result",
     "data": {
      "text/plain": "<class 'statsmodels.iolib.summary.Summary'>\n\"\"\"\n                            OLS Regression Results                            \n==============================================================================\nDep. Variable:                  Sales   R-squared:                       0.646\nModel:                            OLS   Adj. R-squared:                  0.642\nMethod:                 Least Squares   F-statistic:                     179.6\nDate:                Tue, 18 Aug 2020   Prob (F-statistic):           3.95e-45\nTime:                        22:39:03   Log-Likelihood:                -509.89\nNo. Observations:                 200   AIC:                             1026.\nDf Residuals:                     197   BIC:                             1036.\nDf Model:                           2                                         \nCovariance Type:            nonrobust                                         \n==============================================================================\n                 coef    std err          t      P>|t|      [0.025      0.975]\n------------------------------------------------------------------------------\nIntercept      5.7749      0.525     10.993      0.000       4.739       6.811\nTV             0.0469      0.003     18.173      0.000       0.042       0.052\nNewspaper      0.0442      0.010      4.346      0.000       0.024       0.064\n==============================================================================\nOmnibus:                        0.658   Durbin-Watson:                   1.969\nProb(Omnibus):                  0.720   Jarque-Bera (JB):                0.415\nSkew:                          -0.093   Prob(JB):                        0.813\nKurtosis:                       3.122   Cond. No.                         410.\n==============================================================================\n\nWarnings:\n[1] Standard Errors assume that the covariance matrix of the errors is correctly specified.\n\"\"\"",
      "text/html": "<table class=\"simpletable\">\n<caption>OLS Regression Results</caption>\n<tr>\n  <th>Dep. Variable:</th>          <td>Sales</td>      <th>  R-squared:         </th> <td>   0.646</td>\n</tr>\n<tr>\n  <th>Model:</th>                   <td>OLS</td>       <th>  Adj. R-squared:    </th> <td>   0.642</td>\n</tr>\n<tr>\n  <th>Method:</th>             <td>Least Squares</td>  <th>  F-statistic:       </th> <td>   179.6</td>\n</tr>\n<tr>\n  <th>Date:</th>             <td>Tue, 18 Aug 2020</td> <th>  Prob (F-statistic):</th> <td>3.95e-45</td>\n</tr>\n<tr>\n  <th>Time:</th>                 <td>22:39:03</td>     <th>  Log-Likelihood:    </th> <td> -509.89</td>\n</tr>\n<tr>\n  <th>No. Observations:</th>      <td>   200</td>      <th>  AIC:               </th> <td>   1026.</td>\n</tr>\n<tr>\n  <th>Df Residuals:</th>          <td>   197</td>      <th>  BIC:               </th> <td>   1036.</td>\n</tr>\n<tr>\n  <th>Df Model:</th>              <td>     2</td>      <th>                     </th>     <td> </td>   \n</tr>\n<tr>\n  <th>Covariance Type:</th>      <td>nonrobust</td>    <th>                     </th>     <td> </td>   \n</tr>\n</table>\n<table class=\"simpletable\">\n<tr>\n      <td></td>         <th>coef</th>     <th>std err</th>      <th>t</th>      <th>P>|t|</th>  <th>[0.025</th>    <th>0.975]</th>  \n</tr>\n<tr>\n  <th>Intercept</th> <td>    5.7749</td> <td>    0.525</td> <td>   10.993</td> <td> 0.000</td> <td>    4.739</td> <td>    6.811</td>\n</tr>\n<tr>\n  <th>TV</th>        <td>    0.0469</td> <td>    0.003</td> <td>   18.173</td> <td> 0.000</td> <td>    0.042</td> <td>    0.052</td>\n</tr>\n<tr>\n  <th>Newspaper</th> <td>    0.0442</td> <td>    0.010</td> <td>    4.346</td> <td> 0.000</td> <td>    0.024</td> <td>    0.064</td>\n</tr>\n</table>\n<table class=\"simpletable\">\n<tr>\n  <th>Omnibus:</th>       <td> 0.658</td> <th>  Durbin-Watson:     </th> <td>   1.969</td>\n</tr>\n<tr>\n  <th>Prob(Omnibus):</th> <td> 0.720</td> <th>  Jarque-Bera (JB):  </th> <td>   0.415</td>\n</tr>\n<tr>\n  <th>Skew:</th>          <td>-0.093</td> <th>  Prob(JB):          </th> <td>   0.813</td>\n</tr>\n<tr>\n  <th>Kurtosis:</th>      <td> 3.122</td> <th>  Cond. No.          </th> <td>    410.</td>\n</tr>\n</table><br/><br/>Warnings:<br/>[1] Standard Errors assume that the covariance matrix of the errors is correctly specified."
     },
     "metadata": {},
     "execution_count": 15
    }
   ],
   "source": [
    "lm2.summary()"
   ]
  },
  {
   "cell_type": "code",
   "execution_count": 16,
   "metadata": {},
   "outputs": [
    {
     "output_type": "execute_result",
     "data": {
      "text/plain": "Intercept    3.145860e-22\nTV           5.507584e-44\nNewspaper    2.217084e-05\ndtype: float64"
     },
     "metadata": {},
     "execution_count": 16
    }
   ],
   "source": [
    "lm2.pvalues"
   ]
  },
  {
   "cell_type": "markdown",
   "metadata": {},
   "source": [
    "El pvalor de Newspaper es bajo, no tanto como TV, pero suficiente. La nueva fórmula seria:\n",
    "\\begin{equation}\n",
    "Sales =  5.774948 + 0.0469 * TV + 0.0442 * Newspaper\n",
    "\\end{equation}\n",
    "Comparamos con el R cuadrado como dijimos: debe incrementarlo\n"
   ]
  },
  {
   "cell_type": "code",
   "execution_count": 19,
   "metadata": {},
   "outputs": [
    {
     "output_type": "execute_result",
     "data": {
      "text/plain": "0.033960442979256156"
     },
     "metadata": {},
     "execution_count": 19
    }
   ],
   "source": [
    "lm2.rsquared - lm.rsquared"
   ]
  },
  {
   "cell_type": "code",
   "execution_count": 23,
   "metadata": {},
   "outputs": [
    {
     "output_type": "execute_result",
     "data": {
      "text/plain": "      TV  Newspaper  Sales         lm        lm2\n0  230.1       69.2   22.1  17.970775  19.626901\n1   44.5       45.1   10.4   9.147974   9.856348\n2   17.2       69.3    9.3   7.850224   9.646055\n3  151.5       58.5   18.5  14.234395  15.467318\n4  180.8       58.4   12.9  15.627218  16.837102",
      "text/html": "<div>\n<style scoped>\n    .dataframe tbody tr th:only-of-type {\n        vertical-align: middle;\n    }\n\n    .dataframe tbody tr th {\n        vertical-align: top;\n    }\n\n    .dataframe thead th {\n        text-align: right;\n    }\n</style>\n<table border=\"1\" class=\"dataframe\">\n  <thead>\n    <tr style=\"text-align: right;\">\n      <th></th>\n      <th>TV</th>\n      <th>Newspaper</th>\n      <th>Sales</th>\n      <th>lm</th>\n      <th>lm2</th>\n    </tr>\n  </thead>\n  <tbody>\n    <tr>\n      <th>0</th>\n      <td>230.1</td>\n      <td>69.2</td>\n      <td>22.1</td>\n      <td>17.970775</td>\n      <td>19.626901</td>\n    </tr>\n    <tr>\n      <th>1</th>\n      <td>44.5</td>\n      <td>45.1</td>\n      <td>10.4</td>\n      <td>9.147974</td>\n      <td>9.856348</td>\n    </tr>\n    <tr>\n      <th>2</th>\n      <td>17.2</td>\n      <td>69.3</td>\n      <td>9.3</td>\n      <td>7.850224</td>\n      <td>9.646055</td>\n    </tr>\n    <tr>\n      <th>3</th>\n      <td>151.5</td>\n      <td>58.5</td>\n      <td>18.5</td>\n      <td>14.234395</td>\n      <td>15.467318</td>\n    </tr>\n    <tr>\n      <th>4</th>\n      <td>180.8</td>\n      <td>58.4</td>\n      <td>12.9</td>\n      <td>15.627218</td>\n      <td>16.837102</td>\n    </tr>\n  </tbody>\n</table>\n</div>"
     },
     "metadata": {},
     "execution_count": 23
    }
   ],
   "source": [
    "data_ads[\"lm2\"] = lm2.predict(data_ads[[\"TV\", \"Newspaper\"]])\n",
    "data_ads[[\"TV\", \"Newspaper\", \"Sales\", \"lm\", \"lm2\"]].head()"
   ]
  },
  {
   "cell_type": "code",
   "execution_count": 25,
   "metadata": {},
   "outputs": [
    {
     "output_type": "execute_result",
     "data": {
      "text/plain": "1918.5618118968275"
     },
     "metadata": {},
     "execution_count": 25
    }
   ],
   "source": [
    "# calculamos el SSD\n",
    "data_ads[\"RSE2\"] = data_ads[\"Sales\"] - data_ads[\"lm2\"]\n",
    "SSD2 = sum(data_ads[\"RSE2\"]**2)\n",
    "SSD2"
   ]
  },
  {
   "cell_type": "code",
   "execution_count": 35,
   "metadata": {},
   "outputs": [
    {
     "output_type": "execute_result",
     "data": {
      "text/plain": "(3.258656368650463, 3.1207198602528856)"
     },
     "metadata": {},
     "execution_count": 35
    }
   ],
   "source": [
    "RSE2 = np.sqrt(SSD2/(len(data_ads)-3)) # hay una variable mas (-2 -1)\n",
    "\n",
    "RSE, RSE2\n",
    "# mejora pero poco"
   ]
  },
  {
   "cell_type": "markdown",
   "metadata": {},
   "source": [
    "### Añadimos radio en vez de periodico"
   ]
  },
  {
   "cell_type": "code",
   "execution_count": 29,
   "metadata": {},
   "outputs": [],
   "source": [
    "# Añadimos Newspaper al modelo exsistente\n",
    "lm3 = smf.ols(formula = \"Sales ~ TV + Radio\", data=data_ads).fit()"
   ]
  },
  {
   "cell_type": "code",
   "execution_count": 31,
   "metadata": {},
   "outputs": [
    {
     "output_type": "execute_result",
     "data": {
      "text/plain": "<class 'statsmodels.iolib.summary.Summary'>\n\"\"\"\n                            OLS Regression Results                            \n==============================================================================\nDep. Variable:                  Sales   R-squared:                       0.897\nModel:                            OLS   Adj. R-squared:                  0.896\nMethod:                 Least Squares   F-statistic:                     859.6\nDate:                Tue, 18 Aug 2020   Prob (F-statistic):           4.83e-98\nTime:                        22:56:46   Log-Likelihood:                -386.20\nNo. Observations:                 200   AIC:                             778.4\nDf Residuals:                     197   BIC:                             788.3\nDf Model:                           2                                         \nCovariance Type:            nonrobust                                         \n==============================================================================\n                 coef    std err          t      P>|t|      [0.025      0.975]\n------------------------------------------------------------------------------\nIntercept      2.9211      0.294      9.919      0.000       2.340       3.502\nTV             0.0458      0.001     32.909      0.000       0.043       0.048\nRadio          0.1880      0.008     23.382      0.000       0.172       0.204\n==============================================================================\nOmnibus:                       60.022   Durbin-Watson:                   2.081\nProb(Omnibus):                  0.000   Jarque-Bera (JB):              148.679\nSkew:                          -1.323   Prob(JB):                     5.19e-33\nKurtosis:                       6.292   Cond. No.                         425.\n==============================================================================\n\nWarnings:\n[1] Standard Errors assume that the covariance matrix of the errors is correctly specified.\n\"\"\"",
      "text/html": "<table class=\"simpletable\">\n<caption>OLS Regression Results</caption>\n<tr>\n  <th>Dep. Variable:</th>          <td>Sales</td>      <th>  R-squared:         </th> <td>   0.897</td>\n</tr>\n<tr>\n  <th>Model:</th>                   <td>OLS</td>       <th>  Adj. R-squared:    </th> <td>   0.896</td>\n</tr>\n<tr>\n  <th>Method:</th>             <td>Least Squares</td>  <th>  F-statistic:       </th> <td>   859.6</td>\n</tr>\n<tr>\n  <th>Date:</th>             <td>Tue, 18 Aug 2020</td> <th>  Prob (F-statistic):</th> <td>4.83e-98</td>\n</tr>\n<tr>\n  <th>Time:</th>                 <td>22:56:46</td>     <th>  Log-Likelihood:    </th> <td> -386.20</td>\n</tr>\n<tr>\n  <th>No. Observations:</th>      <td>   200</td>      <th>  AIC:               </th> <td>   778.4</td>\n</tr>\n<tr>\n  <th>Df Residuals:</th>          <td>   197</td>      <th>  BIC:               </th> <td>   788.3</td>\n</tr>\n<tr>\n  <th>Df Model:</th>              <td>     2</td>      <th>                     </th>     <td> </td>   \n</tr>\n<tr>\n  <th>Covariance Type:</th>      <td>nonrobust</td>    <th>                     </th>     <td> </td>   \n</tr>\n</table>\n<table class=\"simpletable\">\n<tr>\n      <td></td>         <th>coef</th>     <th>std err</th>      <th>t</th>      <th>P>|t|</th>  <th>[0.025</th>    <th>0.975]</th>  \n</tr>\n<tr>\n  <th>Intercept</th> <td>    2.9211</td> <td>    0.294</td> <td>    9.919</td> <td> 0.000</td> <td>    2.340</td> <td>    3.502</td>\n</tr>\n<tr>\n  <th>TV</th>        <td>    0.0458</td> <td>    0.001</td> <td>   32.909</td> <td> 0.000</td> <td>    0.043</td> <td>    0.048</td>\n</tr>\n<tr>\n  <th>Radio</th>     <td>    0.1880</td> <td>    0.008</td> <td>   23.382</td> <td> 0.000</td> <td>    0.172</td> <td>    0.204</td>\n</tr>\n</table>\n<table class=\"simpletable\">\n<tr>\n  <th>Omnibus:</th>       <td>60.022</td> <th>  Durbin-Watson:     </th> <td>   2.081</td>\n</tr>\n<tr>\n  <th>Prob(Omnibus):</th> <td> 0.000</td> <th>  Jarque-Bera (JB):  </th> <td> 148.679</td>\n</tr>\n<tr>\n  <th>Skew:</th>          <td>-1.323</td> <th>  Prob(JB):          </th> <td>5.19e-33</td>\n</tr>\n<tr>\n  <th>Kurtosis:</th>      <td> 6.292</td> <th>  Cond. No.          </th> <td>    425.</td>\n</tr>\n</table><br/><br/>Warnings:<br/>[1] Standard Errors assume that the covariance matrix of the errors is correctly specified."
     },
     "metadata": {},
     "execution_count": 31
    }
   ],
   "source": [
    "lm3.summary()"
   ]
  },
  {
   "cell_type": "markdown",
   "metadata": {},
   "source": [
    "Un R cuadrado de casi el 90% y un Prob (F-statistic):\t4.83e-98\n",
    "\n",
    "Con este ajuste lo petamos"
   ]
  },
  {
   "cell_type": "code",
   "execution_count": 33,
   "metadata": {},
   "outputs": [
    {
     "output_type": "execute_result",
     "data": {
      "text/plain": "      TV  Radio  Sales        lm2        lm3\n0  230.1   37.8   22.1  19.626901  20.555465\n1   44.5   39.3   10.4   9.856348  12.345362\n2   17.2   45.9    9.3   9.646055  12.337018\n3  151.5   41.3   18.5  15.467318  17.617116\n4  180.8   10.8   12.9  16.837102  13.223908",
      "text/html": "<div>\n<style scoped>\n    .dataframe tbody tr th:only-of-type {\n        vertical-align: middle;\n    }\n\n    .dataframe tbody tr th {\n        vertical-align: top;\n    }\n\n    .dataframe thead th {\n        text-align: right;\n    }\n</style>\n<table border=\"1\" class=\"dataframe\">\n  <thead>\n    <tr style=\"text-align: right;\">\n      <th></th>\n      <th>TV</th>\n      <th>Radio</th>\n      <th>Sales</th>\n      <th>lm2</th>\n      <th>lm3</th>\n    </tr>\n  </thead>\n  <tbody>\n    <tr>\n      <th>0</th>\n      <td>230.1</td>\n      <td>37.8</td>\n      <td>22.1</td>\n      <td>19.626901</td>\n      <td>20.555465</td>\n    </tr>\n    <tr>\n      <th>1</th>\n      <td>44.5</td>\n      <td>39.3</td>\n      <td>10.4</td>\n      <td>9.856348</td>\n      <td>12.345362</td>\n    </tr>\n    <tr>\n      <th>2</th>\n      <td>17.2</td>\n      <td>45.9</td>\n      <td>9.3</td>\n      <td>9.646055</td>\n      <td>12.337018</td>\n    </tr>\n    <tr>\n      <th>3</th>\n      <td>151.5</td>\n      <td>41.3</td>\n      <td>18.5</td>\n      <td>15.467318</td>\n      <td>17.617116</td>\n    </tr>\n    <tr>\n      <th>4</th>\n      <td>180.8</td>\n      <td>10.8</td>\n      <td>12.9</td>\n      <td>16.837102</td>\n      <td>13.223908</td>\n    </tr>\n  </tbody>\n</table>\n</div>"
     },
     "metadata": {},
     "execution_count": 33
    }
   ],
   "source": [
    "data_ads[\"lm3\"] = lm3.predict(data_ads[[\"TV\", \"Radio\"]])\n",
    "data_ads[[\"TV\", \"Radio\", \"Sales\", \"lm2\", \"lm3\"]].head()"
   ]
  },
  {
   "cell_type": "code",
   "execution_count": 34,
   "metadata": {},
   "outputs": [
    {
     "output_type": "execute_result",
     "data": {
      "text/plain": "556.9139800676181"
     },
     "metadata": {},
     "execution_count": 34
    }
   ],
   "source": [
    "# calculamos el SSD\n",
    "data_ads[\"RSE3\"] = data_ads[\"Sales\"] - data_ads[\"lm3\"]\n",
    "SSD3 = sum(data_ads[\"RSE3\"]**2)\n",
    "SSD3"
   ]
  },
  {
   "cell_type": "code",
   "execution_count": 39,
   "metadata": {},
   "outputs": [
    {
     "output_type": "execute_result",
     "data": {
      "text/plain": "(3.258656368650463, 1.6856446415208182)"
     },
     "metadata": {},
     "execution_count": 39
    }
   ],
   "source": [
    "RSE3 = np.sqrt(SSD3/(len(data_ads)-4)) # hay una variable mas (-3 -1)\n",
    "\n",
    "RSE, RSE3\n",
    "# mejora un huevo"
   ]
  },
  {
   "cell_type": "code",
   "execution_count": 37,
   "metadata": {},
   "outputs": [
    {
     "output_type": "execute_result",
     "data": {
      "text/plain": "'11.990450436855058%'"
     },
     "metadata": {},
     "execution_count": 37
    }
   ],
   "source": [
    "#Cuanto % no explica el modelo\n",
    "f\"{RSE3/media*100}%\""
   ]
  },
  {
   "cell_type": "markdown",
   "metadata": {},
   "source": [
    "Añadamos los periódicos"
   ]
  },
  {
   "cell_type": "code",
   "execution_count": 38,
   "metadata": {},
   "outputs": [
    {
     "output_type": "execute_result",
     "data": {
      "text/plain": "<class 'statsmodels.iolib.summary.Summary'>\n\"\"\"\n                            OLS Regression Results                            \n==============================================================================\nDep. Variable:                  Sales   R-squared:                       0.897\nModel:                            OLS   Adj. R-squared:                  0.896\nMethod:                 Least Squares   F-statistic:                     570.3\nDate:                Tue, 18 Aug 2020   Prob (F-statistic):           1.58e-96\nTime:                        23:04:11   Log-Likelihood:                -386.18\nNo. Observations:                 200   AIC:                             780.4\nDf Residuals:                     196   BIC:                             793.6\nDf Model:                           3                                         \nCovariance Type:            nonrobust                                         \n==============================================================================\n                 coef    std err          t      P>|t|      [0.025      0.975]\n------------------------------------------------------------------------------\nIntercept      2.9389      0.312      9.422      0.000       2.324       3.554\nTV             0.0458      0.001     32.809      0.000       0.043       0.049\nRadio          0.1885      0.009     21.893      0.000       0.172       0.206\nNewspaper     -0.0010      0.006     -0.177      0.860      -0.013       0.011\n==============================================================================\nOmnibus:                       60.414   Durbin-Watson:                   2.084\nProb(Omnibus):                  0.000   Jarque-Bera (JB):              151.241\nSkew:                          -1.327   Prob(JB):                     1.44e-33\nKurtosis:                       6.332   Cond. No.                         454.\n==============================================================================\n\nWarnings:\n[1] Standard Errors assume that the covariance matrix of the errors is correctly specified.\n\"\"\"",
      "text/html": "<table class=\"simpletable\">\n<caption>OLS Regression Results</caption>\n<tr>\n  <th>Dep. Variable:</th>          <td>Sales</td>      <th>  R-squared:         </th> <td>   0.897</td>\n</tr>\n<tr>\n  <th>Model:</th>                   <td>OLS</td>       <th>  Adj. R-squared:    </th> <td>   0.896</td>\n</tr>\n<tr>\n  <th>Method:</th>             <td>Least Squares</td>  <th>  F-statistic:       </th> <td>   570.3</td>\n</tr>\n<tr>\n  <th>Date:</th>             <td>Tue, 18 Aug 2020</td> <th>  Prob (F-statistic):</th> <td>1.58e-96</td>\n</tr>\n<tr>\n  <th>Time:</th>                 <td>23:04:11</td>     <th>  Log-Likelihood:    </th> <td> -386.18</td>\n</tr>\n<tr>\n  <th>No. Observations:</th>      <td>   200</td>      <th>  AIC:               </th> <td>   780.4</td>\n</tr>\n<tr>\n  <th>Df Residuals:</th>          <td>   196</td>      <th>  BIC:               </th> <td>   793.6</td>\n</tr>\n<tr>\n  <th>Df Model:</th>              <td>     3</td>      <th>                     </th>     <td> </td>   \n</tr>\n<tr>\n  <th>Covariance Type:</th>      <td>nonrobust</td>    <th>                     </th>     <td> </td>   \n</tr>\n</table>\n<table class=\"simpletable\">\n<tr>\n      <td></td>         <th>coef</th>     <th>std err</th>      <th>t</th>      <th>P>|t|</th>  <th>[0.025</th>    <th>0.975]</th>  \n</tr>\n<tr>\n  <th>Intercept</th> <td>    2.9389</td> <td>    0.312</td> <td>    9.422</td> <td> 0.000</td> <td>    2.324</td> <td>    3.554</td>\n</tr>\n<tr>\n  <th>TV</th>        <td>    0.0458</td> <td>    0.001</td> <td>   32.809</td> <td> 0.000</td> <td>    0.043</td> <td>    0.049</td>\n</tr>\n<tr>\n  <th>Radio</th>     <td>    0.1885</td> <td>    0.009</td> <td>   21.893</td> <td> 0.000</td> <td>    0.172</td> <td>    0.206</td>\n</tr>\n<tr>\n  <th>Newspaper</th> <td>   -0.0010</td> <td>    0.006</td> <td>   -0.177</td> <td> 0.860</td> <td>   -0.013</td> <td>    0.011</td>\n</tr>\n</table>\n<table class=\"simpletable\">\n<tr>\n  <th>Omnibus:</th>       <td>60.414</td> <th>  Durbin-Watson:     </th> <td>   2.084</td>\n</tr>\n<tr>\n  <th>Prob(Omnibus):</th> <td> 0.000</td> <th>  Jarque-Bera (JB):  </th> <td> 151.241</td>\n</tr>\n<tr>\n  <th>Skew:</th>          <td>-1.327</td> <th>  Prob(JB):          </th> <td>1.44e-33</td>\n</tr>\n<tr>\n  <th>Kurtosis:</th>      <td> 6.332</td> <th>  Cond. No.          </th> <td>    454.</td>\n</tr>\n</table><br/><br/>Warnings:<br/>[1] Standard Errors assume that the covariance matrix of the errors is correctly specified."
     },
     "metadata": {},
     "execution_count": 38
    }
   ],
   "source": [
    "# Añadimos Newspaper al modelo exsistente\n",
    "lm4 = smf.ols(formula = \"Sales ~ TV + Radio + Newspaper\", data=data_ads).fit()\n",
    "lm4.summary()"
   ]
  },
  {
   "cell_type": "markdown",
   "metadata": {},
   "source": [
    "- R-squared:\t0.897 Apenas cambia\n",
    "- Prob (F-statistic):\t1.58e-96 Empeora\n",
    "- Newspaper\t-0.0010\t0.006\t-0.177\t0.860\t-0.013\t0.011  \n",
    "    - Intervalo de confianza centrado en 0. \n",
    "    - P valor casi 1, tan alto que podemos aceptar la hipótesis nula \n",
    "    - coeficiente negativo (invertir en periodico estropea? no es util al modelo)\n",
    "\n",
    "Es menos eficaz al tener una variable mas y predice peor. ¿Por que pasa esto?\n",
    "\n",
    "### Multicodinealidad"
   ]
  },
  {
   "cell_type": "code",
   "execution_count": null,
   "metadata": {},
   "outputs": [],
   "source": []
  }
 ]
}