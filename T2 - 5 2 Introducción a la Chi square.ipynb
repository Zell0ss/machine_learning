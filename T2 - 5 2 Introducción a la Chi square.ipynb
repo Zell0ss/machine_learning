{
 "nbformat": 4,
 "nbformat_minor": 2,
 "metadata": {
  "language_info": {
   "name": "python",
   "codemirror_mode": {
    "name": "ipython",
    "version": 3
   },
   "version": "3.7.4-final"
  },
  "orig_nbformat": 2,
  "file_extension": ".py",
  "mimetype": "text/x-python",
  "name": "python",
  "npconvert_exporter": "python",
  "pygments_lexer": "ipython3",
  "version": 3,
  "kernelspec": {
   "name": "python37464bitvenvvenv2297e9b88bbf4152a756cbf8f6fbef95",
   "display_name": "Python 3.7.4 64-bit ('.venv': venv)"
  }
 },
 "cells": [
  {
   "cell_type": "markdown",
   "metadata": {},
   "source": [
    "## Gentle Introduction to Chi square test for independence\n",
    "\n",
    "https://towardsdatascience.com/gentle-introduction-to-chi-square-test-for-independence-7182a7414a95\n",
    "\n",
    "The Chi-square test for independence is also called Pearson’s chi-square test. There is three ways to use chi-square.\n",
    "- Bondad del ajuste/Goodness-of-fit: how different your data is to the expected value\n",
    "- Test de independencia/test for independence: shows how two sets of data are independent of each other\n",
    "- Test de homogeneidad/test for homogeneity: determines if two or more populations have the same distribution of a single categorical variable.\n",
    "\n",
    "### Chi-square test for independence\n",
    "First, the libraries:"
   ]
  },
  {
   "cell_type": "code",
   "execution_count": 3,
   "metadata": {},
   "outputs": [],
   "source": [
    "from scipy.stats import chi2_contingency  # this is the one we will use \n",
    "from scipy.stats import chisquare         # this is used for goodness-to-fit tests\n",
    "import pandas as pd\n",
    "import numpy as np\n",
    "from IPython.display import Image         # para incluir imagenes local"
   ]
  },
  {
   "cell_type": "markdown",
   "metadata": {},
   "source": [
    "First of all we will create the sample data.  Let’s say we collected data on the favorite color of T-shirts for men and women. We want to find out whether color and gender are independent or not. We create a small sample data using the Pandas dataframe and we will store our data in a variable called tshirts."
   ]
  },
  {
   "cell_type": "code",
   "execution_count": 4,
   "metadata": {},
   "outputs": [
    {
     "output_type": "execute_result",
     "data": {
      "text/plain": "        Black  White  Red  Blue\nMale       48     22   33    47\nFemale     35     36   42    27",
      "text/html": "<div>\n<style scoped>\n    .dataframe tbody tr th:only-of-type {\n        vertical-align: middle;\n    }\n\n    .dataframe tbody tr th {\n        vertical-align: top;\n    }\n\n    .dataframe thead th {\n        text-align: right;\n    }\n</style>\n<table border=\"1\" class=\"dataframe\">\n  <thead>\n    <tr style=\"text-align: right;\">\n      <th></th>\n      <th>Black</th>\n      <th>White</th>\n      <th>Red</th>\n      <th>Blue</th>\n    </tr>\n  </thead>\n  <tbody>\n    <tr>\n      <th>Male</th>\n      <td>48</td>\n      <td>22</td>\n      <td>33</td>\n      <td>47</td>\n    </tr>\n    <tr>\n      <th>Female</th>\n      <td>35</td>\n      <td>36</td>\n      <td>42</td>\n      <td>27</td>\n    </tr>\n  </tbody>\n</table>\n</div>"
     },
     "metadata": {},
     "execution_count": 4
    }
   ],
   "source": [
    "tshirts = pd.DataFrame(\n",
    "    [\n",
    "        [48,22,33,47],\n",
    "        [35,36,42,27]\n",
    "    ],\n",
    "    index=[\"Male\",\"Female\"],\n",
    "    columns=[\"Black\",\"White\",\"Red\",\"Blue\"])\n",
    "tshirts"
   ]
  },
  {
   "cell_type": "markdown",
   "metadata": {},
   "source": [
    "### chi2_contingency\n",
    "\n",
    "Para un número finito de categorías o valores que nuestro estadístico puede tomar, definimos la chi cuadrada como el sumatorio por cada categoría de:\n",
    "\n",
    "````latex notation````\n",
    "\\begin{equation}\n",
    "\\chi^2=\\Sigma\\frac{(O-E)^2}{E} \\\\\n",
    "\\text{Donde O es el numero de veces (muestras) que aparece esa categoría en nuestra muestra y E es el esperado.}\n",
    "\\end{equation}\n",
    "\n",
    "\n",
    "SciPy’s chi2_contingency() returns four values.\n",
    "\n",
    "- 𝜒2 value: The 𝜒2 equation tells us to find the square of the difference between the actual value and expected value and divide it by the expected value. Then add all together to find the 𝜒2 value.\n",
    "- p-value: the probability of seing the effect when the H0 is true. We want it low, usually lower than 0.05 to reject the H0.\n",
    "- degree of freedom/ grados de libertad: they are the number of categories in our sample minus one if its a unidimensional array (goodness of fit). For example: throwing a coin would be 2-1=1 degree of freedom, throwing a dice would be 5 dof. Our own sample of colors as is a bidimensional array; this is calculated as dof = (the number of rows -1) x (the number of columns -1)\n",
    "- expected values/contingency table: You calculate the expected values from the observed data as if they were evenly distributed, using the following formula: \n",
    "\\begin{equation}\n",
    "\\chi^2=\\frac{rowTotal * columnTotal}{grandTotal} \\\\\n",
    "\\end{equation}\n",
    "expected value = (row total x column total)/\n"
   ]
  },
  {
   "cell_type": "code",
   "execution_count": 5,
   "metadata": {},
   "outputs": [
    {
     "output_type": "execute_result",
     "data": {
      "text/plain": "(11.56978992417547,\n 0.00901202511379703,\n 3,\n array([[42.93103448, 30.        , 38.79310345, 38.27586207],\n        [40.06896552, 28.        , 36.20689655, 35.72413793]]))"
     },
     "metadata": {},
     "execution_count": 5
    }
   ],
   "source": [
    "chi2_contingency(tshirts)"
   ]
  },
  {
   "cell_type": "markdown",
   "metadata": {},
   "source": [
    "Let's print all this a little neater. \n",
    "First the original table, then the calculations\n"
   ]
  },
  {
   "cell_type": "code",
   "execution_count": 6,
   "metadata": {},
   "outputs": [
    {
     "output_type": "execute_result",
     "data": {
      "text/plain": "        Black  White  Red  Blue\nMale       48     22   33    47\nFemale     35     36   42    27",
      "text/html": "<div>\n<style scoped>\n    .dataframe tbody tr th:only-of-type {\n        vertical-align: middle;\n    }\n\n    .dataframe tbody tr th {\n        vertical-align: top;\n    }\n\n    .dataframe thead th {\n        text-align: right;\n    }\n</style>\n<table border=\"1\" class=\"dataframe\">\n  <thead>\n    <tr style=\"text-align: right;\">\n      <th></th>\n      <th>Black</th>\n      <th>White</th>\n      <th>Red</th>\n      <th>Blue</th>\n    </tr>\n  </thead>\n  <tbody>\n    <tr>\n      <th>Male</th>\n      <td>48</td>\n      <td>22</td>\n      <td>33</td>\n      <td>47</td>\n    </tr>\n    <tr>\n      <th>Female</th>\n      <td>35</td>\n      <td>36</td>\n      <td>42</td>\n      <td>27</td>\n    </tr>\n  </tbody>\n</table>\n</div>"
     },
     "metadata": {},
     "execution_count": 6
    }
   ],
   "source": [
    "tshirts"
   ]
  },
  {
   "cell_type": "code",
   "execution_count": 7,
   "metadata": {},
   "outputs": [
    {
     "output_type": "stream",
     "name": "stdout",
     "text": "𝜒2: 11.56978992417547\np-value: 0.00901202511379703\ndegrees of freedom: 3\n"
    },
    {
     "output_type": "execute_result",
     "data": {
      "text/plain": "        Black  White    Red   Blue\nMale    42.93   30.0  38.79  38.28\nFemale  40.07   28.0  36.21  35.72",
      "text/html": "<div>\n<style scoped>\n    .dataframe tbody tr th:only-of-type {\n        vertical-align: middle;\n    }\n\n    .dataframe tbody tr th {\n        vertical-align: top;\n    }\n\n    .dataframe thead th {\n        text-align: right;\n    }\n</style>\n<table border=\"1\" class=\"dataframe\">\n  <thead>\n    <tr style=\"text-align: right;\">\n      <th></th>\n      <th>Black</th>\n      <th>White</th>\n      <th>Red</th>\n      <th>Blue</th>\n    </tr>\n  </thead>\n  <tbody>\n    <tr>\n      <th>Male</th>\n      <td>42.93</td>\n      <td>30.0</td>\n      <td>38.79</td>\n      <td>38.28</td>\n    </tr>\n    <tr>\n      <th>Female</th>\n      <td>40.07</td>\n      <td>28.0</td>\n      <td>36.21</td>\n      <td>35.72</td>\n    </tr>\n  </tbody>\n</table>\n</div>"
     },
     "metadata": {},
     "execution_count": 7
    }
   ],
   "source": [
    "dataarray=chi2_contingency(tshirts)\n",
    "print (\"𝜒2: {}\".format(dataarray[0]))\n",
    "print (\"p-value: {}\".format(dataarray[1]))\n",
    "print (\"degrees of freedom: {}\".format(dataarray[2]))\n",
    "expected_tshirts = pd.DataFrame(\n",
    "    data=dataarray[3], \n",
    "    index=[\"Male\",\"Female\"],\n",
    "    columns=[\"Black\",\"White\",\"Red\",\"Blue\"]\n",
    ").round(2)\n",
    "\n",
    "expected_tshirts"
   ]
  },
  {
   "cell_type": "markdown",
   "metadata": {},
   "source": [
    "First of all, the calculation of the contingency table, if we were to do it manually would be:"
   ]
  },
  {
   "cell_type": "code",
   "execution_count": 11,
   "metadata": {},
   "outputs": [
    {
     "output_type": "error",
     "ename": "FileNotFoundError",
     "evalue": "No such file or directory: './contingency_table.png'",
     "traceback": [
      "\u001b[1;31m---------------------------------------------------------------------------\u001b[0m",
      "\u001b[1;31mTypeError\u001b[0m                                 Traceback (most recent call last)",
      "\u001b[1;32me:\\Dropbox\\CODING\\Machine Learning\\machine_learning\\.venv\\lib\\site-packages\\IPython\\core\\display.py\u001b[0m in \u001b[0;36m_data_and_metadata\u001b[1;34m(self, always_both)\u001b[0m\n\u001b[0;32m   1271\u001b[0m         \u001b[1;32mtry\u001b[0m\u001b[1;33m:\u001b[0m\u001b[1;33m\u001b[0m\u001b[1;33m\u001b[0m\u001b[0m\n\u001b[1;32m-> 1272\u001b[1;33m             \u001b[0mb64_data\u001b[0m \u001b[1;33m=\u001b[0m \u001b[0mb2a_base64\u001b[0m\u001b[1;33m(\u001b[0m\u001b[0mself\u001b[0m\u001b[1;33m.\u001b[0m\u001b[0mdata\u001b[0m\u001b[1;33m)\u001b[0m\u001b[1;33m.\u001b[0m\u001b[0mdecode\u001b[0m\u001b[1;33m(\u001b[0m\u001b[1;34m'ascii'\u001b[0m\u001b[1;33m)\u001b[0m\u001b[1;33m\u001b[0m\u001b[1;33m\u001b[0m\u001b[0m\n\u001b[0m\u001b[0;32m   1273\u001b[0m         \u001b[1;32mexcept\u001b[0m \u001b[0mTypeError\u001b[0m\u001b[1;33m:\u001b[0m\u001b[1;33m\u001b[0m\u001b[1;33m\u001b[0m\u001b[0m\n",
      "\u001b[1;31mTypeError\u001b[0m: a bytes-like object is required, not 'str'",
      "\nDuring handling of the above exception, another exception occurred:\n",
      "\u001b[1;31mFileNotFoundError\u001b[0m                         Traceback (most recent call last)",
      "\u001b[1;32me:\\Dropbox\\CODING\\Machine Learning\\machine_learning\\.venv\\lib\\site-packages\\IPython\\core\\formatters.py\u001b[0m in \u001b[0;36m__call__\u001b[1;34m(self, obj, include, exclude)\u001b[0m\n\u001b[0;32m    968\u001b[0m \u001b[1;33m\u001b[0m\u001b[0m\n\u001b[0;32m    969\u001b[0m             \u001b[1;32mif\u001b[0m \u001b[0mmethod\u001b[0m \u001b[1;32mis\u001b[0m \u001b[1;32mnot\u001b[0m \u001b[1;32mNone\u001b[0m\u001b[1;33m:\u001b[0m\u001b[1;33m\u001b[0m\u001b[1;33m\u001b[0m\u001b[0m\n\u001b[1;32m--> 970\u001b[1;33m                 \u001b[1;32mreturn\u001b[0m \u001b[0mmethod\u001b[0m\u001b[1;33m(\u001b[0m\u001b[0minclude\u001b[0m\u001b[1;33m=\u001b[0m\u001b[0minclude\u001b[0m\u001b[1;33m,\u001b[0m \u001b[0mexclude\u001b[0m\u001b[1;33m=\u001b[0m\u001b[0mexclude\u001b[0m\u001b[1;33m)\u001b[0m\u001b[1;33m\u001b[0m\u001b[1;33m\u001b[0m\u001b[0m\n\u001b[0m\u001b[0;32m    971\u001b[0m             \u001b[1;32mreturn\u001b[0m \u001b[1;32mNone\u001b[0m\u001b[1;33m\u001b[0m\u001b[1;33m\u001b[0m\u001b[0m\n\u001b[0;32m    972\u001b[0m         \u001b[1;32melse\u001b[0m\u001b[1;33m:\u001b[0m\u001b[1;33m\u001b[0m\u001b[1;33m\u001b[0m\u001b[0m\n",
      "\u001b[1;32me:\\Dropbox\\CODING\\Machine Learning\\machine_learning\\.venv\\lib\\site-packages\\IPython\\core\\display.py\u001b[0m in \u001b[0;36m_repr_mimebundle_\u001b[1;34m(self, include, exclude)\u001b[0m\n\u001b[0;32m   1260\u001b[0m         \u001b[1;32mif\u001b[0m \u001b[0mself\u001b[0m\u001b[1;33m.\u001b[0m\u001b[0membed\u001b[0m\u001b[1;33m:\u001b[0m\u001b[1;33m\u001b[0m\u001b[1;33m\u001b[0m\u001b[0m\n\u001b[0;32m   1261\u001b[0m             \u001b[0mmimetype\u001b[0m \u001b[1;33m=\u001b[0m \u001b[0mself\u001b[0m\u001b[1;33m.\u001b[0m\u001b[0m_mimetype\u001b[0m\u001b[1;33m\u001b[0m\u001b[1;33m\u001b[0m\u001b[0m\n\u001b[1;32m-> 1262\u001b[1;33m             \u001b[0mdata\u001b[0m\u001b[1;33m,\u001b[0m \u001b[0mmetadata\u001b[0m \u001b[1;33m=\u001b[0m \u001b[0mself\u001b[0m\u001b[1;33m.\u001b[0m\u001b[0m_data_and_metadata\u001b[0m\u001b[1;33m(\u001b[0m\u001b[0malways_both\u001b[0m\u001b[1;33m=\u001b[0m\u001b[1;32mTrue\u001b[0m\u001b[1;33m)\u001b[0m\u001b[1;33m\u001b[0m\u001b[1;33m\u001b[0m\u001b[0m\n\u001b[0m\u001b[0;32m   1263\u001b[0m             \u001b[1;32mif\u001b[0m \u001b[0mmetadata\u001b[0m\u001b[1;33m:\u001b[0m\u001b[1;33m\u001b[0m\u001b[1;33m\u001b[0m\u001b[0m\n\u001b[0;32m   1264\u001b[0m                 \u001b[0mmetadata\u001b[0m \u001b[1;33m=\u001b[0m \u001b[1;33m{\u001b[0m\u001b[0mmimetype\u001b[0m\u001b[1;33m:\u001b[0m \u001b[0mmetadata\u001b[0m\u001b[1;33m}\u001b[0m\u001b[1;33m\u001b[0m\u001b[1;33m\u001b[0m\u001b[0m\n",
      "\u001b[1;32me:\\Dropbox\\CODING\\Machine Learning\\machine_learning\\.venv\\lib\\site-packages\\IPython\\core\\display.py\u001b[0m in \u001b[0;36m_data_and_metadata\u001b[1;34m(self, always_both)\u001b[0m\n\u001b[0;32m   1273\u001b[0m         \u001b[1;32mexcept\u001b[0m \u001b[0mTypeError\u001b[0m\u001b[1;33m:\u001b[0m\u001b[1;33m\u001b[0m\u001b[1;33m\u001b[0m\u001b[0m\n\u001b[0;32m   1274\u001b[0m             raise FileNotFoundError(\n\u001b[1;32m-> 1275\u001b[1;33m                 \"No such file or directory: '%s'\" % (self.data))\n\u001b[0m\u001b[0;32m   1276\u001b[0m         \u001b[0mmd\u001b[0m \u001b[1;33m=\u001b[0m \u001b[1;33m{\u001b[0m\u001b[1;33m}\u001b[0m\u001b[1;33m\u001b[0m\u001b[1;33m\u001b[0m\u001b[0m\n\u001b[0;32m   1277\u001b[0m         \u001b[1;32mif\u001b[0m \u001b[0mself\u001b[0m\u001b[1;33m.\u001b[0m\u001b[0mmetadata\u001b[0m\u001b[1;33m:\u001b[0m\u001b[1;33m\u001b[0m\u001b[1;33m\u001b[0m\u001b[0m\n",
      "\u001b[1;31mFileNotFoundError\u001b[0m: No such file or directory: './contingency_table.png'"
     ]
    },
    {
     "output_type": "error",
     "ename": "FileNotFoundError",
     "evalue": "No such file or directory: './contingency_table.png'",
     "traceback": [
      "\u001b[1;31m---------------------------------------------------------------------------\u001b[0m",
      "\u001b[1;31mTypeError\u001b[0m                                 Traceback (most recent call last)",
      "\u001b[1;32me:\\Dropbox\\CODING\\Machine Learning\\machine_learning\\.venv\\lib\\site-packages\\IPython\\core\\display.py\u001b[0m in \u001b[0;36m_data_and_metadata\u001b[1;34m(self, always_both)\u001b[0m\n\u001b[0;32m   1271\u001b[0m         \u001b[1;32mtry\u001b[0m\u001b[1;33m:\u001b[0m\u001b[1;33m\u001b[0m\u001b[1;33m\u001b[0m\u001b[0m\n\u001b[1;32m-> 1272\u001b[1;33m             \u001b[0mb64_data\u001b[0m \u001b[1;33m=\u001b[0m \u001b[0mb2a_base64\u001b[0m\u001b[1;33m(\u001b[0m\u001b[0mself\u001b[0m\u001b[1;33m.\u001b[0m\u001b[0mdata\u001b[0m\u001b[1;33m)\u001b[0m\u001b[1;33m.\u001b[0m\u001b[0mdecode\u001b[0m\u001b[1;33m(\u001b[0m\u001b[1;34m'ascii'\u001b[0m\u001b[1;33m)\u001b[0m\u001b[1;33m\u001b[0m\u001b[1;33m\u001b[0m\u001b[0m\n\u001b[0m\u001b[0;32m   1273\u001b[0m         \u001b[1;32mexcept\u001b[0m \u001b[0mTypeError\u001b[0m\u001b[1;33m:\u001b[0m\u001b[1;33m\u001b[0m\u001b[1;33m\u001b[0m\u001b[0m\n",
      "\u001b[1;31mTypeError\u001b[0m: a bytes-like object is required, not 'str'",
      "\nDuring handling of the above exception, another exception occurred:\n",
      "\u001b[1;31mFileNotFoundError\u001b[0m                         Traceback (most recent call last)",
      "\u001b[1;32me:\\Dropbox\\CODING\\Machine Learning\\machine_learning\\.venv\\lib\\site-packages\\IPython\\core\\formatters.py\u001b[0m in \u001b[0;36m__call__\u001b[1;34m(self, obj)\u001b[0m\n\u001b[0;32m    343\u001b[0m             \u001b[0mmethod\u001b[0m \u001b[1;33m=\u001b[0m \u001b[0mget_real_method\u001b[0m\u001b[1;33m(\u001b[0m\u001b[0mobj\u001b[0m\u001b[1;33m,\u001b[0m \u001b[0mself\u001b[0m\u001b[1;33m.\u001b[0m\u001b[0mprint_method\u001b[0m\u001b[1;33m)\u001b[0m\u001b[1;33m\u001b[0m\u001b[1;33m\u001b[0m\u001b[0m\n\u001b[0;32m    344\u001b[0m             \u001b[1;32mif\u001b[0m \u001b[0mmethod\u001b[0m \u001b[1;32mis\u001b[0m \u001b[1;32mnot\u001b[0m \u001b[1;32mNone\u001b[0m\u001b[1;33m:\u001b[0m\u001b[1;33m\u001b[0m\u001b[1;33m\u001b[0m\u001b[0m\n\u001b[1;32m--> 345\u001b[1;33m                 \u001b[1;32mreturn\u001b[0m \u001b[0mmethod\u001b[0m\u001b[1;33m(\u001b[0m\u001b[1;33m)\u001b[0m\u001b[1;33m\u001b[0m\u001b[1;33m\u001b[0m\u001b[0m\n\u001b[0m\u001b[0;32m    346\u001b[0m             \u001b[1;32mreturn\u001b[0m \u001b[1;32mNone\u001b[0m\u001b[1;33m\u001b[0m\u001b[1;33m\u001b[0m\u001b[0m\n\u001b[0;32m    347\u001b[0m         \u001b[1;32melse\u001b[0m\u001b[1;33m:\u001b[0m\u001b[1;33m\u001b[0m\u001b[1;33m\u001b[0m\u001b[0m\n",
      "\u001b[1;32me:\\Dropbox\\CODING\\Machine Learning\\machine_learning\\.venv\\lib\\site-packages\\IPython\\core\\display.py\u001b[0m in \u001b[0;36m_repr_png_\u001b[1;34m(self)\u001b[0m\n\u001b[0;32m   1290\u001b[0m     \u001b[1;32mdef\u001b[0m \u001b[0m_repr_png_\u001b[0m\u001b[1;33m(\u001b[0m\u001b[0mself\u001b[0m\u001b[1;33m)\u001b[0m\u001b[1;33m:\u001b[0m\u001b[1;33m\u001b[0m\u001b[1;33m\u001b[0m\u001b[0m\n\u001b[0;32m   1291\u001b[0m         \u001b[1;32mif\u001b[0m \u001b[0mself\u001b[0m\u001b[1;33m.\u001b[0m\u001b[0membed\u001b[0m \u001b[1;32mand\u001b[0m \u001b[0mself\u001b[0m\u001b[1;33m.\u001b[0m\u001b[0mformat\u001b[0m \u001b[1;33m==\u001b[0m \u001b[0mself\u001b[0m\u001b[1;33m.\u001b[0m\u001b[0m_FMT_PNG\u001b[0m\u001b[1;33m:\u001b[0m\u001b[1;33m\u001b[0m\u001b[1;33m\u001b[0m\u001b[0m\n\u001b[1;32m-> 1292\u001b[1;33m             \u001b[1;32mreturn\u001b[0m \u001b[0mself\u001b[0m\u001b[1;33m.\u001b[0m\u001b[0m_data_and_metadata\u001b[0m\u001b[1;33m(\u001b[0m\u001b[1;33m)\u001b[0m\u001b[1;33m\u001b[0m\u001b[1;33m\u001b[0m\u001b[0m\n\u001b[0m\u001b[0;32m   1293\u001b[0m \u001b[1;33m\u001b[0m\u001b[0m\n\u001b[0;32m   1294\u001b[0m     \u001b[1;32mdef\u001b[0m \u001b[0m_repr_jpeg_\u001b[0m\u001b[1;33m(\u001b[0m\u001b[0mself\u001b[0m\u001b[1;33m)\u001b[0m\u001b[1;33m:\u001b[0m\u001b[1;33m\u001b[0m\u001b[1;33m\u001b[0m\u001b[0m\n",
      "\u001b[1;32me:\\Dropbox\\CODING\\Machine Learning\\machine_learning\\.venv\\lib\\site-packages\\IPython\\core\\display.py\u001b[0m in \u001b[0;36m_data_and_metadata\u001b[1;34m(self, always_both)\u001b[0m\n\u001b[0;32m   1273\u001b[0m         \u001b[1;32mexcept\u001b[0m \u001b[0mTypeError\u001b[0m\u001b[1;33m:\u001b[0m\u001b[1;33m\u001b[0m\u001b[1;33m\u001b[0m\u001b[0m\n\u001b[0;32m   1274\u001b[0m             raise FileNotFoundError(\n\u001b[1;32m-> 1275\u001b[1;33m                 \"No such file or directory: '%s'\" % (self.data))\n\u001b[0m\u001b[0;32m   1276\u001b[0m         \u001b[0mmd\u001b[0m \u001b[1;33m=\u001b[0m \u001b[1;33m{\u001b[0m\u001b[1;33m}\u001b[0m\u001b[1;33m\u001b[0m\u001b[1;33m\u001b[0m\u001b[0m\n\u001b[0;32m   1277\u001b[0m         \u001b[1;32mif\u001b[0m \u001b[0mself\u001b[0m\u001b[1;33m.\u001b[0m\u001b[0mmetadata\u001b[0m\u001b[1;33m:\u001b[0m\u001b[1;33m\u001b[0m\u001b[1;33m\u001b[0m\u001b[0m\n",
      "\u001b[1;31mFileNotFoundError\u001b[0m: No such file or directory: './contingency_table.png'"
     ]
    },
    {
     "output_type": "execute_result",
     "data": {
      "text/plain": "<IPython.core.display.Image object>"
     },
     "metadata": {},
     "execution_count": 11
    }
   ],
   "source": [
    "Image(\"./contingency_table.png\")"
   ]
  },
  {
   "cell_type": "markdown",
   "metadata": {},
   "source": [
    "The 𝜒2 equation tells us to find the square of the difference between the actual value and expected value and divide it by the expected value. Then add all together to find the 𝜒2 value. In this case we add both the male and female rows as if we had male-black, female-black, ... categories\n",
    "Having already the contingency table/expected values calculated it is easy to accomplish:"
   ]
  },
  {
   "cell_type": "code",
   "execution_count": null,
   "metadata": {},
   "outputs": [],
   "source": [
    "Image(\"./chi_cuadrado.png\")"
   ]
  },
  {
   "cell_type": "markdown",
   "metadata": {},
   "source": [
    "### P value\n",
    "\n",
    "    https://www.machinelearningplus.com/statistics/p-value/\n",
    "    https://statisticsbyjim.com/hypothesis-testing/hypothesis-tests-significance-levels-alpha-p-values/\n",
    "    https://www.analyticsvidhya.com/blog/2015/09/hypothesis-testing-explained/\n",
    "\n",
    "\n",
    "We need to explain this a little more\n",
    "\n",
    "- null hypothesis (H0): The null hypothesis assumes there is ‘no effect’ or ‘relationship’ by default. For example: if you are testing if a drug treatment is effective or not, then the null hypothesis will assume there is not difference in outcome between the treated and untreated groups. It simply implies the absence of an effect. For chi square tests it means that there is no difference between expected frequencies and observed frequencies. Its counterpart is the Alternate hypothesis (HA) \n",
    "- The P Value basically helps to answer the question: ‘Does the data really represent the observed effect?’. This leads us to a more mathematical definition of P-Value: the P Value is the probability of seeing the effect(E) when the null hypothesis is true. \n",
    "\\begin{equation}\n",
    "PValue=P(E|H0) \n",
    "\\end{equation}\n",
    " \n",
    "When the p-value is low enough, we reject the null hypothesis and conclude the observed effect holds. This level of ‘low enough’ cutoff is called the alpha level, and you need to decide it before conducting a statistical test.\n",
    "\n",
    "So in this case, a p-value of 0.0090 means that we can reject the null hypothesis and conclude that there is a relatioship between the variables.\n",
    "\n",
    "### Critical values\n",
    "In order to find critical values, you need to import chi2 from scipy.state and define probability from the level of significance, 1%, 5% 10%, etc.\n"
   ]
  },
  {
   "cell_type": "code",
   "execution_count": null,
   "metadata": {},
   "outputs": [],
   "source": [
    "from scipy.stats import chi2\n",
    "significance = 0.01\n",
    "p = 1 - significance\n",
    "dof = chi2_contingency(tshirts)[2]\n",
    "critical_value = chi2.ppf(p, dof)\n",
    "critical_value"
   ]
  },
  {
   "cell_type": "code",
   "execution_count": null,
   "metadata": {},
   "outputs": [],
   "source": []
  },
  {
   "cell_type": "code",
   "execution_count": null,
   "metadata": {},
   "outputs": [],
   "source": []
  },
  {
   "cell_type": "code",
   "execution_count": null,
   "metadata": {},
   "outputs": [],
   "source": []
  }
 ]
}